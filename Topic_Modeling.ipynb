{
  "nbformat": 4,
  "nbformat_minor": 5,
  "metadata": {
    "kernelspec": {
      "display_name": "Python 3",
      "language": "python",
      "name": "python3"
    },
    "language_info": {
      "codemirror_mode": {
        "name": "ipython",
        "version": 3
      },
      "file_extension": ".py",
      "mimetype": "text/x-python",
      "name": "python",
      "nbconvert_exporter": "python",
      "pygments_lexer": "ipython3",
      "version": "3.6.8"
    },
    "colab": {
      "name": "Topic_Modeling.ipynb",
      "provenance": [],
      "toc_visible": true
    },
    "widgets": {
      "application/vnd.jupyter.widget-state+json": {
        "22498cbfa75047b2bb0f20afe64a733f": {
          "model_module": "@jupyter-widgets/controls",
          "model_name": "HBoxModel",
          "state": {
            "_view_name": "HBoxView",
            "_dom_classes": [],
            "_model_name": "HBoxModel",
            "_view_module": "@jupyter-widgets/controls",
            "_model_module_version": "1.5.0",
            "_view_count": null,
            "_view_module_version": "1.5.0",
            "box_style": "",
            "layout": "IPY_MODEL_b97ee2c4ecd64e35a84a4708090dc98b",
            "_model_module": "@jupyter-widgets/controls",
            "children": [
              "IPY_MODEL_1e39f5ea2ef043baa679e293df639381",
              "IPY_MODEL_1c0a04e944c54bfaa4b33d95e0a78005"
            ]
          }
        },
        "b97ee2c4ecd64e35a84a4708090dc98b": {
          "model_module": "@jupyter-widgets/base",
          "model_name": "LayoutModel",
          "state": {
            "_view_name": "LayoutView",
            "grid_template_rows": null,
            "right": null,
            "justify_content": null,
            "_view_module": "@jupyter-widgets/base",
            "overflow": null,
            "_model_module_version": "1.2.0",
            "_view_count": null,
            "flex_flow": null,
            "width": null,
            "min_width": null,
            "border": null,
            "align_items": null,
            "bottom": null,
            "_model_module": "@jupyter-widgets/base",
            "top": null,
            "grid_column": null,
            "overflow_y": null,
            "overflow_x": null,
            "grid_auto_flow": null,
            "grid_area": null,
            "grid_template_columns": null,
            "flex": null,
            "_model_name": "LayoutModel",
            "justify_items": null,
            "grid_row": null,
            "max_height": null,
            "align_content": null,
            "visibility": null,
            "align_self": null,
            "height": null,
            "min_height": null,
            "padding": null,
            "grid_auto_rows": null,
            "grid_gap": null,
            "max_width": null,
            "order": null,
            "_view_module_version": "1.2.0",
            "grid_template_areas": null,
            "object_position": null,
            "object_fit": null,
            "grid_auto_columns": null,
            "margin": null,
            "display": null,
            "left": null
          }
        },
        "1e39f5ea2ef043baa679e293df639381": {
          "model_module": "@jupyter-widgets/controls",
          "model_name": "FloatProgressModel",
          "state": {
            "_view_name": "ProgressView",
            "style": "IPY_MODEL_7fca0b2b9d554db692d46289952d7182",
            "_dom_classes": [],
            "description": "100%",
            "_model_name": "FloatProgressModel",
            "bar_style": "success",
            "max": 255875,
            "_view_module": "@jupyter-widgets/controls",
            "_model_module_version": "1.5.0",
            "value": 255875,
            "_view_count": null,
            "_view_module_version": "1.5.0",
            "orientation": "horizontal",
            "min": 0,
            "description_tooltip": null,
            "_model_module": "@jupyter-widgets/controls",
            "layout": "IPY_MODEL_97195f7e1dbf4ed595e4f755a7422a18"
          }
        },
        "1c0a04e944c54bfaa4b33d95e0a78005": {
          "model_module": "@jupyter-widgets/controls",
          "model_name": "HTMLModel",
          "state": {
            "_view_name": "HTMLView",
            "style": "IPY_MODEL_63427c8dffc0473d9f5ab5770570316f",
            "_dom_classes": [],
            "description": "",
            "_model_name": "HTMLModel",
            "placeholder": "​",
            "_view_module": "@jupyter-widgets/controls",
            "_model_module_version": "1.5.0",
            "value": " 255875/255875 [01:04&lt;00:00, 3986.28it/s]",
            "_view_count": null,
            "_view_module_version": "1.5.0",
            "description_tooltip": null,
            "_model_module": "@jupyter-widgets/controls",
            "layout": "IPY_MODEL_ff54ee9403044ba9a752c072e0ac3283"
          }
        },
        "7fca0b2b9d554db692d46289952d7182": {
          "model_module": "@jupyter-widgets/controls",
          "model_name": "ProgressStyleModel",
          "state": {
            "_view_name": "StyleView",
            "_model_name": "ProgressStyleModel",
            "description_width": "initial",
            "_view_module": "@jupyter-widgets/base",
            "_model_module_version": "1.5.0",
            "_view_count": null,
            "_view_module_version": "1.2.0",
            "bar_color": null,
            "_model_module": "@jupyter-widgets/controls"
          }
        },
        "97195f7e1dbf4ed595e4f755a7422a18": {
          "model_module": "@jupyter-widgets/base",
          "model_name": "LayoutModel",
          "state": {
            "_view_name": "LayoutView",
            "grid_template_rows": null,
            "right": null,
            "justify_content": null,
            "_view_module": "@jupyter-widgets/base",
            "overflow": null,
            "_model_module_version": "1.2.0",
            "_view_count": null,
            "flex_flow": null,
            "width": null,
            "min_width": null,
            "border": null,
            "align_items": null,
            "bottom": null,
            "_model_module": "@jupyter-widgets/base",
            "top": null,
            "grid_column": null,
            "overflow_y": null,
            "overflow_x": null,
            "grid_auto_flow": null,
            "grid_area": null,
            "grid_template_columns": null,
            "flex": null,
            "_model_name": "LayoutModel",
            "justify_items": null,
            "grid_row": null,
            "max_height": null,
            "align_content": null,
            "visibility": null,
            "align_self": null,
            "height": null,
            "min_height": null,
            "padding": null,
            "grid_auto_rows": null,
            "grid_gap": null,
            "max_width": null,
            "order": null,
            "_view_module_version": "1.2.0",
            "grid_template_areas": null,
            "object_position": null,
            "object_fit": null,
            "grid_auto_columns": null,
            "margin": null,
            "display": null,
            "left": null
          }
        },
        "63427c8dffc0473d9f5ab5770570316f": {
          "model_module": "@jupyter-widgets/controls",
          "model_name": "DescriptionStyleModel",
          "state": {
            "_view_name": "StyleView",
            "_model_name": "DescriptionStyleModel",
            "description_width": "",
            "_view_module": "@jupyter-widgets/base",
            "_model_module_version": "1.5.0",
            "_view_count": null,
            "_view_module_version": "1.2.0",
            "_model_module": "@jupyter-widgets/controls"
          }
        },
        "ff54ee9403044ba9a752c072e0ac3283": {
          "model_module": "@jupyter-widgets/base",
          "model_name": "LayoutModel",
          "state": {
            "_view_name": "LayoutView",
            "grid_template_rows": null,
            "right": null,
            "justify_content": null,
            "_view_module": "@jupyter-widgets/base",
            "overflow": null,
            "_model_module_version": "1.2.0",
            "_view_count": null,
            "flex_flow": null,
            "width": null,
            "min_width": null,
            "border": null,
            "align_items": null,
            "bottom": null,
            "_model_module": "@jupyter-widgets/base",
            "top": null,
            "grid_column": null,
            "overflow_y": null,
            "overflow_x": null,
            "grid_auto_flow": null,
            "grid_area": null,
            "grid_template_columns": null,
            "flex": null,
            "_model_name": "LayoutModel",
            "justify_items": null,
            "grid_row": null,
            "max_height": null,
            "align_content": null,
            "visibility": null,
            "align_self": null,
            "height": null,
            "min_height": null,
            "padding": null,
            "grid_auto_rows": null,
            "grid_gap": null,
            "max_width": null,
            "order": null,
            "_view_module_version": "1.2.0",
            "grid_template_areas": null,
            "object_position": null,
            "object_fit": null,
            "grid_auto_columns": null,
            "margin": null,
            "display": null,
            "left": null
          }
        },
        "9710eae9e5554049b7b6f55c2659538d": {
          "model_module": "@jupyter-widgets/controls",
          "model_name": "HBoxModel",
          "state": {
            "_view_name": "HBoxView",
            "_dom_classes": [],
            "_model_name": "HBoxModel",
            "_view_module": "@jupyter-widgets/controls",
            "_model_module_version": "1.5.0",
            "_view_count": null,
            "_view_module_version": "1.5.0",
            "box_style": "",
            "layout": "IPY_MODEL_026119d5927b4ff384350ed3a5759489",
            "_model_module": "@jupyter-widgets/controls",
            "children": [
              "IPY_MODEL_6fa155f7f61c4f8e8af2ceeb5f62bf41",
              "IPY_MODEL_250c9dfbdd634a959a1a3401c8a7e9ee"
            ]
          }
        },
        "026119d5927b4ff384350ed3a5759489": {
          "model_module": "@jupyter-widgets/base",
          "model_name": "LayoutModel",
          "state": {
            "_view_name": "LayoutView",
            "grid_template_rows": null,
            "right": null,
            "justify_content": null,
            "_view_module": "@jupyter-widgets/base",
            "overflow": null,
            "_model_module_version": "1.2.0",
            "_view_count": null,
            "flex_flow": null,
            "width": null,
            "min_width": null,
            "border": null,
            "align_items": null,
            "bottom": null,
            "_model_module": "@jupyter-widgets/base",
            "top": null,
            "grid_column": null,
            "overflow_y": null,
            "overflow_x": null,
            "grid_auto_flow": null,
            "grid_area": null,
            "grid_template_columns": null,
            "flex": null,
            "_model_name": "LayoutModel",
            "justify_items": null,
            "grid_row": null,
            "max_height": null,
            "align_content": null,
            "visibility": null,
            "align_self": null,
            "height": null,
            "min_height": null,
            "padding": null,
            "grid_auto_rows": null,
            "grid_gap": null,
            "max_width": null,
            "order": null,
            "_view_module_version": "1.2.0",
            "grid_template_areas": null,
            "object_position": null,
            "object_fit": null,
            "grid_auto_columns": null,
            "margin": null,
            "display": null,
            "left": null
          }
        },
        "6fa155f7f61c4f8e8af2ceeb5f62bf41": {
          "model_module": "@jupyter-widgets/controls",
          "model_name": "FloatProgressModel",
          "state": {
            "_view_name": "ProgressView",
            "style": "IPY_MODEL_0ffcec64dda249ed82cb0a518e032009",
            "_dom_classes": [],
            "description": "Batches: 100%",
            "_model_name": "FloatProgressModel",
            "bar_style": "success",
            "max": 6393,
            "_view_module": "@jupyter-widgets/controls",
            "_model_module_version": "1.5.0",
            "value": 6393,
            "_view_count": null,
            "_view_module_version": "1.5.0",
            "orientation": "horizontal",
            "min": 0,
            "description_tooltip": null,
            "_model_module": "@jupyter-widgets/controls",
            "layout": "IPY_MODEL_274e0489320b4b13993ff039c15bec24"
          }
        },
        "250c9dfbdd634a959a1a3401c8a7e9ee": {
          "model_module": "@jupyter-widgets/controls",
          "model_name": "HTMLModel",
          "state": {
            "_view_name": "HTMLView",
            "style": "IPY_MODEL_84d5fd7e99e54712879b268a6cbc2276",
            "_dom_classes": [],
            "description": "",
            "_model_name": "HTMLModel",
            "placeholder": "​",
            "_view_module": "@jupyter-widgets/controls",
            "_model_module_version": "1.5.0",
            "value": " 6393/6393 [09:23&lt;00:00, 11.34it/s]",
            "_view_count": null,
            "_view_module_version": "1.5.0",
            "description_tooltip": null,
            "_model_module": "@jupyter-widgets/controls",
            "layout": "IPY_MODEL_a055e622079d41b288fbee83c253767c"
          }
        },
        "0ffcec64dda249ed82cb0a518e032009": {
          "model_module": "@jupyter-widgets/controls",
          "model_name": "ProgressStyleModel",
          "state": {
            "_view_name": "StyleView",
            "_model_name": "ProgressStyleModel",
            "description_width": "initial",
            "_view_module": "@jupyter-widgets/base",
            "_model_module_version": "1.5.0",
            "_view_count": null,
            "_view_module_version": "1.2.0",
            "bar_color": null,
            "_model_module": "@jupyter-widgets/controls"
          }
        },
        "274e0489320b4b13993ff039c15bec24": {
          "model_module": "@jupyter-widgets/base",
          "model_name": "LayoutModel",
          "state": {
            "_view_name": "LayoutView",
            "grid_template_rows": null,
            "right": null,
            "justify_content": null,
            "_view_module": "@jupyter-widgets/base",
            "overflow": null,
            "_model_module_version": "1.2.0",
            "_view_count": null,
            "flex_flow": null,
            "width": null,
            "min_width": null,
            "border": null,
            "align_items": null,
            "bottom": null,
            "_model_module": "@jupyter-widgets/base",
            "top": null,
            "grid_column": null,
            "overflow_y": null,
            "overflow_x": null,
            "grid_auto_flow": null,
            "grid_area": null,
            "grid_template_columns": null,
            "flex": null,
            "_model_name": "LayoutModel",
            "justify_items": null,
            "grid_row": null,
            "max_height": null,
            "align_content": null,
            "visibility": null,
            "align_self": null,
            "height": null,
            "min_height": null,
            "padding": null,
            "grid_auto_rows": null,
            "grid_gap": null,
            "max_width": null,
            "order": null,
            "_view_module_version": "1.2.0",
            "grid_template_areas": null,
            "object_position": null,
            "object_fit": null,
            "grid_auto_columns": null,
            "margin": null,
            "display": null,
            "left": null
          }
        },
        "84d5fd7e99e54712879b268a6cbc2276": {
          "model_module": "@jupyter-widgets/controls",
          "model_name": "DescriptionStyleModel",
          "state": {
            "_view_name": "StyleView",
            "_model_name": "DescriptionStyleModel",
            "description_width": "",
            "_view_module": "@jupyter-widgets/base",
            "_model_module_version": "1.5.0",
            "_view_count": null,
            "_view_module_version": "1.2.0",
            "_model_module": "@jupyter-widgets/controls"
          }
        },
        "a055e622079d41b288fbee83c253767c": {
          "model_module": "@jupyter-widgets/base",
          "model_name": "LayoutModel",
          "state": {
            "_view_name": "LayoutView",
            "grid_template_rows": null,
            "right": null,
            "justify_content": null,
            "_view_module": "@jupyter-widgets/base",
            "overflow": null,
            "_model_module_version": "1.2.0",
            "_view_count": null,
            "flex_flow": null,
            "width": null,
            "min_width": null,
            "border": null,
            "align_items": null,
            "bottom": null,
            "_model_module": "@jupyter-widgets/base",
            "top": null,
            "grid_column": null,
            "overflow_y": null,
            "overflow_x": null,
            "grid_auto_flow": null,
            "grid_area": null,
            "grid_template_columns": null,
            "flex": null,
            "_model_name": "LayoutModel",
            "justify_items": null,
            "grid_row": null,
            "max_height": null,
            "align_content": null,
            "visibility": null,
            "align_self": null,
            "height": null,
            "min_height": null,
            "padding": null,
            "grid_auto_rows": null,
            "grid_gap": null,
            "max_width": null,
            "order": null,
            "_view_module_version": "1.2.0",
            "grid_template_areas": null,
            "object_position": null,
            "object_fit": null,
            "grid_auto_columns": null,
            "margin": null,
            "display": null,
            "left": null
          }
        },
        "d785ff38024c4409985d91ae9d54f3a6": {
          "model_module": "@jupyter-widgets/controls",
          "model_name": "HBoxModel",
          "state": {
            "_view_name": "HBoxView",
            "_dom_classes": [],
            "_model_name": "HBoxModel",
            "_view_module": "@jupyter-widgets/controls",
            "_model_module_version": "1.5.0",
            "_view_count": null,
            "_view_module_version": "1.5.0",
            "box_style": "",
            "layout": "IPY_MODEL_dab4adff9e284ac9b04a9feb32e6999f",
            "_model_module": "@jupyter-widgets/controls",
            "children": [
              "IPY_MODEL_c4bc05bc7aec40018a942f7ec12bb07e",
              "IPY_MODEL_3611b1f1417b450da33265068c9643a4"
            ]
          }
        },
        "dab4adff9e284ac9b04a9feb32e6999f": {
          "model_module": "@jupyter-widgets/base",
          "model_name": "LayoutModel",
          "state": {
            "_view_name": "LayoutView",
            "grid_template_rows": null,
            "right": null,
            "justify_content": null,
            "_view_module": "@jupyter-widgets/base",
            "overflow": null,
            "_model_module_version": "1.2.0",
            "_view_count": null,
            "flex_flow": null,
            "width": null,
            "min_width": null,
            "border": null,
            "align_items": null,
            "bottom": null,
            "_model_module": "@jupyter-widgets/base",
            "top": null,
            "grid_column": null,
            "overflow_y": null,
            "overflow_x": null,
            "grid_auto_flow": null,
            "grid_area": null,
            "grid_template_columns": null,
            "flex": null,
            "_model_name": "LayoutModel",
            "justify_items": null,
            "grid_row": null,
            "max_height": null,
            "align_content": null,
            "visibility": null,
            "align_self": null,
            "height": null,
            "min_height": null,
            "padding": null,
            "grid_auto_rows": null,
            "grid_gap": null,
            "max_width": null,
            "order": null,
            "_view_module_version": "1.2.0",
            "grid_template_areas": null,
            "object_position": null,
            "object_fit": null,
            "grid_auto_columns": null,
            "margin": null,
            "display": null,
            "left": null
          }
        },
        "c4bc05bc7aec40018a942f7ec12bb07e": {
          "model_module": "@jupyter-widgets/controls",
          "model_name": "FloatProgressModel",
          "state": {
            "_view_name": "ProgressView",
            "style": "IPY_MODEL_07dcb8a290f8406a99244af123fafeba",
            "_dom_classes": [],
            "description": "Clusters: 100%",
            "_model_name": "FloatProgressModel",
            "bar_style": "success",
            "max": 1052,
            "_view_module": "@jupyter-widgets/controls",
            "_model_module_version": "1.5.0",
            "value": 1052,
            "_view_count": null,
            "_view_module_version": "1.5.0",
            "orientation": "horizontal",
            "min": 0,
            "description_tooltip": null,
            "_model_module": "@jupyter-widgets/controls",
            "layout": "IPY_MODEL_9d0dd40e2f1341359ddbbab17a0a76e4"
          }
        },
        "3611b1f1417b450da33265068c9643a4": {
          "model_module": "@jupyter-widgets/controls",
          "model_name": "HTMLModel",
          "state": {
            "_view_name": "HTMLView",
            "style": "IPY_MODEL_997fc8c5bf9649518d5c4257b1f7bef6",
            "_dom_classes": [],
            "description": "",
            "_model_name": "HTMLModel",
            "placeholder": "​",
            "_view_module": "@jupyter-widgets/controls",
            "_model_module_version": "1.5.0",
            "value": " 1052/1052 [00:14&lt;00:00, 73.44it/s]",
            "_view_count": null,
            "_view_module_version": "1.5.0",
            "description_tooltip": null,
            "_model_module": "@jupyter-widgets/controls",
            "layout": "IPY_MODEL_fce0f42b082a4439a4f9b14c5e1e2964"
          }
        },
        "07dcb8a290f8406a99244af123fafeba": {
          "model_module": "@jupyter-widgets/controls",
          "model_name": "ProgressStyleModel",
          "state": {
            "_view_name": "StyleView",
            "_model_name": "ProgressStyleModel",
            "description_width": "initial",
            "_view_module": "@jupyter-widgets/base",
            "_model_module_version": "1.5.0",
            "_view_count": null,
            "_view_module_version": "1.2.0",
            "bar_color": null,
            "_model_module": "@jupyter-widgets/controls"
          }
        },
        "9d0dd40e2f1341359ddbbab17a0a76e4": {
          "model_module": "@jupyter-widgets/base",
          "model_name": "LayoutModel",
          "state": {
            "_view_name": "LayoutView",
            "grid_template_rows": null,
            "right": null,
            "justify_content": null,
            "_view_module": "@jupyter-widgets/base",
            "overflow": null,
            "_model_module_version": "1.2.0",
            "_view_count": null,
            "flex_flow": null,
            "width": null,
            "min_width": null,
            "border": null,
            "align_items": null,
            "bottom": null,
            "_model_module": "@jupyter-widgets/base",
            "top": null,
            "grid_column": null,
            "overflow_y": null,
            "overflow_x": null,
            "grid_auto_flow": null,
            "grid_area": null,
            "grid_template_columns": null,
            "flex": null,
            "_model_name": "LayoutModel",
            "justify_items": null,
            "grid_row": null,
            "max_height": null,
            "align_content": null,
            "visibility": null,
            "align_self": null,
            "height": null,
            "min_height": null,
            "padding": null,
            "grid_auto_rows": null,
            "grid_gap": null,
            "max_width": null,
            "order": null,
            "_view_module_version": "1.2.0",
            "grid_template_areas": null,
            "object_position": null,
            "object_fit": null,
            "grid_auto_columns": null,
            "margin": null,
            "display": null,
            "left": null
          }
        },
        "997fc8c5bf9649518d5c4257b1f7bef6": {
          "model_module": "@jupyter-widgets/controls",
          "model_name": "DescriptionStyleModel",
          "state": {
            "_view_name": "StyleView",
            "_model_name": "DescriptionStyleModel",
            "description_width": "",
            "_view_module": "@jupyter-widgets/base",
            "_model_module_version": "1.5.0",
            "_view_count": null,
            "_view_module_version": "1.2.0",
            "_model_module": "@jupyter-widgets/controls"
          }
        },
        "fce0f42b082a4439a4f9b14c5e1e2964": {
          "model_module": "@jupyter-widgets/base",
          "model_name": "LayoutModel",
          "state": {
            "_view_name": "LayoutView",
            "grid_template_rows": null,
            "right": null,
            "justify_content": null,
            "_view_module": "@jupyter-widgets/base",
            "overflow": null,
            "_model_module_version": "1.2.0",
            "_view_count": null,
            "flex_flow": null,
            "width": null,
            "min_width": null,
            "border": null,
            "align_items": null,
            "bottom": null,
            "_model_module": "@jupyter-widgets/base",
            "top": null,
            "grid_column": null,
            "overflow_y": null,
            "overflow_x": null,
            "grid_auto_flow": null,
            "grid_area": null,
            "grid_template_columns": null,
            "flex": null,
            "_model_name": "LayoutModel",
            "justify_items": null,
            "grid_row": null,
            "max_height": null,
            "align_content": null,
            "visibility": null,
            "align_self": null,
            "height": null,
            "min_height": null,
            "padding": null,
            "grid_auto_rows": null,
            "grid_gap": null,
            "max_width": null,
            "order": null,
            "_view_module_version": "1.2.0",
            "grid_template_areas": null,
            "object_position": null,
            "object_fit": null,
            "grid_auto_columns": null,
            "margin": null,
            "display": null,
            "left": null
          }
        },
        "c03b1ad18c8b4103892d8c63f09fa0a7": {
          "model_module": "@jupyter-widgets/controls",
          "model_name": "HBoxModel",
          "state": {
            "_view_name": "HBoxView",
            "_dom_classes": [],
            "_model_name": "HBoxModel",
            "_view_module": "@jupyter-widgets/controls",
            "_model_module_version": "1.5.0",
            "_view_count": null,
            "_view_module_version": "1.5.0",
            "box_style": "",
            "layout": "IPY_MODEL_ef67ed38819f4e488ecb5ac03d1b4fca",
            "_model_module": "@jupyter-widgets/controls",
            "children": [
              "IPY_MODEL_f73f2beae58a43fd87f30d2d14850f9b",
              "IPY_MODEL_b63623e2b5a34a69b226076fd396472e"
            ]
          }
        },
        "ef67ed38819f4e488ecb5ac03d1b4fca": {
          "model_module": "@jupyter-widgets/base",
          "model_name": "LayoutModel",
          "state": {
            "_view_name": "LayoutView",
            "grid_template_rows": null,
            "right": null,
            "justify_content": null,
            "_view_module": "@jupyter-widgets/base",
            "overflow": null,
            "_model_module_version": "1.2.0",
            "_view_count": null,
            "flex_flow": null,
            "width": null,
            "min_width": null,
            "border": null,
            "align_items": null,
            "bottom": null,
            "_model_module": "@jupyter-widgets/base",
            "top": null,
            "grid_column": null,
            "overflow_y": null,
            "overflow_x": null,
            "grid_auto_flow": null,
            "grid_area": null,
            "grid_template_columns": null,
            "flex": null,
            "_model_name": "LayoutModel",
            "justify_items": null,
            "grid_row": null,
            "max_height": null,
            "align_content": null,
            "visibility": null,
            "align_self": null,
            "height": null,
            "min_height": null,
            "padding": null,
            "grid_auto_rows": null,
            "grid_gap": null,
            "max_width": null,
            "order": null,
            "_view_module_version": "1.2.0",
            "grid_template_areas": null,
            "object_position": null,
            "object_fit": null,
            "grid_auto_columns": null,
            "margin": null,
            "display": null,
            "left": null
          }
        },
        "f73f2beae58a43fd87f30d2d14850f9b": {
          "model_module": "@jupyter-widgets/controls",
          "model_name": "FloatProgressModel",
          "state": {
            "_view_name": "ProgressView",
            "style": "IPY_MODEL_d62a39d2f3424631ab30f765412ccdbc",
            "_dom_classes": [],
            "description": "100%",
            "_model_name": "FloatProgressModel",
            "bar_style": "success",
            "max": 1052,
            "_view_module": "@jupyter-widgets/controls",
            "_model_module_version": "1.5.0",
            "value": 1052,
            "_view_count": null,
            "_view_module_version": "1.5.0",
            "orientation": "horizontal",
            "min": 0,
            "description_tooltip": null,
            "_model_module": "@jupyter-widgets/controls",
            "layout": "IPY_MODEL_f50dc7c9d2e3402a9e4df848b9ba522b"
          }
        },
        "b63623e2b5a34a69b226076fd396472e": {
          "model_module": "@jupyter-widgets/controls",
          "model_name": "HTMLModel",
          "state": {
            "_view_name": "HTMLView",
            "style": "IPY_MODEL_3b3babf5e09e4fbe95216134bf61c3fc",
            "_dom_classes": [],
            "description": "",
            "_model_name": "HTMLModel",
            "placeholder": "​",
            "_view_module": "@jupyter-widgets/controls",
            "_model_module_version": "1.5.0",
            "value": " 1052/1052 [31:33&lt;00:00,  1.80s/it]",
            "_view_count": null,
            "_view_module_version": "1.5.0",
            "description_tooltip": null,
            "_model_module": "@jupyter-widgets/controls",
            "layout": "IPY_MODEL_007e0e6484874ddbbda08d9328136df4"
          }
        },
        "d62a39d2f3424631ab30f765412ccdbc": {
          "model_module": "@jupyter-widgets/controls",
          "model_name": "ProgressStyleModel",
          "state": {
            "_view_name": "StyleView",
            "_model_name": "ProgressStyleModel",
            "description_width": "initial",
            "_view_module": "@jupyter-widgets/base",
            "_model_module_version": "1.5.0",
            "_view_count": null,
            "_view_module_version": "1.2.0",
            "bar_color": null,
            "_model_module": "@jupyter-widgets/controls"
          }
        },
        "f50dc7c9d2e3402a9e4df848b9ba522b": {
          "model_module": "@jupyter-widgets/base",
          "model_name": "LayoutModel",
          "state": {
            "_view_name": "LayoutView",
            "grid_template_rows": null,
            "right": null,
            "justify_content": null,
            "_view_module": "@jupyter-widgets/base",
            "overflow": null,
            "_model_module_version": "1.2.0",
            "_view_count": null,
            "flex_flow": null,
            "width": null,
            "min_width": null,
            "border": null,
            "align_items": null,
            "bottom": null,
            "_model_module": "@jupyter-widgets/base",
            "top": null,
            "grid_column": null,
            "overflow_y": null,
            "overflow_x": null,
            "grid_auto_flow": null,
            "grid_area": null,
            "grid_template_columns": null,
            "flex": null,
            "_model_name": "LayoutModel",
            "justify_items": null,
            "grid_row": null,
            "max_height": null,
            "align_content": null,
            "visibility": null,
            "align_self": null,
            "height": null,
            "min_height": null,
            "padding": null,
            "grid_auto_rows": null,
            "grid_gap": null,
            "max_width": null,
            "order": null,
            "_view_module_version": "1.2.0",
            "grid_template_areas": null,
            "object_position": null,
            "object_fit": null,
            "grid_auto_columns": null,
            "margin": null,
            "display": null,
            "left": null
          }
        },
        "3b3babf5e09e4fbe95216134bf61c3fc": {
          "model_module": "@jupyter-widgets/controls",
          "model_name": "DescriptionStyleModel",
          "state": {
            "_view_name": "StyleView",
            "_model_name": "DescriptionStyleModel",
            "description_width": "",
            "_view_module": "@jupyter-widgets/base",
            "_model_module_version": "1.5.0",
            "_view_count": null,
            "_view_module_version": "1.2.0",
            "_model_module": "@jupyter-widgets/controls"
          }
        },
        "007e0e6484874ddbbda08d9328136df4": {
          "model_module": "@jupyter-widgets/base",
          "model_name": "LayoutModel",
          "state": {
            "_view_name": "LayoutView",
            "grid_template_rows": null,
            "right": null,
            "justify_content": null,
            "_view_module": "@jupyter-widgets/base",
            "overflow": null,
            "_model_module_version": "1.2.0",
            "_view_count": null,
            "flex_flow": null,
            "width": null,
            "min_width": null,
            "border": null,
            "align_items": null,
            "bottom": null,
            "_model_module": "@jupyter-widgets/base",
            "top": null,
            "grid_column": null,
            "overflow_y": null,
            "overflow_x": null,
            "grid_auto_flow": null,
            "grid_area": null,
            "grid_template_columns": null,
            "flex": null,
            "_model_name": "LayoutModel",
            "justify_items": null,
            "grid_row": null,
            "max_height": null,
            "align_content": null,
            "visibility": null,
            "align_self": null,
            "height": null,
            "min_height": null,
            "padding": null,
            "grid_auto_rows": null,
            "grid_gap": null,
            "max_width": null,
            "order": null,
            "_view_module_version": "1.2.0",
            "grid_template_areas": null,
            "object_position": null,
            "object_fit": null,
            "grid_auto_columns": null,
            "margin": null,
            "display": null,
            "left": null
          }
        },
        "8323df281f444abe8b2a95a1762b808b": {
          "model_module": "@jupyter-widgets/controls",
          "model_name": "HBoxModel",
          "state": {
            "_view_name": "HBoxView",
            "_dom_classes": [],
            "_model_name": "HBoxModel",
            "_view_module": "@jupyter-widgets/controls",
            "_model_module_version": "1.5.0",
            "_view_count": null,
            "_view_module_version": "1.5.0",
            "box_style": "",
            "layout": "IPY_MODEL_8a482e8625fe45b8928454ae7f8378e5",
            "_model_module": "@jupyter-widgets/controls",
            "children": [
              "IPY_MODEL_88a9b77fb35d4baa8dab49ac55baebe0",
              "IPY_MODEL_c23f911cfd254963aaf51bb2aad285f2"
            ]
          }
        },
        "8a482e8625fe45b8928454ae7f8378e5": {
          "model_module": "@jupyter-widgets/base",
          "model_name": "LayoutModel",
          "state": {
            "_view_name": "LayoutView",
            "grid_template_rows": null,
            "right": null,
            "justify_content": null,
            "_view_module": "@jupyter-widgets/base",
            "overflow": null,
            "_model_module_version": "1.2.0",
            "_view_count": null,
            "flex_flow": null,
            "width": null,
            "min_width": null,
            "border": null,
            "align_items": null,
            "bottom": null,
            "_model_module": "@jupyter-widgets/base",
            "top": null,
            "grid_column": null,
            "overflow_y": null,
            "overflow_x": null,
            "grid_auto_flow": null,
            "grid_area": null,
            "grid_template_columns": null,
            "flex": null,
            "_model_name": "LayoutModel",
            "justify_items": null,
            "grid_row": null,
            "max_height": null,
            "align_content": null,
            "visibility": null,
            "align_self": null,
            "height": null,
            "min_height": null,
            "padding": null,
            "grid_auto_rows": null,
            "grid_gap": null,
            "max_width": null,
            "order": null,
            "_view_module_version": "1.2.0",
            "grid_template_areas": null,
            "object_position": null,
            "object_fit": null,
            "grid_auto_columns": null,
            "margin": null,
            "display": null,
            "left": null
          }
        },
        "88a9b77fb35d4baa8dab49ac55baebe0": {
          "model_module": "@jupyter-widgets/controls",
          "model_name": "FloatProgressModel",
          "state": {
            "_view_name": "ProgressView",
            "style": "IPY_MODEL_ca26ef306b28438899bcb92453e3bfc6",
            "_dom_classes": [],
            "description": "Downloading: 100%",
            "_model_name": "FloatProgressModel",
            "bar_style": "success",
            "max": 908,
            "_view_module": "@jupyter-widgets/controls",
            "_model_module_version": "1.5.0",
            "value": 908,
            "_view_count": null,
            "_view_module_version": "1.5.0",
            "orientation": "horizontal",
            "min": 0,
            "description_tooltip": null,
            "_model_module": "@jupyter-widgets/controls",
            "layout": "IPY_MODEL_9547aefc582347ec82e5e7f2826b6913"
          }
        },
        "c23f911cfd254963aaf51bb2aad285f2": {
          "model_module": "@jupyter-widgets/controls",
          "model_name": "HTMLModel",
          "state": {
            "_view_name": "HTMLView",
            "style": "IPY_MODEL_75ac3b1c4e454455bb2f1564341a0914",
            "_dom_classes": [],
            "description": "",
            "_model_name": "HTMLModel",
            "placeholder": "​",
            "_view_module": "@jupyter-widgets/controls",
            "_model_module_version": "1.5.0",
            "value": " 908/908 [00:00&lt;00:00, 2.36kB/s]",
            "_view_count": null,
            "_view_module_version": "1.5.0",
            "description_tooltip": null,
            "_model_module": "@jupyter-widgets/controls",
            "layout": "IPY_MODEL_c17d2a7bd40248b4bdb37f79ad06f600"
          }
        },
        "ca26ef306b28438899bcb92453e3bfc6": {
          "model_module": "@jupyter-widgets/controls",
          "model_name": "ProgressStyleModel",
          "state": {
            "_view_name": "StyleView",
            "_model_name": "ProgressStyleModel",
            "description_width": "initial",
            "_view_module": "@jupyter-widgets/base",
            "_model_module_version": "1.5.0",
            "_view_count": null,
            "_view_module_version": "1.2.0",
            "bar_color": null,
            "_model_module": "@jupyter-widgets/controls"
          }
        },
        "9547aefc582347ec82e5e7f2826b6913": {
          "model_module": "@jupyter-widgets/base",
          "model_name": "LayoutModel",
          "state": {
            "_view_name": "LayoutView",
            "grid_template_rows": null,
            "right": null,
            "justify_content": null,
            "_view_module": "@jupyter-widgets/base",
            "overflow": null,
            "_model_module_version": "1.2.0",
            "_view_count": null,
            "flex_flow": null,
            "width": null,
            "min_width": null,
            "border": null,
            "align_items": null,
            "bottom": null,
            "_model_module": "@jupyter-widgets/base",
            "top": null,
            "grid_column": null,
            "overflow_y": null,
            "overflow_x": null,
            "grid_auto_flow": null,
            "grid_area": null,
            "grid_template_columns": null,
            "flex": null,
            "_model_name": "LayoutModel",
            "justify_items": null,
            "grid_row": null,
            "max_height": null,
            "align_content": null,
            "visibility": null,
            "align_self": null,
            "height": null,
            "min_height": null,
            "padding": null,
            "grid_auto_rows": null,
            "grid_gap": null,
            "max_width": null,
            "order": null,
            "_view_module_version": "1.2.0",
            "grid_template_areas": null,
            "object_position": null,
            "object_fit": null,
            "grid_auto_columns": null,
            "margin": null,
            "display": null,
            "left": null
          }
        },
        "75ac3b1c4e454455bb2f1564341a0914": {
          "model_module": "@jupyter-widgets/controls",
          "model_name": "DescriptionStyleModel",
          "state": {
            "_view_name": "StyleView",
            "_model_name": "DescriptionStyleModel",
            "description_width": "",
            "_view_module": "@jupyter-widgets/base",
            "_model_module_version": "1.5.0",
            "_view_count": null,
            "_view_module_version": "1.2.0",
            "_model_module": "@jupyter-widgets/controls"
          }
        },
        "c17d2a7bd40248b4bdb37f79ad06f600": {
          "model_module": "@jupyter-widgets/base",
          "model_name": "LayoutModel",
          "state": {
            "_view_name": "LayoutView",
            "grid_template_rows": null,
            "right": null,
            "justify_content": null,
            "_view_module": "@jupyter-widgets/base",
            "overflow": null,
            "_model_module_version": "1.2.0",
            "_view_count": null,
            "flex_flow": null,
            "width": null,
            "min_width": null,
            "border": null,
            "align_items": null,
            "bottom": null,
            "_model_module": "@jupyter-widgets/base",
            "top": null,
            "grid_column": null,
            "overflow_y": null,
            "overflow_x": null,
            "grid_auto_flow": null,
            "grid_area": null,
            "grid_template_columns": null,
            "flex": null,
            "_model_name": "LayoutModel",
            "justify_items": null,
            "grid_row": null,
            "max_height": null,
            "align_content": null,
            "visibility": null,
            "align_self": null,
            "height": null,
            "min_height": null,
            "padding": null,
            "grid_auto_rows": null,
            "grid_gap": null,
            "max_width": null,
            "order": null,
            "_view_module_version": "1.2.0",
            "grid_template_areas": null,
            "object_position": null,
            "object_fit": null,
            "grid_auto_columns": null,
            "margin": null,
            "display": null,
            "left": null
          }
        },
        "758269c270b1451ea759a9a408535a60": {
          "model_module": "@jupyter-widgets/controls",
          "model_name": "HBoxModel",
          "state": {
            "_view_name": "HBoxView",
            "_dom_classes": [],
            "_model_name": "HBoxModel",
            "_view_module": "@jupyter-widgets/controls",
            "_model_module_version": "1.5.0",
            "_view_count": null,
            "_view_module_version": "1.5.0",
            "box_style": "",
            "layout": "IPY_MODEL_c401456bc4f849bd8304a70bbd0bb20b",
            "_model_module": "@jupyter-widgets/controls",
            "children": [
              "IPY_MODEL_d67f7345e09b41db9fd0d40a9362207f",
              "IPY_MODEL_7e3a332c1cfb4ff4923fbb83850b56ae"
            ]
          }
        },
        "c401456bc4f849bd8304a70bbd0bb20b": {
          "model_module": "@jupyter-widgets/base",
          "model_name": "LayoutModel",
          "state": {
            "_view_name": "LayoutView",
            "grid_template_rows": null,
            "right": null,
            "justify_content": null,
            "_view_module": "@jupyter-widgets/base",
            "overflow": null,
            "_model_module_version": "1.2.0",
            "_view_count": null,
            "flex_flow": null,
            "width": null,
            "min_width": null,
            "border": null,
            "align_items": null,
            "bottom": null,
            "_model_module": "@jupyter-widgets/base",
            "top": null,
            "grid_column": null,
            "overflow_y": null,
            "overflow_x": null,
            "grid_auto_flow": null,
            "grid_area": null,
            "grid_template_columns": null,
            "flex": null,
            "_model_name": "LayoutModel",
            "justify_items": null,
            "grid_row": null,
            "max_height": null,
            "align_content": null,
            "visibility": null,
            "align_self": null,
            "height": null,
            "min_height": null,
            "padding": null,
            "grid_auto_rows": null,
            "grid_gap": null,
            "max_width": null,
            "order": null,
            "_view_module_version": "1.2.0",
            "grid_template_areas": null,
            "object_position": null,
            "object_fit": null,
            "grid_auto_columns": null,
            "margin": null,
            "display": null,
            "left": null
          }
        },
        "d67f7345e09b41db9fd0d40a9362207f": {
          "model_module": "@jupyter-widgets/controls",
          "model_name": "FloatProgressModel",
          "state": {
            "_view_name": "ProgressView",
            "style": "IPY_MODEL_4708b727c93c4a4d99ee649c9fc311ae",
            "_dom_classes": [],
            "description": "Downloading: 100%",
            "_model_name": "FloatProgressModel",
            "bar_style": "success",
            "max": 1629486723,
            "_view_module": "@jupyter-widgets/controls",
            "_model_module_version": "1.5.0",
            "value": 1629486723,
            "_view_count": null,
            "_view_module_version": "1.5.0",
            "orientation": "horizontal",
            "min": 0,
            "description_tooltip": null,
            "_model_module": "@jupyter-widgets/controls",
            "layout": "IPY_MODEL_af9a391757064486b6b585404331f3b4"
          }
        },
        "7e3a332c1cfb4ff4923fbb83850b56ae": {
          "model_module": "@jupyter-widgets/controls",
          "model_name": "HTMLModel",
          "state": {
            "_view_name": "HTMLView",
            "style": "IPY_MODEL_cfef71cd8ab541a486ec20ebb848ee95",
            "_dom_classes": [],
            "description": "",
            "_model_name": "HTMLModel",
            "placeholder": "​",
            "_view_module": "@jupyter-widgets/controls",
            "_model_module_version": "1.5.0",
            "value": " 1.63G/1.63G [00:43&lt;00:00, 37.5MB/s]",
            "_view_count": null,
            "_view_module_version": "1.5.0",
            "description_tooltip": null,
            "_model_module": "@jupyter-widgets/controls",
            "layout": "IPY_MODEL_1c06a34f74754338bfc5d30a42820ae8"
          }
        },
        "4708b727c93c4a4d99ee649c9fc311ae": {
          "model_module": "@jupyter-widgets/controls",
          "model_name": "ProgressStyleModel",
          "state": {
            "_view_name": "StyleView",
            "_model_name": "ProgressStyleModel",
            "description_width": "initial",
            "_view_module": "@jupyter-widgets/base",
            "_model_module_version": "1.5.0",
            "_view_count": null,
            "_view_module_version": "1.2.0",
            "bar_color": null,
            "_model_module": "@jupyter-widgets/controls"
          }
        },
        "af9a391757064486b6b585404331f3b4": {
          "model_module": "@jupyter-widgets/base",
          "model_name": "LayoutModel",
          "state": {
            "_view_name": "LayoutView",
            "grid_template_rows": null,
            "right": null,
            "justify_content": null,
            "_view_module": "@jupyter-widgets/base",
            "overflow": null,
            "_model_module_version": "1.2.0",
            "_view_count": null,
            "flex_flow": null,
            "width": null,
            "min_width": null,
            "border": null,
            "align_items": null,
            "bottom": null,
            "_model_module": "@jupyter-widgets/base",
            "top": null,
            "grid_column": null,
            "overflow_y": null,
            "overflow_x": null,
            "grid_auto_flow": null,
            "grid_area": null,
            "grid_template_columns": null,
            "flex": null,
            "_model_name": "LayoutModel",
            "justify_items": null,
            "grid_row": null,
            "max_height": null,
            "align_content": null,
            "visibility": null,
            "align_self": null,
            "height": null,
            "min_height": null,
            "padding": null,
            "grid_auto_rows": null,
            "grid_gap": null,
            "max_width": null,
            "order": null,
            "_view_module_version": "1.2.0",
            "grid_template_areas": null,
            "object_position": null,
            "object_fit": null,
            "grid_auto_columns": null,
            "margin": null,
            "display": null,
            "left": null
          }
        },
        "cfef71cd8ab541a486ec20ebb848ee95": {
          "model_module": "@jupyter-widgets/controls",
          "model_name": "DescriptionStyleModel",
          "state": {
            "_view_name": "StyleView",
            "_model_name": "DescriptionStyleModel",
            "description_width": "",
            "_view_module": "@jupyter-widgets/base",
            "_model_module_version": "1.5.0",
            "_view_count": null,
            "_view_module_version": "1.2.0",
            "_model_module": "@jupyter-widgets/controls"
          }
        },
        "1c06a34f74754338bfc5d30a42820ae8": {
          "model_module": "@jupyter-widgets/base",
          "model_name": "LayoutModel",
          "state": {
            "_view_name": "LayoutView",
            "grid_template_rows": null,
            "right": null,
            "justify_content": null,
            "_view_module": "@jupyter-widgets/base",
            "overflow": null,
            "_model_module_version": "1.2.0",
            "_view_count": null,
            "flex_flow": null,
            "width": null,
            "min_width": null,
            "border": null,
            "align_items": null,
            "bottom": null,
            "_model_module": "@jupyter-widgets/base",
            "top": null,
            "grid_column": null,
            "overflow_y": null,
            "overflow_x": null,
            "grid_auto_flow": null,
            "grid_area": null,
            "grid_template_columns": null,
            "flex": null,
            "_model_name": "LayoutModel",
            "justify_items": null,
            "grid_row": null,
            "max_height": null,
            "align_content": null,
            "visibility": null,
            "align_self": null,
            "height": null,
            "min_height": null,
            "padding": null,
            "grid_auto_rows": null,
            "grid_gap": null,
            "max_width": null,
            "order": null,
            "_view_module_version": "1.2.0",
            "grid_template_areas": null,
            "object_position": null,
            "object_fit": null,
            "grid_auto_columns": null,
            "margin": null,
            "display": null,
            "left": null
          }
        },
        "16e258641fc644b8991a44e81685421a": {
          "model_module": "@jupyter-widgets/controls",
          "model_name": "HBoxModel",
          "state": {
            "_view_name": "HBoxView",
            "_dom_classes": [],
            "_model_name": "HBoxModel",
            "_view_module": "@jupyter-widgets/controls",
            "_model_module_version": "1.5.0",
            "_view_count": null,
            "_view_module_version": "1.5.0",
            "box_style": "",
            "layout": "IPY_MODEL_4672e7a26bb64477baa568ad62711ea9",
            "_model_module": "@jupyter-widgets/controls",
            "children": [
              "IPY_MODEL_28eea93f8d044730bfd5b17ee10b3a3c",
              "IPY_MODEL_26b91875e08d42e295dff4517bca7b39"
            ]
          }
        },
        "4672e7a26bb64477baa568ad62711ea9": {
          "model_module": "@jupyter-widgets/base",
          "model_name": "LayoutModel",
          "state": {
            "_view_name": "LayoutView",
            "grid_template_rows": null,
            "right": null,
            "justify_content": null,
            "_view_module": "@jupyter-widgets/base",
            "overflow": null,
            "_model_module_version": "1.2.0",
            "_view_count": null,
            "flex_flow": null,
            "width": null,
            "min_width": null,
            "border": null,
            "align_items": null,
            "bottom": null,
            "_model_module": "@jupyter-widgets/base",
            "top": null,
            "grid_column": null,
            "overflow_y": null,
            "overflow_x": null,
            "grid_auto_flow": null,
            "grid_area": null,
            "grid_template_columns": null,
            "flex": null,
            "_model_name": "LayoutModel",
            "justify_items": null,
            "grid_row": null,
            "max_height": null,
            "align_content": null,
            "visibility": null,
            "align_self": null,
            "height": null,
            "min_height": null,
            "padding": null,
            "grid_auto_rows": null,
            "grid_gap": null,
            "max_width": null,
            "order": null,
            "_view_module_version": "1.2.0",
            "grid_template_areas": null,
            "object_position": null,
            "object_fit": null,
            "grid_auto_columns": null,
            "margin": null,
            "display": null,
            "left": null
          }
        },
        "28eea93f8d044730bfd5b17ee10b3a3c": {
          "model_module": "@jupyter-widgets/controls",
          "model_name": "FloatProgressModel",
          "state": {
            "_view_name": "ProgressView",
            "style": "IPY_MODEL_685ec7d584e545bba92bfe253f26b774",
            "_dom_classes": [],
            "description": "Downloading: 100%",
            "_model_name": "FloatProgressModel",
            "bar_style": "success",
            "max": 898822,
            "_view_module": "@jupyter-widgets/controls",
            "_model_module_version": "1.5.0",
            "value": 898822,
            "_view_count": null,
            "_view_module_version": "1.5.0",
            "orientation": "horizontal",
            "min": 0,
            "description_tooltip": null,
            "_model_module": "@jupyter-widgets/controls",
            "layout": "IPY_MODEL_c6a06ff828c64b469d9b1559f91b6a60"
          }
        },
        "26b91875e08d42e295dff4517bca7b39": {
          "model_module": "@jupyter-widgets/controls",
          "model_name": "HTMLModel",
          "state": {
            "_view_name": "HTMLView",
            "style": "IPY_MODEL_996e1810ff2a48f7ae3a936cf92760b0",
            "_dom_classes": [],
            "description": "",
            "_model_name": "HTMLModel",
            "placeholder": "​",
            "_view_module": "@jupyter-widgets/controls",
            "_model_module_version": "1.5.0",
            "value": " 899k/899k [00:01&lt;00:00, 838kB/s]",
            "_view_count": null,
            "_view_module_version": "1.5.0",
            "description_tooltip": null,
            "_model_module": "@jupyter-widgets/controls",
            "layout": "IPY_MODEL_306165f4445d4ae0ac8116317bce90b7"
          }
        },
        "685ec7d584e545bba92bfe253f26b774": {
          "model_module": "@jupyter-widgets/controls",
          "model_name": "ProgressStyleModel",
          "state": {
            "_view_name": "StyleView",
            "_model_name": "ProgressStyleModel",
            "description_width": "initial",
            "_view_module": "@jupyter-widgets/base",
            "_model_module_version": "1.5.0",
            "_view_count": null,
            "_view_module_version": "1.2.0",
            "bar_color": null,
            "_model_module": "@jupyter-widgets/controls"
          }
        },
        "c6a06ff828c64b469d9b1559f91b6a60": {
          "model_module": "@jupyter-widgets/base",
          "model_name": "LayoutModel",
          "state": {
            "_view_name": "LayoutView",
            "grid_template_rows": null,
            "right": null,
            "justify_content": null,
            "_view_module": "@jupyter-widgets/base",
            "overflow": null,
            "_model_module_version": "1.2.0",
            "_view_count": null,
            "flex_flow": null,
            "width": null,
            "min_width": null,
            "border": null,
            "align_items": null,
            "bottom": null,
            "_model_module": "@jupyter-widgets/base",
            "top": null,
            "grid_column": null,
            "overflow_y": null,
            "overflow_x": null,
            "grid_auto_flow": null,
            "grid_area": null,
            "grid_template_columns": null,
            "flex": null,
            "_model_name": "LayoutModel",
            "justify_items": null,
            "grid_row": null,
            "max_height": null,
            "align_content": null,
            "visibility": null,
            "align_self": null,
            "height": null,
            "min_height": null,
            "padding": null,
            "grid_auto_rows": null,
            "grid_gap": null,
            "max_width": null,
            "order": null,
            "_view_module_version": "1.2.0",
            "grid_template_areas": null,
            "object_position": null,
            "object_fit": null,
            "grid_auto_columns": null,
            "margin": null,
            "display": null,
            "left": null
          }
        },
        "996e1810ff2a48f7ae3a936cf92760b0": {
          "model_module": "@jupyter-widgets/controls",
          "model_name": "DescriptionStyleModel",
          "state": {
            "_view_name": "StyleView",
            "_model_name": "DescriptionStyleModel",
            "description_width": "",
            "_view_module": "@jupyter-widgets/base",
            "_model_module_version": "1.5.0",
            "_view_count": null,
            "_view_module_version": "1.2.0",
            "_model_module": "@jupyter-widgets/controls"
          }
        },
        "306165f4445d4ae0ac8116317bce90b7": {
          "model_module": "@jupyter-widgets/base",
          "model_name": "LayoutModel",
          "state": {
            "_view_name": "LayoutView",
            "grid_template_rows": null,
            "right": null,
            "justify_content": null,
            "_view_module": "@jupyter-widgets/base",
            "overflow": null,
            "_model_module_version": "1.2.0",
            "_view_count": null,
            "flex_flow": null,
            "width": null,
            "min_width": null,
            "border": null,
            "align_items": null,
            "bottom": null,
            "_model_module": "@jupyter-widgets/base",
            "top": null,
            "grid_column": null,
            "overflow_y": null,
            "overflow_x": null,
            "grid_auto_flow": null,
            "grid_area": null,
            "grid_template_columns": null,
            "flex": null,
            "_model_name": "LayoutModel",
            "justify_items": null,
            "grid_row": null,
            "max_height": null,
            "align_content": null,
            "visibility": null,
            "align_self": null,
            "height": null,
            "min_height": null,
            "padding": null,
            "grid_auto_rows": null,
            "grid_gap": null,
            "max_width": null,
            "order": null,
            "_view_module_version": "1.2.0",
            "grid_template_areas": null,
            "object_position": null,
            "object_fit": null,
            "grid_auto_columns": null,
            "margin": null,
            "display": null,
            "left": null
          }
        },
        "86158c0f520c44a9a93381d57d834106": {
          "model_module": "@jupyter-widgets/controls",
          "model_name": "HBoxModel",
          "state": {
            "_view_name": "HBoxView",
            "_dom_classes": [],
            "_model_name": "HBoxModel",
            "_view_module": "@jupyter-widgets/controls",
            "_model_module_version": "1.5.0",
            "_view_count": null,
            "_view_module_version": "1.5.0",
            "box_style": "",
            "layout": "IPY_MODEL_7b27e850da3f4d9a9257f48ff02a8dbb",
            "_model_module": "@jupyter-widgets/controls",
            "children": [
              "IPY_MODEL_779d458fecaf406299fe212e2132e9d8",
              "IPY_MODEL_d83b893f1ce64d779fd4ab5768a12360"
            ]
          }
        },
        "7b27e850da3f4d9a9257f48ff02a8dbb": {
          "model_module": "@jupyter-widgets/base",
          "model_name": "LayoutModel",
          "state": {
            "_view_name": "LayoutView",
            "grid_template_rows": null,
            "right": null,
            "justify_content": null,
            "_view_module": "@jupyter-widgets/base",
            "overflow": null,
            "_model_module_version": "1.2.0",
            "_view_count": null,
            "flex_flow": null,
            "width": null,
            "min_width": null,
            "border": null,
            "align_items": null,
            "bottom": null,
            "_model_module": "@jupyter-widgets/base",
            "top": null,
            "grid_column": null,
            "overflow_y": null,
            "overflow_x": null,
            "grid_auto_flow": null,
            "grid_area": null,
            "grid_template_columns": null,
            "flex": null,
            "_model_name": "LayoutModel",
            "justify_items": null,
            "grid_row": null,
            "max_height": null,
            "align_content": null,
            "visibility": null,
            "align_self": null,
            "height": null,
            "min_height": null,
            "padding": null,
            "grid_auto_rows": null,
            "grid_gap": null,
            "max_width": null,
            "order": null,
            "_view_module_version": "1.2.0",
            "grid_template_areas": null,
            "object_position": null,
            "object_fit": null,
            "grid_auto_columns": null,
            "margin": null,
            "display": null,
            "left": null
          }
        },
        "779d458fecaf406299fe212e2132e9d8": {
          "model_module": "@jupyter-widgets/controls",
          "model_name": "FloatProgressModel",
          "state": {
            "_view_name": "ProgressView",
            "style": "IPY_MODEL_94c6eb8183a544cf882322b2e001f955",
            "_dom_classes": [],
            "description": "Downloading: 100%",
            "_model_name": "FloatProgressModel",
            "bar_style": "success",
            "max": 456318,
            "_view_module": "@jupyter-widgets/controls",
            "_model_module_version": "1.5.0",
            "value": 456318,
            "_view_count": null,
            "_view_module_version": "1.5.0",
            "orientation": "horizontal",
            "min": 0,
            "description_tooltip": null,
            "_model_module": "@jupyter-widgets/controls",
            "layout": "IPY_MODEL_add8cd2d51b84355aeb0b25a892dcedf"
          }
        },
        "d83b893f1ce64d779fd4ab5768a12360": {
          "model_module": "@jupyter-widgets/controls",
          "model_name": "HTMLModel",
          "state": {
            "_view_name": "HTMLView",
            "style": "IPY_MODEL_11a67a29bf60432c9b1ac79cea8a019f",
            "_dom_classes": [],
            "description": "",
            "_model_name": "HTMLModel",
            "placeholder": "​",
            "_view_module": "@jupyter-widgets/controls",
            "_model_module_version": "1.5.0",
            "value": " 456k/456k [03:30&lt;00:00, 2.16kB/s]",
            "_view_count": null,
            "_view_module_version": "1.5.0",
            "description_tooltip": null,
            "_model_module": "@jupyter-widgets/controls",
            "layout": "IPY_MODEL_113d7757e6874370a34f1cde374acaed"
          }
        },
        "94c6eb8183a544cf882322b2e001f955": {
          "model_module": "@jupyter-widgets/controls",
          "model_name": "ProgressStyleModel",
          "state": {
            "_view_name": "StyleView",
            "_model_name": "ProgressStyleModel",
            "description_width": "initial",
            "_view_module": "@jupyter-widgets/base",
            "_model_module_version": "1.5.0",
            "_view_count": null,
            "_view_module_version": "1.2.0",
            "bar_color": null,
            "_model_module": "@jupyter-widgets/controls"
          }
        },
        "add8cd2d51b84355aeb0b25a892dcedf": {
          "model_module": "@jupyter-widgets/base",
          "model_name": "LayoutModel",
          "state": {
            "_view_name": "LayoutView",
            "grid_template_rows": null,
            "right": null,
            "justify_content": null,
            "_view_module": "@jupyter-widgets/base",
            "overflow": null,
            "_model_module_version": "1.2.0",
            "_view_count": null,
            "flex_flow": null,
            "width": null,
            "min_width": null,
            "border": null,
            "align_items": null,
            "bottom": null,
            "_model_module": "@jupyter-widgets/base",
            "top": null,
            "grid_column": null,
            "overflow_y": null,
            "overflow_x": null,
            "grid_auto_flow": null,
            "grid_area": null,
            "grid_template_columns": null,
            "flex": null,
            "_model_name": "LayoutModel",
            "justify_items": null,
            "grid_row": null,
            "max_height": null,
            "align_content": null,
            "visibility": null,
            "align_self": null,
            "height": null,
            "min_height": null,
            "padding": null,
            "grid_auto_rows": null,
            "grid_gap": null,
            "max_width": null,
            "order": null,
            "_view_module_version": "1.2.0",
            "grid_template_areas": null,
            "object_position": null,
            "object_fit": null,
            "grid_auto_columns": null,
            "margin": null,
            "display": null,
            "left": null
          }
        },
        "11a67a29bf60432c9b1ac79cea8a019f": {
          "model_module": "@jupyter-widgets/controls",
          "model_name": "DescriptionStyleModel",
          "state": {
            "_view_name": "StyleView",
            "_model_name": "DescriptionStyleModel",
            "description_width": "",
            "_view_module": "@jupyter-widgets/base",
            "_model_module_version": "1.5.0",
            "_view_count": null,
            "_view_module_version": "1.2.0",
            "_model_module": "@jupyter-widgets/controls"
          }
        },
        "113d7757e6874370a34f1cde374acaed": {
          "model_module": "@jupyter-widgets/base",
          "model_name": "LayoutModel",
          "state": {
            "_view_name": "LayoutView",
            "grid_template_rows": null,
            "right": null,
            "justify_content": null,
            "_view_module": "@jupyter-widgets/base",
            "overflow": null,
            "_model_module_version": "1.2.0",
            "_view_count": null,
            "flex_flow": null,
            "width": null,
            "min_width": null,
            "border": null,
            "align_items": null,
            "bottom": null,
            "_model_module": "@jupyter-widgets/base",
            "top": null,
            "grid_column": null,
            "overflow_y": null,
            "overflow_x": null,
            "grid_auto_flow": null,
            "grid_area": null,
            "grid_template_columns": null,
            "flex": null,
            "_model_name": "LayoutModel",
            "justify_items": null,
            "grid_row": null,
            "max_height": null,
            "align_content": null,
            "visibility": null,
            "align_self": null,
            "height": null,
            "min_height": null,
            "padding": null,
            "grid_auto_rows": null,
            "grid_gap": null,
            "max_width": null,
            "order": null,
            "_view_module_version": "1.2.0",
            "grid_template_areas": null,
            "object_position": null,
            "object_fit": null,
            "grid_auto_columns": null,
            "margin": null,
            "display": null,
            "left": null
          }
        },
        "095f5e6e9bea473ea3b72b106a405c12": {
          "model_module": "@jupyter-widgets/controls",
          "model_name": "HBoxModel",
          "state": {
            "_view_name": "HBoxView",
            "_dom_classes": [],
            "_model_name": "HBoxModel",
            "_view_module": "@jupyter-widgets/controls",
            "_model_module_version": "1.5.0",
            "_view_count": null,
            "_view_module_version": "1.5.0",
            "box_style": "",
            "layout": "IPY_MODEL_8ec8bee0ce824fa98302f6c381cbd1b0",
            "_model_module": "@jupyter-widgets/controls",
            "children": [
              "IPY_MODEL_f01d0231b5b246b3b253a0835842690b",
              "IPY_MODEL_3d8b736281094286821ad0cfa3bf0cb5"
            ]
          }
        },
        "8ec8bee0ce824fa98302f6c381cbd1b0": {
          "model_module": "@jupyter-widgets/base",
          "model_name": "LayoutModel",
          "state": {
            "_view_name": "LayoutView",
            "grid_template_rows": null,
            "right": null,
            "justify_content": null,
            "_view_module": "@jupyter-widgets/base",
            "overflow": null,
            "_model_module_version": "1.2.0",
            "_view_count": null,
            "flex_flow": null,
            "width": null,
            "min_width": null,
            "border": null,
            "align_items": null,
            "bottom": null,
            "_model_module": "@jupyter-widgets/base",
            "top": null,
            "grid_column": null,
            "overflow_y": null,
            "overflow_x": null,
            "grid_auto_flow": null,
            "grid_area": null,
            "grid_template_columns": null,
            "flex": null,
            "_model_name": "LayoutModel",
            "justify_items": null,
            "grid_row": null,
            "max_height": null,
            "align_content": null,
            "visibility": null,
            "align_self": null,
            "height": null,
            "min_height": null,
            "padding": null,
            "grid_auto_rows": null,
            "grid_gap": null,
            "max_width": null,
            "order": null,
            "_view_module_version": "1.2.0",
            "grid_template_areas": null,
            "object_position": null,
            "object_fit": null,
            "grid_auto_columns": null,
            "margin": null,
            "display": null,
            "left": null
          }
        },
        "f01d0231b5b246b3b253a0835842690b": {
          "model_module": "@jupyter-widgets/controls",
          "model_name": "FloatProgressModel",
          "state": {
            "_view_name": "ProgressView",
            "style": "IPY_MODEL_d2af29d564204503950fdfd7457ec647",
            "_dom_classes": [],
            "description": "Downloading: 100%",
            "_model_name": "FloatProgressModel",
            "bar_style": "success",
            "max": 1355863,
            "_view_module": "@jupyter-widgets/controls",
            "_model_module_version": "1.5.0",
            "value": 1355863,
            "_view_count": null,
            "_view_module_version": "1.5.0",
            "orientation": "horizontal",
            "min": 0,
            "description_tooltip": null,
            "_model_module": "@jupyter-widgets/controls",
            "layout": "IPY_MODEL_ea40e91c94724bb99e9d3de938ae66d6"
          }
        },
        "3d8b736281094286821ad0cfa3bf0cb5": {
          "model_module": "@jupyter-widgets/controls",
          "model_name": "HTMLModel",
          "state": {
            "_view_name": "HTMLView",
            "style": "IPY_MODEL_1fcfad6627234100a46b4c62b1cbf9f5",
            "_dom_classes": [],
            "description": "",
            "_model_name": "HTMLModel",
            "placeholder": "​",
            "_view_module": "@jupyter-widgets/controls",
            "_model_module_version": "1.5.0",
            "value": " 1.36M/1.36M [01:34&lt;00:00, 14.4kB/s]",
            "_view_count": null,
            "_view_module_version": "1.5.0",
            "description_tooltip": null,
            "_model_module": "@jupyter-widgets/controls",
            "layout": "IPY_MODEL_841c515c0a9a4c5a9b7f66c2c7d8e634"
          }
        },
        "d2af29d564204503950fdfd7457ec647": {
          "model_module": "@jupyter-widgets/controls",
          "model_name": "ProgressStyleModel",
          "state": {
            "_view_name": "StyleView",
            "_model_name": "ProgressStyleModel",
            "description_width": "initial",
            "_view_module": "@jupyter-widgets/base",
            "_model_module_version": "1.5.0",
            "_view_count": null,
            "_view_module_version": "1.2.0",
            "bar_color": null,
            "_model_module": "@jupyter-widgets/controls"
          }
        },
        "ea40e91c94724bb99e9d3de938ae66d6": {
          "model_module": "@jupyter-widgets/base",
          "model_name": "LayoutModel",
          "state": {
            "_view_name": "LayoutView",
            "grid_template_rows": null,
            "right": null,
            "justify_content": null,
            "_view_module": "@jupyter-widgets/base",
            "overflow": null,
            "_model_module_version": "1.2.0",
            "_view_count": null,
            "flex_flow": null,
            "width": null,
            "min_width": null,
            "border": null,
            "align_items": null,
            "bottom": null,
            "_model_module": "@jupyter-widgets/base",
            "top": null,
            "grid_column": null,
            "overflow_y": null,
            "overflow_x": null,
            "grid_auto_flow": null,
            "grid_area": null,
            "grid_template_columns": null,
            "flex": null,
            "_model_name": "LayoutModel",
            "justify_items": null,
            "grid_row": null,
            "max_height": null,
            "align_content": null,
            "visibility": null,
            "align_self": null,
            "height": null,
            "min_height": null,
            "padding": null,
            "grid_auto_rows": null,
            "grid_gap": null,
            "max_width": null,
            "order": null,
            "_view_module_version": "1.2.0",
            "grid_template_areas": null,
            "object_position": null,
            "object_fit": null,
            "grid_auto_columns": null,
            "margin": null,
            "display": null,
            "left": null
          }
        },
        "1fcfad6627234100a46b4c62b1cbf9f5": {
          "model_module": "@jupyter-widgets/controls",
          "model_name": "DescriptionStyleModel",
          "state": {
            "_view_name": "StyleView",
            "_model_name": "DescriptionStyleModel",
            "description_width": "",
            "_view_module": "@jupyter-widgets/base",
            "_model_module_version": "1.5.0",
            "_view_count": null,
            "_view_module_version": "1.2.0",
            "_model_module": "@jupyter-widgets/controls"
          }
        },
        "841c515c0a9a4c5a9b7f66c2c7d8e634": {
          "model_module": "@jupyter-widgets/base",
          "model_name": "LayoutModel",
          "state": {
            "_view_name": "LayoutView",
            "grid_template_rows": null,
            "right": null,
            "justify_content": null,
            "_view_module": "@jupyter-widgets/base",
            "overflow": null,
            "_model_module_version": "1.2.0",
            "_view_count": null,
            "flex_flow": null,
            "width": null,
            "min_width": null,
            "border": null,
            "align_items": null,
            "bottom": null,
            "_model_module": "@jupyter-widgets/base",
            "top": null,
            "grid_column": null,
            "overflow_y": null,
            "overflow_x": null,
            "grid_auto_flow": null,
            "grid_area": null,
            "grid_template_columns": null,
            "flex": null,
            "_model_name": "LayoutModel",
            "justify_items": null,
            "grid_row": null,
            "max_height": null,
            "align_content": null,
            "visibility": null,
            "align_self": null,
            "height": null,
            "min_height": null,
            "padding": null,
            "grid_auto_rows": null,
            "grid_gap": null,
            "max_width": null,
            "order": null,
            "_view_module_version": "1.2.0",
            "grid_template_areas": null,
            "object_position": null,
            "object_fit": null,
            "grid_auto_columns": null,
            "margin": null,
            "display": null,
            "left": null
          }
        },
        "8c58258ea4934a919b433ba5b8c71f70": {
          "model_module": "@jupyter-widgets/controls",
          "model_name": "HBoxModel",
          "state": {
            "_view_name": "HBoxView",
            "_dom_classes": [],
            "_model_name": "HBoxModel",
            "_view_module": "@jupyter-widgets/controls",
            "_model_module_version": "1.5.0",
            "_view_count": null,
            "_view_module_version": "1.5.0",
            "box_style": "",
            "layout": "IPY_MODEL_12727945e6bd433b9352df98def2decb",
            "_model_module": "@jupyter-widgets/controls",
            "children": [
              "IPY_MODEL_9c36ebbbde0e42179996799f320a6fd5",
              "IPY_MODEL_49220668d9a4442eab20368977eee976"
            ]
          }
        },
        "12727945e6bd433b9352df98def2decb": {
          "model_module": "@jupyter-widgets/base",
          "model_name": "LayoutModel",
          "state": {
            "_view_name": "LayoutView",
            "grid_template_rows": null,
            "right": null,
            "justify_content": null,
            "_view_module": "@jupyter-widgets/base",
            "overflow": null,
            "_model_module_version": "1.2.0",
            "_view_count": null,
            "flex_flow": null,
            "width": null,
            "min_width": null,
            "border": null,
            "align_items": null,
            "bottom": null,
            "_model_module": "@jupyter-widgets/base",
            "top": null,
            "grid_column": null,
            "overflow_y": null,
            "overflow_x": null,
            "grid_auto_flow": null,
            "grid_area": null,
            "grid_template_columns": null,
            "flex": null,
            "_model_name": "LayoutModel",
            "justify_items": null,
            "grid_row": null,
            "max_height": null,
            "align_content": null,
            "visibility": null,
            "align_self": null,
            "height": null,
            "min_height": null,
            "padding": null,
            "grid_auto_rows": null,
            "grid_gap": null,
            "max_width": null,
            "order": null,
            "_view_module_version": "1.2.0",
            "grid_template_areas": null,
            "object_position": null,
            "object_fit": null,
            "grid_auto_columns": null,
            "margin": null,
            "display": null,
            "left": null
          }
        },
        "9c36ebbbde0e42179996799f320a6fd5": {
          "model_module": "@jupyter-widgets/controls",
          "model_name": "FloatProgressModel",
          "state": {
            "_view_name": "ProgressView",
            "style": "IPY_MODEL_acfa5900cff24ee287cc1a584791529b",
            "_dom_classes": [],
            "description": "Downloading: 100%",
            "_model_name": "FloatProgressModel",
            "bar_style": "success",
            "max": 26,
            "_view_module": "@jupyter-widgets/controls",
            "_model_module_version": "1.5.0",
            "value": 26,
            "_view_count": null,
            "_view_module_version": "1.5.0",
            "orientation": "horizontal",
            "min": 0,
            "description_tooltip": null,
            "_model_module": "@jupyter-widgets/controls",
            "layout": "IPY_MODEL_cfe0bc01e180482ca05f3ecb46be9396"
          }
        },
        "49220668d9a4442eab20368977eee976": {
          "model_module": "@jupyter-widgets/controls",
          "model_name": "HTMLModel",
          "state": {
            "_view_name": "HTMLView",
            "style": "IPY_MODEL_6ec98bf4af95413ca402630d5d7d5b11",
            "_dom_classes": [],
            "description": "",
            "_model_name": "HTMLModel",
            "placeholder": "​",
            "_view_module": "@jupyter-widgets/controls",
            "_model_module_version": "1.5.0",
            "value": " 26.0/26.0 [01:32&lt;00:00, 3.57s/B]",
            "_view_count": null,
            "_view_module_version": "1.5.0",
            "description_tooltip": null,
            "_model_module": "@jupyter-widgets/controls",
            "layout": "IPY_MODEL_a3f67353e9df4d0692207cf4366de3f7"
          }
        },
        "acfa5900cff24ee287cc1a584791529b": {
          "model_module": "@jupyter-widgets/controls",
          "model_name": "ProgressStyleModel",
          "state": {
            "_view_name": "StyleView",
            "_model_name": "ProgressStyleModel",
            "description_width": "initial",
            "_view_module": "@jupyter-widgets/base",
            "_model_module_version": "1.5.0",
            "_view_count": null,
            "_view_module_version": "1.2.0",
            "bar_color": null,
            "_model_module": "@jupyter-widgets/controls"
          }
        },
        "cfe0bc01e180482ca05f3ecb46be9396": {
          "model_module": "@jupyter-widgets/base",
          "model_name": "LayoutModel",
          "state": {
            "_view_name": "LayoutView",
            "grid_template_rows": null,
            "right": null,
            "justify_content": null,
            "_view_module": "@jupyter-widgets/base",
            "overflow": null,
            "_model_module_version": "1.2.0",
            "_view_count": null,
            "flex_flow": null,
            "width": null,
            "min_width": null,
            "border": null,
            "align_items": null,
            "bottom": null,
            "_model_module": "@jupyter-widgets/base",
            "top": null,
            "grid_column": null,
            "overflow_y": null,
            "overflow_x": null,
            "grid_auto_flow": null,
            "grid_area": null,
            "grid_template_columns": null,
            "flex": null,
            "_model_name": "LayoutModel",
            "justify_items": null,
            "grid_row": null,
            "max_height": null,
            "align_content": null,
            "visibility": null,
            "align_self": null,
            "height": null,
            "min_height": null,
            "padding": null,
            "grid_auto_rows": null,
            "grid_gap": null,
            "max_width": null,
            "order": null,
            "_view_module_version": "1.2.0",
            "grid_template_areas": null,
            "object_position": null,
            "object_fit": null,
            "grid_auto_columns": null,
            "margin": null,
            "display": null,
            "left": null
          }
        },
        "6ec98bf4af95413ca402630d5d7d5b11": {
          "model_module": "@jupyter-widgets/controls",
          "model_name": "DescriptionStyleModel",
          "state": {
            "_view_name": "StyleView",
            "_model_name": "DescriptionStyleModel",
            "description_width": "",
            "_view_module": "@jupyter-widgets/base",
            "_model_module_version": "1.5.0",
            "_view_count": null,
            "_view_module_version": "1.2.0",
            "_model_module": "@jupyter-widgets/controls"
          }
        },
        "a3f67353e9df4d0692207cf4366de3f7": {
          "model_module": "@jupyter-widgets/base",
          "model_name": "LayoutModel",
          "state": {
            "_view_name": "LayoutView",
            "grid_template_rows": null,
            "right": null,
            "justify_content": null,
            "_view_module": "@jupyter-widgets/base",
            "overflow": null,
            "_model_module_version": "1.2.0",
            "_view_count": null,
            "flex_flow": null,
            "width": null,
            "min_width": null,
            "border": null,
            "align_items": null,
            "bottom": null,
            "_model_module": "@jupyter-widgets/base",
            "top": null,
            "grid_column": null,
            "overflow_y": null,
            "overflow_x": null,
            "grid_auto_flow": null,
            "grid_area": null,
            "grid_template_columns": null,
            "flex": null,
            "_model_name": "LayoutModel",
            "justify_items": null,
            "grid_row": null,
            "max_height": null,
            "align_content": null,
            "visibility": null,
            "align_self": null,
            "height": null,
            "min_height": null,
            "padding": null,
            "grid_auto_rows": null,
            "grid_gap": null,
            "max_width": null,
            "order": null,
            "_view_module_version": "1.2.0",
            "grid_template_areas": null,
            "object_position": null,
            "object_fit": null,
            "grid_auto_columns": null,
            "margin": null,
            "display": null,
            "left": null
          }
        }
      }
    },
    "accelerator": "GPU"
  },
  "cells": [
    {
      "cell_type": "code",
      "metadata": {
        "colab": {
          "base_uri": "https://localhost:8080/"
        },
        "id": "_JESdPOWuaP_",
        "outputId": "fc7c64cf-c0eb-4219-edc7-c83e0fb5e2b8"
      },
      "source": [
        "! pip install --q blingfire spacy transformers sentence-transformers umap-learn hdbscan stop-words"
      ],
      "id": "_JESdPOWuaP_",
      "execution_count": 13,
      "outputs": [
        {
          "output_type": "stream",
          "text": [
            "\u001b[K     |████████████████████████████████| 28.3MB 1.5MB/s \n",
            "\u001b[?25h"
          ],
          "name": "stdout"
        }
      ]
    },
    {
      "cell_type": "code",
      "metadata": {
        "id": "latest-catalyst"
      },
      "source": [
        "import re\n",
        "import itertools\n",
        "import collections\n",
        "\n",
        "import numpy as np\n",
        "import pandas as pd\n",
        "\n",
        "import matplotlib\n",
        "import matplotlib.pyplot as plt\n",
        "import seaborn as sns\n",
        "from IPython.display import Markdown, display\n",
        "\n",
        "from tqdm.autonotebook import tqdm"
      ],
      "id": "latest-catalyst",
      "execution_count": 199,
      "outputs": []
    },
    {
      "cell_type": "code",
      "metadata": {
        "colab": {
          "base_uri": "https://localhost:8080/"
        },
        "id": "compliant-federal",
        "outputId": "cb47e03c-734a-4f4e-8a40-89fcf32e934c"
      },
      "source": [
        "pd.set_option('display.max_colwidth', 300)\n",
        "pd.set_option('display.float_format', '{:,.2f}'.format)\n",
        "tqdm.pandas()"
      ],
      "id": "compliant-federal",
      "execution_count": 285,
      "outputs": [
        {
          "output_type": "stream",
          "text": [
            "/usr/local/lib/python3.7/dist-packages/tqdm/std.py:658: FutureWarning: The Panel class is removed from pandas. Accessing it from the top-level namespace will also be removed in the next version\n",
            "  from pandas import Panel\n"
          ],
          "name": "stderr"
        }
      ]
    },
    {
      "cell_type": "code",
      "metadata": {
        "id": "FASb2UXIgfWz"
      },
      "source": [
        "def printmd(string):\n",
        "    display(Markdown(string))"
      ],
      "id": "FASb2UXIgfWz",
      "execution_count": 70,
      "outputs": []
    },
    {
      "cell_type": "code",
      "metadata": {
        "id": "eZLbRxLKHsmu"
      },
      "source": [
        "TAB = '&nbsp;&nbsp;&nbsp;&nbsp;'\n",
        "BULLET = f'{TAB}➡'"
      ],
      "id": "eZLbRxLKHsmu",
      "execution_count": 252,
      "outputs": []
    },
    {
      "cell_type": "markdown",
      "metadata": {
        "id": "median-swift"
      },
      "source": [
        "# Topic Discovery"
      ],
      "id": "median-swift"
    },
    {
      "cell_type": "markdown",
      "metadata": {
        "id": "historical-scholarship"
      },
      "source": [
        "## Prepare Input Text Data"
      ],
      "id": "historical-scholarship"
    },
    {
      "cell_type": "code",
      "metadata": {
        "id": "wAG9G3whb8nX"
      },
      "source": [
        "from sklearn.datasets import fetch_20newsgroups\n",
        "from blingfire import text_to_sentences"
      ],
      "id": "wAG9G3whb8nX",
      "execution_count": 198,
      "outputs": []
    },
    {
      "cell_type": "code",
      "metadata": {
        "id": "collected-silly"
      },
      "source": [
        "from gensim.parsing import strip_tags, strip_numeric, strip_multiple_whitespaces, stem_text, strip_punctuation, remove_stopwords\n",
        "from gensim.parsing import preprocess_string"
      ],
      "id": "collected-silly",
      "execution_count": 5,
      "outputs": []
    },
    {
      "cell_type": "code",
      "metadata": {
        "colab": {
          "base_uri": "https://localhost:8080/"
        },
        "id": "latter-turkey",
        "outputId": "5c5a7c54-27d9-4f45-ad59-befd9075238d"
      },
      "source": [
        "data = fetch_20newsgroups(subset='all')['data']"
      ],
      "id": "latter-turkey",
      "execution_count": 6,
      "outputs": [
        {
          "output_type": "stream",
          "text": [
            "Downloading 20news dataset. This may take a few minutes.\n",
            "Downloading dataset from https://ndownloader.figshare.com/files/5975967 (14 MB)\n"
          ],
          "name": "stderr"
        }
      ]
    },
    {
      "cell_type": "code",
      "metadata": {
        "colab": {
          "base_uri": "https://localhost:8080/"
        },
        "id": "38jpPcJjbHug",
        "outputId": "f89e35a2-a536-4364-b51e-eb3517dc99b0"
      },
      "source": [
        "fetch_20newsgroups(subset='all').keys()"
      ],
      "id": "38jpPcJjbHug",
      "execution_count": 19,
      "outputs": [
        {
          "output_type": "execute_result",
          "data": {
            "text/plain": [
              "dict_keys(['data', 'filenames', 'target_names', 'target', 'DESCR'])"
            ]
          },
          "metadata": {
            "tags": []
          },
          "execution_count": 19
        }
      ]
    },
    {
      "cell_type": "code",
      "metadata": {
        "colab": {
          "base_uri": "https://localhost:8080/"
        },
        "id": "q-ZXVXvWbJp9",
        "outputId": "22771b62-9a49-404c-b9be-6e5183725b0d"
      },
      "source": [
        "fetch_20newsgroups(subset='all')['filenames']"
      ],
      "id": "q-ZXVXvWbJp9",
      "execution_count": 20,
      "outputs": [
        {
          "output_type": "execute_result",
          "data": {
            "text/plain": [
              "array(['/root/scikit_learn_data/20news_home/20news-bydate-test/rec.sport.hockey/54367',\n",
              "       '/root/scikit_learn_data/20news_home/20news-bydate-train/comp.sys.ibm.pc.hardware/60215',\n",
              "       '/root/scikit_learn_data/20news_home/20news-bydate-train/talk.politics.mideast/76120',\n",
              "       ...,\n",
              "       '/root/scikit_learn_data/20news_home/20news-bydate-train/comp.sys.ibm.pc.hardware/60695',\n",
              "       '/root/scikit_learn_data/20news_home/20news-bydate-train/comp.graphics/38319',\n",
              "       '/root/scikit_learn_data/20news_home/20news-bydate-test/rec.autos/103195'],\n",
              "      dtype='<U86')"
            ]
          },
          "metadata": {
            "tags": []
          },
          "execution_count": 20
        }
      ]
    },
    {
      "cell_type": "code",
      "metadata": {
        "id": "IPQUt9eza0qD"
      },
      "source": [
        "sentence_items = []\n",
        "for i, document in enumerate(data):\n",
        "  document_sentences = text_to_sentences(document).split(\"\\n\")\n",
        "  sentence_with_idx = itertools.zip_longest(document_sentences, [i], fillvalue=i)\n",
        "  sentence_items.extend(sentence_with_idx)"
      ],
      "id": "IPQUt9eza0qD",
      "execution_count": 28,
      "outputs": []
    },
    {
      "cell_type": "code",
      "metadata": {
        "colab": {
          "base_uri": "https://localhost:8080/"
        },
        "id": "eY3CWgzLa7XS",
        "outputId": "f1544f5a-920b-4d7d-a6b0-d4f71d53eaf5"
      },
      "source": [
        "sentence_items[1000]"
      ],
      "id": "eY3CWgzLa7XS",
      "execution_count": 30,
      "outputs": [
        {
          "output_type": "execute_result",
          "data": {
            "text/plain": [
              "('The Air Force, of course, was interested in our results and supportive of our efforts.',\n",
              " 75)"
            ]
          },
          "metadata": {
            "tags": []
          },
          "execution_count": 30
        }
      ]
    },
    {
      "cell_type": "code",
      "metadata": {
        "id": "distinct-support"
      },
      "source": [
        "df_sentences = pd.DataFrame(sentence_items, columns=['original_sentence', 'document_id'])"
      ],
      "id": "distinct-support",
      "execution_count": 36,
      "outputs": []
    },
    {
      "cell_type": "code",
      "metadata": {
        "colab": {
          "base_uri": "https://localhost:8080/",
          "height": 159
        },
        "id": "Jt3NupoXanhj",
        "outputId": "6cefcc38-4636-4148-cf2c-4e883b514db0"
      },
      "source": [
        "df_sentences.sample(n=3)"
      ],
      "id": "Jt3NupoXanhj",
      "execution_count": 37,
      "outputs": [
        {
          "output_type": "execute_result",
          "data": {
            "text/html": [
              "<div>\n",
              "<style scoped>\n",
              "    .dataframe tbody tr th:only-of-type {\n",
              "        vertical-align: middle;\n",
              "    }\n",
              "\n",
              "    .dataframe tbody tr th {\n",
              "        vertical-align: top;\n",
              "    }\n",
              "\n",
              "    .dataframe thead th {\n",
              "        text-align: right;\n",
              "    }\n",
              "</style>\n",
              "<table border=\"1\" class=\"dataframe\">\n",
              "  <thead>\n",
              "    <tr style=\"text-align: right;\">\n",
              "      <th></th>\n",
              "      <th>original_sentence</th>\n",
              "      <th>document_id</th>\n",
              "    </tr>\n",
              "  </thead>\n",
              "  <tbody>\n",
              "    <tr>\n",
              "      <th>130363</th>\n",
              "      <td>From: jaeger@buphy.bu.edu (Gregg Jaeger) Subject: Re: The Inimitable Rushdie Organization: Boston University Physics Department Lines: 32  In article &lt;1993Apr10.130112.25440@bradford.ac.uk&gt; L.Newnham@bradford.ac.uk (Leonard Newnham) writes:  &gt;Gregg Jaeger (jaeger@buphy.bu.edu) wrote:  &gt;&gt;&gt;And no,...</td>\n",
              "      <td>9603</td>\n",
              "    </tr>\n",
              "    <tr>\n",
              "      <th>28692</th>\n",
              "      <td>I think both are overrated defensively (see Nichols' Law of catcher defense), but that's something that's difficult to prove or disprove from your viewpoint or mine.</td>\n",
              "      <td>2210</td>\n",
              "    </tr>\n",
              "    <tr>\n",
              "      <th>168098</th>\n",
              "      <td>Information is hard to prove.</td>\n",
              "      <td>12230</td>\n",
              "    </tr>\n",
              "  </tbody>\n",
              "</table>\n",
              "</div>"
            ],
            "text/plain": [
              "                                                                                                                                                                                                                                                                                                  original_sentence  document_id\n",
              "130363  From: jaeger@buphy.bu.edu (Gregg Jaeger) Subject: Re: The Inimitable Rushdie Organization: Boston University Physics Department Lines: 32  In article <1993Apr10.130112.25440@bradford.ac.uk> L.Newnham@bradford.ac.uk (Leonard Newnham) writes:  >Gregg Jaeger (jaeger@buphy.bu.edu) wrote:  >>>And no,...         9603\n",
              "28692                                                                                                                                         I think both are overrated defensively (see Nichols' Law of catcher defense), but that's something that's difficult to prove or disprove from your viewpoint or mine.         2210\n",
              "168098                                                                                                                                                                                                                                                                                Information is hard to prove.        12230"
            ]
          },
          "metadata": {
            "tags": []
          },
          "execution_count": 37
        }
      ]
    },
    {
      "cell_type": "code",
      "metadata": {
        "id": "welsh-madness"
      },
      "source": [
        "transform_to_lower = lambda s: s.lower()\n",
        "\n",
        "remove_single_char = lambda s: re.sub(r'\\s+\\w{1}\\s+', '', s)\n",
        "\n",
        "# Filters to be executed in pipeline\n",
        "CLEAN_FILTERS = [strip_tags,\n",
        "                strip_numeric,\n",
        "                strip_punctuation, \n",
        "                strip_multiple_whitespaces, \n",
        "                transform_to_lower,\n",
        "                remove_stopwords,\n",
        "                remove_single_char]\n",
        "# Method does the filtering of all the unrelevant text elements\n",
        "def cleaning_pipe(document):\n",
        "    # Invoking gensim.parsing.preprocess_string method with set of filters\n",
        "    processed_words = preprocess_string(document, CLEAN_FILTERS)\n",
        "    \n",
        "    return ' '.join(processed_words)"
      ],
      "id": "welsh-madness",
      "execution_count": 35,
      "outputs": []
    },
    {
      "cell_type": "code",
      "metadata": {
        "colab": {
          "base_uri": "https://localhost:8080/",
          "height": 66,
          "referenced_widgets": [
            "22498cbfa75047b2bb0f20afe64a733f",
            "b97ee2c4ecd64e35a84a4708090dc98b",
            "1e39f5ea2ef043baa679e293df639381",
            "1c0a04e944c54bfaa4b33d95e0a78005",
            "7fca0b2b9d554db692d46289952d7182",
            "97195f7e1dbf4ed595e4f755a7422a18",
            "63427c8dffc0473d9f5ab5770570316f",
            "ff54ee9403044ba9a752c072e0ac3283"
          ]
        },
        "id": "defensive-object",
        "outputId": "3270e78b-2252-4837-97f2-192fda0ffb38"
      },
      "source": [
        "df_sentences['sentence'] = df_sentences['original_sentence'].progress_apply(cleaning_pipe)"
      ],
      "id": "defensive-object",
      "execution_count": 47,
      "outputs": [
        {
          "output_type": "display_data",
          "data": {
            "application/vnd.jupyter.widget-view+json": {
              "model_id": "22498cbfa75047b2bb0f20afe64a733f",
              "version_minor": 0,
              "version_major": 2
            },
            "text/plain": [
              "HBox(children=(FloatProgress(value=0.0, max=255875.0), HTML(value='')))"
            ]
          },
          "metadata": {
            "tags": []
          }
        },
        {
          "output_type": "stream",
          "text": [
            "\n"
          ],
          "name": "stdout"
        }
      ]
    },
    {
      "cell_type": "code",
      "metadata": {
        "id": "69H_jQUtDd8n",
        "outputId": "e6ee4277-b6d2-47b9-a390-c1c4e4fb743a",
        "colab": {
          "base_uri": "https://localhost:8080/",
          "height": 80
        }
      },
      "source": [
        "sample_idx = 200\n",
        "printmd('**Data Cleaning**')\n",
        "original_sentence, sentence = df_sentences.iloc[sample_idx][['original_sentence', 'sentence']]\n",
        "print(f'  Raw text: {original_sentence}')\n",
        "print(f'  Cleaned: {sentence}')"
      ],
      "id": "69H_jQUtDd8n",
      "execution_count": 234,
      "outputs": [
        {
          "output_type": "display_data",
          "data": {
            "text/markdown": "**Data Cleaning**",
            "text/plain": [
              "<IPython.core.display.Markdown object>"
            ]
          },
          "metadata": {
            "tags": []
          }
        },
        {
          "output_type": "stream",
          "text": [
            "  Raw text: It seems at both ends of his envisioned  pan-Turkic Empire -- the Balkans and the Caucasus -- Turkey's fascist boasts are being pre-empted.\n",
            "  Cleaned: ends envisioned pan turkic empire balkans caucasus turkeyfascist boasts pre empted\n"
          ],
          "name": "stdout"
        }
      ]
    },
    {
      "cell_type": "code",
      "metadata": {
        "colab": {
          "base_uri": "https://localhost:8080/"
        },
        "id": "HYCMyxxOfOyZ",
        "outputId": "339b280b-b52e-4623-eabf-824eb778ff3a"
      },
      "source": [
        " df_sentences.drop_duplicates(subset='sentence', inplace=True)\n",
        " df_sentences.shape"
      ],
      "id": "HYCMyxxOfOyZ",
      "execution_count": 61,
      "outputs": [
        {
          "output_type": "execute_result",
          "data": {
            "text/plain": [
              "(204571, 3)"
            ]
          },
          "metadata": {
            "tags": []
          },
          "execution_count": 61
        }
      ]
    },
    {
      "cell_type": "code",
      "metadata": {
        "colab": {
          "base_uri": "https://localhost:8080/",
          "height": 238
        },
        "id": "grave-spyware",
        "outputId": "98d2c533-97f6-4fec-dc81-117df57698e1"
      },
      "source": [
        "df_sentences.head()"
      ],
      "id": "grave-spyware",
      "execution_count": 53,
      "outputs": [
        {
          "output_type": "execute_result",
          "data": {
            "text/html": [
              "<div>\n",
              "<style scoped>\n",
              "    .dataframe tbody tr th:only-of-type {\n",
              "        vertical-align: middle;\n",
              "    }\n",
              "\n",
              "    .dataframe tbody tr th {\n",
              "        vertical-align: top;\n",
              "    }\n",
              "\n",
              "    .dataframe thead th {\n",
              "        text-align: right;\n",
              "    }\n",
              "</style>\n",
              "<table border=\"1\" class=\"dataframe\">\n",
              "  <thead>\n",
              "    <tr style=\"text-align: right;\">\n",
              "      <th></th>\n",
              "      <th>original_sentence</th>\n",
              "      <th>document_id</th>\n",
              "      <th>sentence</th>\n",
              "    </tr>\n",
              "  </thead>\n",
              "  <tbody>\n",
              "    <tr>\n",
              "      <th>0</th>\n",
              "      <td>From: Mamatha Devineni Ratnam &lt;mr47+@andrew.cmu.edu&gt; Subject: Pens fans reactions Organization: Post Office, Carnegie Mellon, Pittsburgh, PA Lines: 12 NNTP-Posting-Host: po4.andrew.cmu.edu    I am sure some bashers of Pens fans are pretty confused about the lack of any kind of posts about the re...</td>\n",
              "      <td>0</td>\n",
              "      <td>mamatha devineni ratnam subject pens fans reactions organization post office carnegie mellon pittsburgh pa lines nntp posting host po andrew cmu edu sure bashers pens fans pretty confused lack kind posts recent pens massacre devils</td>\n",
              "    </tr>\n",
              "    <tr>\n",
              "      <th>1</th>\n",
              "      <td>Actually, I am  bit puzzled too and a bit relieved.</td>\n",
              "      <td>0</td>\n",
              "      <td>actually bit puzzled bit relieved</td>\n",
              "    </tr>\n",
              "    <tr>\n",
              "      <th>2</th>\n",
              "      <td>However, I am going to put an end to non-PIttsburghers' relief with a bit of praise for the Pens.</td>\n",
              "      <td>0</td>\n",
              "      <td>going end non pittsburghers relief bit praise pens</td>\n",
              "    </tr>\n",
              "    <tr>\n",
              "      <th>3</th>\n",
              "      <td>Man, they are killing those Devils worse than I thought.</td>\n",
              "      <td>0</td>\n",
              "      <td>man killing devils worse thought</td>\n",
              "    </tr>\n",
              "    <tr>\n",
              "      <th>4</th>\n",
              "      <td>Jagr just showed you why he is much better than his regular season stats.</td>\n",
              "      <td>0</td>\n",
              "      <td>jagr showed better regular season stats</td>\n",
              "    </tr>\n",
              "  </tbody>\n",
              "</table>\n",
              "</div>"
            ],
            "text/plain": [
              "                                                                                                                                                                                                                                                                                             original_sentence  ...                                                                                                                                                                                                                                 sentence\n",
              "0  From: Mamatha Devineni Ratnam <mr47+@andrew.cmu.edu> Subject: Pens fans reactions Organization: Post Office, Carnegie Mellon, Pittsburgh, PA Lines: 12 NNTP-Posting-Host: po4.andrew.cmu.edu    I am sure some bashers of Pens fans are pretty confused about the lack of any kind of posts about the re...  ...  mamatha devineni ratnam subject pens fans reactions organization post office carnegie mellon pittsburgh pa lines nntp posting host po andrew cmu edu sure bashers pens fans pretty confused lack kind posts recent pens massacre devils\n",
              "1                                                                                                                                                                                                                                                          Actually, I am  bit puzzled too and a bit relieved.  ...                                                                                                                                                                                                        actually bit puzzled bit relieved\n",
              "2                                                                                                                                                                                                            However, I am going to put an end to non-PIttsburghers' relief with a bit of praise for the Pens.  ...                                                                                                                                                                                       going end non pittsburghers relief bit praise pens\n",
              "3                                                                                                                                                                                                                                                     Man, they are killing those Devils worse than I thought.  ...                                                                                                                                                                                                         man killing devils worse thought\n",
              "4                                                                                                                                                                                                                                    Jagr just showed you why he is much better than his regular season stats.  ...                                                                                                                                                                                                  jagr showed better regular season stats\n",
              "\n",
              "[5 rows x 3 columns]"
            ]
          },
          "metadata": {
            "tags": []
          },
          "execution_count": 53
        }
      ]
    },
    {
      "cell_type": "code",
      "metadata": {
        "id": "SD4RrplIEXfX",
        "outputId": "cc076e20-ce2a-4f34-c24c-ff011c3be8bc",
        "colab": {
          "base_uri": "https://localhost:8080/",
          "height": 46
        }
      },
      "source": [
        "printmd(f'**Sentences count**: {df_sentences.shape[0]:,}.')"
      ],
      "id": "SD4RrplIEXfX",
      "execution_count": 235,
      "outputs": [
        {
          "output_type": "display_data",
          "data": {
            "text/markdown": "**Sentences count**: 204,571.",
            "text/plain": [
              "<IPython.core.display.Markdown object>"
            ]
          },
          "metadata": {
            "tags": []
          }
        }
      ]
    },
    {
      "cell_type": "markdown",
      "metadata": {
        "id": "composite-return"
      },
      "source": [
        "## Step 1 - Sentence Representation"
      ],
      "id": "composite-return"
    },
    {
      "cell_type": "code",
      "metadata": {
        "id": "ordinary-feeding"
      },
      "source": [
        "from sentence_transformers import SentenceTransformer"
      ],
      "id": "ordinary-feeding",
      "execution_count": 62,
      "outputs": []
    },
    {
      "cell_type": "code",
      "metadata": {
        "colab": {
          "base_uri": "https://localhost:8080/",
          "height": 66,
          "referenced_widgets": [
            "9710eae9e5554049b7b6f55c2659538d",
            "026119d5927b4ff384350ed3a5759489",
            "6fa155f7f61c4f8e8af2ceeb5f62bf41",
            "250c9dfbdd634a959a1a3401c8a7e9ee",
            "0ffcec64dda249ed82cb0a518e032009",
            "274e0489320b4b13993ff039c15bec24",
            "84d5fd7e99e54712879b268a6cbc2276",
            "a055e622079d41b288fbee83c253767c"
          ]
        },
        "id": "delayed-extraction",
        "outputId": "746bd656-c9a5-4ab3-80dc-63b8defb1991"
      },
      "source": [
        "model = SentenceTransformer('distilbert-base-nli-mean-tokens')\n",
        "embeddings_sbert = model.encode(df_sentences['sentence'].values, show_progress_bar=True)"
      ],
      "id": "delayed-extraction",
      "execution_count": 65,
      "outputs": [
        {
          "output_type": "display_data",
          "data": {
            "application/vnd.jupyter.widget-view+json": {
              "model_id": "9710eae9e5554049b7b6f55c2659538d",
              "version_minor": 0,
              "version_major": 2
            },
            "text/plain": [
              "HBox(children=(FloatProgress(value=0.0, description='Batches', max=6393.0, style=ProgressStyle(description_wid…"
            ]
          },
          "metadata": {
            "tags": []
          }
        },
        {
          "output_type": "stream",
          "text": [
            "\n"
          ],
          "name": "stdout"
        }
      ]
    },
    {
      "cell_type": "code",
      "metadata": {
        "colab": {
          "base_uri": "https://localhost:8080/",
          "height": 46
        },
        "id": "competitive-convenience",
        "outputId": "f06dec85-5f56-4217-f861-acea8facc0dc"
      },
      "source": [
        "sbert_embeddings_count, sbert_embeddings_size = embeddings_sbert.shape\n",
        "printmd(f'**Sentence-BERT embeddings**: {sbert_embeddings_count:,} vectors of size {sbert_embeddings_size}.')"
      ],
      "id": "competitive-convenience",
      "execution_count": 85,
      "outputs": [
        {
          "output_type": "display_data",
          "data": {
            "text/markdown": "**Sentence-BERT embeddings**: 204,571 vectors of size 768.",
            "text/plain": [
              "<IPython.core.display.Markdown object>"
            ]
          },
          "metadata": {
            "tags": []
          }
        }
      ]
    },
    {
      "cell_type": "markdown",
      "metadata": {
        "id": "objective-inventory"
      },
      "source": [
        "## Step 2 - Dimensionality Reduction"
      ],
      "id": "objective-inventory"
    },
    {
      "cell_type": "code",
      "metadata": {
        "id": "social-edition"
      },
      "source": [
        "import umap"
      ],
      "id": "social-edition",
      "execution_count": 80,
      "outputs": []
    },
    {
      "cell_type": "code",
      "metadata": {
        "id": "greenhouse-coordinate"
      },
      "source": [
        "embeddings_reduced = umap.UMAP(\n",
        "    n_neighbors=15, \n",
        "    n_components=5, \n",
        "    metric='cosine'\n",
        ").fit_transform(sbert_embeddings)"
      ],
      "id": "greenhouse-coordinate",
      "execution_count": 82,
      "outputs": []
    },
    {
      "cell_type": "code",
      "metadata": {
        "id": "steady-electric"
      },
      "source": [
        "embeddings_2d = umap.UMAP(\n",
        "    n_neighbors=15,\n",
        "    n_components=2,\n",
        "    min_dist=0.0,\n",
        "    metric='cosine'\n",
        ").fit_transform(sbert_embeddings)"
      ],
      "id": "steady-electric",
      "execution_count": 86,
      "outputs": []
    },
    {
      "cell_type": "markdown",
      "metadata": {
        "id": "duplicate-shepherd"
      },
      "source": [
        "## Step 3 - Clustering"
      ],
      "id": "duplicate-shepherd"
    },
    {
      "cell_type": "code",
      "metadata": {
        "id": "retained-wright"
      },
      "source": [
        "import hdbscan"
      ],
      "id": "retained-wright",
      "execution_count": 94,
      "outputs": []
    },
    {
      "cell_type": "code",
      "metadata": {
        "id": "legislative-chile"
      },
      "source": [
        "cluster = hdbscan.HDBSCAN(\n",
        "    min_cluster_size=10,\n",
        "    metric='euclidean',                      \n",
        "    cluster_selection_method='eom').fit(embeddings_reduced)"
      ],
      "id": "legislative-chile",
      "execution_count": 96,
      "outputs": []
    },
    {
      "cell_type": "code",
      "metadata": {
        "id": "unauthorized-tracker"
      },
      "source": [
        "df_sentences['cluster_id'] = cluster.labels_"
      ],
      "id": "unauthorized-tracker",
      "execution_count": 98,
      "outputs": []
    },
    {
      "cell_type": "code",
      "metadata": {
        "id": "oPRwMSQjqJKi"
      },
      "source": [
        "df_sentences_clustered = df_sentences[df_sentences['cluster_id'] != -1]"
      ],
      "id": "oPRwMSQjqJKi",
      "execution_count": 101,
      "outputs": []
    },
    {
      "cell_type": "code",
      "metadata": {
        "colab": {
          "base_uri": "https://localhost:8080/",
          "height": 296
        },
        "id": "legendary-compiler",
        "outputId": "fcbfc306-77af-403b-af3c-db0bd37b1208"
      },
      "source": [
        "sns.histplot(df_sentences_clustered['cluster_id'], palette='Paired')\n",
        "plt.title('Cluster Distribution');"
      ],
      "id": "legendary-compiler",
      "execution_count": 106,
      "outputs": [
        {
          "output_type": "display_data",
          "data": {
            "image/png": "[encoded data removed]",
            "text/plain": [
              "<Figure size 432x288 with 1 Axes>"
            ]
          },
          "metadata": {
            "tags": [],
            "needs_background": "light"
          }
        }
      ]
    },
    {
      "cell_type": "code",
      "metadata": {
        "colab": {
          "base_uri": "https://localhost:8080/",
          "height": 610
        },
        "id": "continuous-leeds",
        "outputId": "92d855bd-c643-4802-aabc-2bb5a765414e"
      },
      "source": [
        "# Prepare data\n",
        "result = pd.DataFrame(embeddings_2d, columns=['x', 'y'])\n",
        "result['labels'] = cluster.labels_\n",
        "\n",
        "# Visualize clusters\n",
        "fig, ax = plt.subplots(figsize=(20, 10))\n",
        "outliers = result.loc[result.labels == -1, :]\n",
        "clustered = result.loc[result.labels != -1, :]\n",
        "plt.scatter(outliers.x, outliers.y, color='black', s=0.05)\n",
        "plt.scatter(clustered.x, clustered.y, c=clustered.labels, s=0.05, cmap='hsv_r')\n",
        "plt.colorbar()"
      ],
      "id": "continuous-leeds",
      "execution_count": 111,
      "outputs": [
        {
          "output_type": "execute_result",
          "data": {
            "text/plain": [
              "<matplotlib.colorbar.Colorbar at 0x7f7894212d10>"
            ]
          },
          "metadata": {
            "tags": []
          },
          "execution_count": 111
        },
        {
          "output_type": "display_data",
          "data": {
            "image/png": "[encoded data removed]",
            "text/plain": [
              "<Figure size 1440x720 with 2 Axes>"
            ]
          },
          "metadata": {
            "tags": [],
            "needs_background": "light"
          }
        }
      ]
    },
    {
      "cell_type": "code",
      "metadata": {
        "id": "4AZJwL9UvFXl"
      },
      "source": [
        "df_sentences_per_cluster = df_sentences.groupby(['cluster_id'], as_index = False).agg({'sentence': ' '.join})"
      ],
      "id": "4AZJwL9UvFXl",
      "execution_count": null,
      "outputs": []
    },
    {
      "cell_type": "code",
      "metadata": {
        "colab": {
          "base_uri": "https://localhost:8080/",
          "height": 261
        },
        "id": "uK3RbdycvKEe",
        "outputId": "563af161-1db9-4b85-a73b-92c245188b5f"
      },
      "source": [
        "df_sentences.loc[df_sentences['cluster_id'].isin([800])][:3]"
      ],
      "id": "uK3RbdycvKEe",
      "execution_count": 140,
      "outputs": [
        {
          "output_type": "execute_result",
          "data": {
            "text/html": [
              "<div>\n",
              "<style scoped>\n",
              "    .dataframe tbody tr th:only-of-type {\n",
              "        vertical-align: middle;\n",
              "    }\n",
              "\n",
              "    .dataframe tbody tr th {\n",
              "        vertical-align: top;\n",
              "    }\n",
              "\n",
              "    .dataframe thead th {\n",
              "        text-align: right;\n",
              "    }\n",
              "</style>\n",
              "<table border=\"1\" class=\"dataframe\">\n",
              "  <thead>\n",
              "    <tr style=\"text-align: right;\">\n",
              "      <th></th>\n",
              "      <th>original_sentence</th>\n",
              "      <th>document_id</th>\n",
              "      <th>sentence</th>\n",
              "      <th>cluster_id</th>\n",
              "    </tr>\n",
              "  </thead>\n",
              "  <tbody>\n",
              "    <tr>\n",
              "      <th>3815</th>\n",
              "      <td>Organization: Allegheny College  In article &lt;C5Jsxs.1M0@unix.amherst.edu&gt; jlroffma@unix.amherst.edu (JOSHUA   LAWRENCE ROFFMAN) writes: &gt; : &gt;baseball players, past and present.</td>\n",
              "      <td>325</td>\n",
              "      <td>organization allegheny college article jlroffma unix amherst edu joshua lawrence roffman writes baseball players past present</td>\n",
              "      <td>800</td>\n",
              "    </tr>\n",
              "    <tr>\n",
              "      <th>6330</th>\n",
              "      <td>From: hamkins@geisel.csl.uiuc.edu (Jon Hamkins) Subject: Re: Triva question on Bosio's No-hitter Organization: Center for Reliable and High-Performance Computing, University of Illinois at Urbana-Champaign Lines: 16 NNTP-Posting-Host: grinch.csl.uiuc.edu  wall@cc.swarthmore.edu (Matthew Wall) wr...</td>\n",
              "      <td>529</td>\n",
              "      <td>hamkins geisel csl uiuc edu jon hamkins subject triva question bosiohitter organization center reliable high performance computing university illinois urbana champaign lines nntp posting host grinch csl uiuc edu wall cc swarthmore edu matthew wall writesactually answer bosio walking batters reti...</td>\n",
              "      <td>800</td>\n",
              "    </tr>\n",
              "    <tr>\n",
              "      <th>6869</th>\n",
              "      <td>From: tedward@cs.cornell.edu (Edward [Ted] Fischer) Subject: Re: Bases loaded walk gives Reds win in 12 Organization: Cornell Univ. CS Dept, Ithaca NY 14853 Lines: 87  In article &lt;mssC5y5u0.4Dn@netcom.com&gt; mss@netcom.com (Mark Singer) writes: &gt; &gt;Actually, I think the large-scale sample size is p...</td>\n",
              "      <td>576</td>\n",
              "      <td>tedward cs cornell edu edward ted fischer subject bases loaded walk gives reds win organization cornell univ cs dept ithaca ny lines article mss netcom com mark singer writes actually think large scale sample size problem plot players baseball regard ba vs clutch ba deviation kind bell curve</td>\n",
              "      <td>800</td>\n",
              "    </tr>\n",
              "  </tbody>\n",
              "</table>\n",
              "</div>"
            ],
            "text/plain": [
              "                                                                                                                                                                                                                                                                                                original_sentence  ...  cluster_id\n",
              "3815                                                                                                                             Organization: Allegheny College  In article <C5Jsxs.1M0@unix.amherst.edu> jlroffma@unix.amherst.edu (JOSHUA   LAWRENCE ROFFMAN) writes: > : >baseball players, past and present.  ...         800\n",
              "6330  From: hamkins@geisel.csl.uiuc.edu (Jon Hamkins) Subject: Re: Triva question on Bosio's No-hitter Organization: Center for Reliable and High-Performance Computing, University of Illinois at Urbana-Champaign Lines: 16 NNTP-Posting-Host: grinch.csl.uiuc.edu  wall@cc.swarthmore.edu (Matthew Wall) wr...  ...         800\n",
              "6869  From: tedward@cs.cornell.edu (Edward [Ted] Fischer) Subject: Re: Bases loaded walk gives Reds win in 12 Organization: Cornell Univ. CS Dept, Ithaca NY 14853 Lines: 87  In article <mssC5y5u0.4Dn@netcom.com> mss@netcom.com (Mark Singer) writes: > >Actually, I think the large-scale sample size is p...  ...         800\n",
              "\n",
              "[3 rows x 4 columns]"
            ]
          },
          "metadata": {
            "tags": []
          },
          "execution_count": 140
        }
      ]
    },
    {
      "cell_type": "markdown",
      "metadata": {
        "id": "respected-pledge"
      },
      "source": [
        "# Step 4 - Topic Summarization"
      ],
      "id": "respected-pledge"
    },
    {
      "cell_type": "code",
      "metadata": {
        "id": "8-lWBDQK7feG"
      },
      "source": [
        "import spacy"
      ],
      "id": "8-lWBDQK7feG",
      "execution_count": 203,
      "outputs": []
    },
    {
      "cell_type": "code",
      "metadata": {
        "id": "CFvc3YhxEypl"
      },
      "source": [
        "nlp = spacy.load(\"en_core_web_sm\")"
      ],
      "id": "CFvc3YhxEypl",
      "execution_count": 236,
      "outputs": []
    },
    {
      "cell_type": "code",
      "metadata": {
        "id": "ZAlXTSrktOEz"
      },
      "source": [
        "df_sentences_per_cluster = df_sentences\\\n",
        "  .groupby(['cluster_id'], as_index = False)\\\n",
        "  .agg({'sentence': ' '.join})\\\n",
        "  .rename(columns={'sentence': 'cluster_sentences'})"
      ],
      "id": "ZAlXTSrktOEz",
      "execution_count": 147,
      "outputs": []
    },
    {
      "cell_type": "code",
      "metadata": {
        "colab": {
          "base_uri": "https://localhost:8080/",
          "height": 529
        },
        "id": "jHnw3T9Bu4SD",
        "outputId": "2ed1e526-e9bf-4f1a-e104-3b7b477dcead"
      },
      "source": [
        "df_sentences_per_cluster.sample(n=10)"
      ],
      "id": "jHnw3T9Bu4SD",
      "execution_count": 163,
      "outputs": [
        {
          "output_type": "execute_result",
          "data": {
            "text/html": [
              "<div>\n",
              "<style scoped>\n",
              "    .dataframe tbody tr th:only-of-type {\n",
              "        vertical-align: middle;\n",
              "    }\n",
              "\n",
              "    .dataframe tbody tr th {\n",
              "        vertical-align: top;\n",
              "    }\n",
              "\n",
              "    .dataframe thead th {\n",
              "        text-align: right;\n",
              "    }\n",
              "</style>\n",
              "<table border=\"1\" class=\"dataframe\">\n",
              "  <thead>\n",
              "    <tr style=\"text-align: right;\">\n",
              "      <th></th>\n",
              "      <th>cluster_id</th>\n",
              "      <th>cluster_sentences</th>\n",
              "    </tr>\n",
              "  </thead>\n",
              "  <tbody>\n",
              "    <tr>\n",
              "      <th>179</th>\n",
              "      <td>178</td>\n",
              "      <td>sole intention learning fly prb access digex com pat subject conference manned lunar exploration crystal city organization express access online communications greenbelt md usa lines distribution na nntp posting host access digex net aw st brief blurb manned lunar exploration confernce th crysta...</td>\n",
              "    </tr>\n",
              "    <tr>\n",
              "      <th>849</th>\n",
              "      <td>848</td>\n",
              "      <td>organization case western reserve university cleveland oh usa lines reply ch cleveland freenet edu tony alicea nntp posting host hela ins cwru edu previous article cdcolvin rahul net christophercolvin says worked amorc hs bj cleveland freenet edu mikeromano subject drop drawers doctor organizati...</td>\n",
              "    </tr>\n",
              "    <tr>\n",
              "      <th>3</th>\n",
              "      <td>2</td>\n",
              "      <td>wd cs tu berlin wolfgang diestelkamp subject universal phones days tony morgan demon uk tony kidson subject universal phones days thomas tornblom nexus comm se thomas tornblom subject universal phones days jtsilla damon ccs northeastern edu james tsillas subject universal phones days lhe sics se...</td>\n",
              "    </tr>\n",
              "    <tr>\n",
              "      <th>453</th>\n",
              "      <td>452</td>\n",
              "      <td>scott hiles whiles relay nswc navy mil standard disclaimer opinions expressed necessarily reflect dod navy thanks keith keith radio nl nuwc navy mil pugsley dpugsle nswc wo nswc navy mil pmontan nswc wo navy mil paul montanaro subject iiciupgrade mark cervi carderockdiv nswc code annapolis md ce...</td>\n",
              "    </tr>\n",
              "    <tr>\n",
              "      <th>758</th>\n",
              "      <td>757</td>\n",
              "      <td>hapenned tragedy war crime irgun harry agree harry concede arab terrorism tragedy war remember palestinians effective target civilians order cause notice israel talks acts tough battle willing talk peace way israelis arabs able achieve peace years fighting following major reasons arab government...</td>\n",
              "    </tr>\n",
              "    <tr>\n",
              "      <th>152</th>\n",
              "      <td>151</td>\n",
              "      <td>jean andrews subject wanted large dog cage organization graduate school industrial administr carnegie mellon pittsburgh pa lines nntp posting host po andrew cmu edu need large dog cage kind use housebreak dog dave svoboda svoboda void rtsg mot comgetting tired concours mmmmmmmmmm beating dave rz...</td>\n",
              "    </tr>\n",
              "    <tr>\n",
              "      <th>467</th>\n",
              "      <td>466</td>\n",
              "      <td>clipper organization dec systems research center lines article brad clarinet com brad templeton writes actual algorithm classified main thrust cellular phones encryption radio end end end think wonderful encrypter borrow converts message meet bomb white house rboudrie chpc org rob boudrie subjec...</td>\n",
              "    </tr>\n",
              "    <tr>\n",
              "      <th>791</th>\n",
              "      <td>790</td>\n",
              "      <td>ll post newsgroups font available replymail office days reading news crossposting crossposting occurs newsgroup included newsgroups line article header articles appear newsgroups listed distribution field header news article allows partially control article goes called distribution field distrib...</td>\n",
              "    </tr>\n",
              "    <tr>\n",
              "      <th>731</th>\n",
              "      <td>730</td>\n",
              "      <td>holds meaning survived correction fbi said cult members said far able talk fbi chasing pinkos general publicmind bit extra constitutional activity prior initial assault complex single batf agent accompanying witness contingent assault news media personnel attempt knock door branch davidiancomple...</td>\n",
              "    </tr>\n",
              "    <tr>\n",
              "      <th>406</th>\n",
              "      <td>405</td>\n",
              "      <td>institute named catoletters libertarian pamphlets widely read american colonies early th century played major role laying philosophical foundation american revolution republican dirty tricksters people expect texans congressmen actj republicans stephanopoulos house republicans voted q president ...</td>\n",
              "    </tr>\n",
              "  </tbody>\n",
              "</table>\n",
              "</div>"
            ],
            "text/plain": [
              "     cluster_id                                                                                                                                                                                                                                                                                            cluster_sentences\n",
              "179         178  sole intention learning fly prb access digex com pat subject conference manned lunar exploration crystal city organization express access online communications greenbelt md usa lines distribution na nntp posting host access digex net aw st brief blurb manned lunar exploration confernce th crysta...\n",
              "849         848  organization case western reserve university cleveland oh usa lines reply ch cleveland freenet edu tony alicea nntp posting host hela ins cwru edu previous article cdcolvin rahul net christophercolvin says worked amorc hs bj cleveland freenet edu mikeromano subject drop drawers doctor organizati...\n",
              "3             2  wd cs tu berlin wolfgang diestelkamp subject universal phones days tony morgan demon uk tony kidson subject universal phones days thomas tornblom nexus comm se thomas tornblom subject universal phones days jtsilla damon ccs northeastern edu james tsillas subject universal phones days lhe sics se...\n",
              "453         452  scott hiles whiles relay nswc navy mil standard disclaimer opinions expressed necessarily reflect dod navy thanks keith keith radio nl nuwc navy mil pugsley dpugsle nswc wo nswc navy mil pmontan nswc wo navy mil paul montanaro subject iiciupgrade mark cervi carderockdiv nswc code annapolis md ce...\n",
              "758         757  hapenned tragedy war crime irgun harry agree harry concede arab terrorism tragedy war remember palestinians effective target civilians order cause notice israel talks acts tough battle willing talk peace way israelis arabs able achieve peace years fighting following major reasons arab government...\n",
              "152         151  jean andrews subject wanted large dog cage organization graduate school industrial administr carnegie mellon pittsburgh pa lines nntp posting host po andrew cmu edu need large dog cage kind use housebreak dog dave svoboda svoboda void rtsg mot comgetting tired concours mmmmmmmmmm beating dave rz...\n",
              "467         466  clipper organization dec systems research center lines article brad clarinet com brad templeton writes actual algorithm classified main thrust cellular phones encryption radio end end end think wonderful encrypter borrow converts message meet bomb white house rboudrie chpc org rob boudrie subjec...\n",
              "791         790  ll post newsgroups font available replymail office days reading news crossposting crossposting occurs newsgroup included newsgroups line article header articles appear newsgroups listed distribution field header news article allows partially control article goes called distribution field distrib...\n",
              "731         730  holds meaning survived correction fbi said cult members said far able talk fbi chasing pinkos general publicmind bit extra constitutional activity prior initial assault complex single batf agent accompanying witness contingent assault news media personnel attempt knock door branch davidiancomple...\n",
              "406         405  institute named catoletters libertarian pamphlets widely read american colonies early th century played major role laying philosophical foundation american revolution republican dirty tricksters people expect texans congressmen actj republicans stephanopoulos house republicans voted q president ..."
            ]
          },
          "metadata": {
            "tags": []
          },
          "execution_count": 163
        }
      ]
    },
    {
      "cell_type": "code",
      "metadata": {
        "id": "adjustable-airport"
      },
      "source": [
        "from sklearn.feature_extraction.text import CountVectorizer"
      ],
      "id": "adjustable-airport",
      "execution_count": 149,
      "outputs": []
    },
    {
      "cell_type": "code",
      "metadata": {
        "id": "devoted-complaint"
      },
      "source": [
        "def c_tf_idf(documents, m, ngram_range=(1, 1)):\n",
        "    count = CountVectorizer(ngram_range=ngram_range, stop_words=\"english\").fit(documents)\n",
        "    t = count.transform(documents).toarray()\n",
        "    w = t.sum(axis=1)\n",
        "    tf = np.divide(t.T, w)\n",
        "    sum_t = t.sum(axis=0)\n",
        "    idf = np.log(np.divide(m, sum_t)).reshape(-1, 1)\n",
        "    tf_idf = np.multiply(tf, idf)\n",
        "\n",
        "    return tf_idf, count\n",
        "\n",
        "def extract_top_n_words_per_topic(tf_idf, count, labels, n=20):\n",
        "    words = count.get_feature_names()\n",
        "    tf_idf_transposed = tf_idf.T\n",
        "    indices = tf_idf_transposed.argsort()[:, -n:]\n",
        "    top_n_words = {label: [(words[j], tf_idf_transposed[i][j]) for j in indices[i]][::-1] for i, label in enumerate(labels)}\n",
        "    return top_n_words\n",
        "\n",
        "def extract_topic_sizes(df):\n",
        "    topic_sizes = (df.groupby(['cluster_id'])\n",
        "                     .Doc\n",
        "                     .count()\n",
        "                     .reset_index()\n",
        "                     .rename({\"Topic\": \"Topic\", \"Doc\": \"Size\"}, axis='columns')\n",
        "                     .sort_values(\"Size\", ascending=False))\n",
        "    return topic_sizes"
      ],
      "id": "devoted-complaint",
      "execution_count": 159,
      "outputs": []
    },
    {
      "cell_type": "code",
      "metadata": {
        "id": "limited-pacific"
      },
      "source": [
        "tf_idf, count = c_tf_idf(df_sentences_per_cluster['cluster_sentences'].values, m=df_sentences.shape[0])"
      ],
      "id": "limited-pacific",
      "execution_count": 156,
      "outputs": []
    },
    {
      "cell_type": "code",
      "metadata": {
        "id": "rQ5sIpzUxQeI"
      },
      "source": [
        "top_n_words = extract_top_n_words_per_topic(tf_idf, count, df_sentences_per_cluster['cluster_id'].tolist(), n=20)"
      ],
      "id": "rQ5sIpzUxQeI",
      "execution_count": 157,
      "outputs": []
    },
    {
      "cell_type": "code",
      "metadata": {
        "colab": {
          "base_uri": "https://localhost:8080/",
          "height": 309
        },
        "id": "8CnJSzrCxVew",
        "outputId": "0ce401e4-b362-45c4-a1ae-c66e0030d082"
      },
      "source": [
        "topic_sizes = extract_topic_sizes(df_sentences_per_cluster['cluster_id']); topic_sizes.head(10)"
      ],
      "id": "8CnJSzrCxVew",
      "execution_count": 164,
      "outputs": [
        {
          "output_type": "error",
          "ename": "KeyError",
          "evalue": "ignored",
          "traceback": [
            "\u001b[0;31m---------------------------------------------------------------------------\u001b[0m",
            "\u001b[0;31mKeyError\u001b[0m                                  Traceback (most recent call last)",
            "\u001b[0;32m<ipython-input-164-ddb517a33ef7>\u001b[0m in \u001b[0;36m<module>\u001b[0;34m()\u001b[0m\n\u001b[0;32m----> 1\u001b[0;31m \u001b[0mtopic_sizes\u001b[0m \u001b[0;34m=\u001b[0m \u001b[0mextract_topic_sizes\u001b[0m\u001b[0;34m(\u001b[0m\u001b[0mdf_sentences_per_cluster\u001b[0m\u001b[0;34m[\u001b[0m\u001b[0;34m'cluster_id'\u001b[0m\u001b[0;34m]\u001b[0m\u001b[0;34m)\u001b[0m\u001b[0;34m;\u001b[0m \u001b[0mtopic_sizes\u001b[0m\u001b[0;34m.\u001b[0m\u001b[0mhead\u001b[0m\u001b[0;34m(\u001b[0m\u001b[0;36m10\u001b[0m\u001b[0;34m)\u001b[0m\u001b[0;34m\u001b[0m\u001b[0;34m\u001b[0m\u001b[0m\n\u001b[0m",
            "\u001b[0;32m<ipython-input-159-71960b38913a>\u001b[0m in \u001b[0;36mextract_topic_sizes\u001b[0;34m(df)\u001b[0m\n\u001b[1;32m     18\u001b[0m \u001b[0;34m\u001b[0m\u001b[0m\n\u001b[1;32m     19\u001b[0m \u001b[0;32mdef\u001b[0m \u001b[0mextract_topic_sizes\u001b[0m\u001b[0;34m(\u001b[0m\u001b[0mdf\u001b[0m\u001b[0;34m)\u001b[0m\u001b[0;34m:\u001b[0m\u001b[0;34m\u001b[0m\u001b[0;34m\u001b[0m\u001b[0m\n\u001b[0;32m---> 20\u001b[0;31m     topic_sizes = (df.groupby(['cluster_id'])\n\u001b[0m\u001b[1;32m     21\u001b[0m                      \u001b[0;34m.\u001b[0m\u001b[0mDoc\u001b[0m\u001b[0;34m\u001b[0m\u001b[0;34m\u001b[0m\u001b[0m\n\u001b[1;32m     22\u001b[0m                      \u001b[0;34m.\u001b[0m\u001b[0mcount\u001b[0m\u001b[0;34m(\u001b[0m\u001b[0;34m)\u001b[0m\u001b[0;34m\u001b[0m\u001b[0;34m\u001b[0m\u001b[0m\n",
            "\u001b[0;32m/usr/local/lib/python3.7/dist-packages/pandas/core/series.py\u001b[0m in \u001b[0;36mgroupby\u001b[0;34m(self, by, axis, level, as_index, sort, group_keys, squeeze, observed, dropna)\u001b[0m\n\u001b[1;32m   1744\u001b[0m             \u001b[0msqueeze\u001b[0m\u001b[0;34m=\u001b[0m\u001b[0msqueeze\u001b[0m\u001b[0;34m,\u001b[0m\u001b[0;34m\u001b[0m\u001b[0;34m\u001b[0m\u001b[0m\n\u001b[1;32m   1745\u001b[0m             \u001b[0mobserved\u001b[0m\u001b[0;34m=\u001b[0m\u001b[0mobserved\u001b[0m\u001b[0;34m,\u001b[0m\u001b[0;34m\u001b[0m\u001b[0;34m\u001b[0m\u001b[0m\n\u001b[0;32m-> 1746\u001b[0;31m             \u001b[0mdropna\u001b[0m\u001b[0;34m=\u001b[0m\u001b[0mdropna\u001b[0m\u001b[0;34m,\u001b[0m\u001b[0;34m\u001b[0m\u001b[0;34m\u001b[0m\u001b[0m\n\u001b[0m\u001b[1;32m   1747\u001b[0m         )\n\u001b[1;32m   1748\u001b[0m \u001b[0;34m\u001b[0m\u001b[0m\n",
            "\u001b[0;32m/usr/local/lib/python3.7/dist-packages/pandas/core/groupby/groupby.py\u001b[0m in \u001b[0;36m__init__\u001b[0;34m(self, obj, keys, axis, level, grouper, exclusions, selection, as_index, sort, group_keys, squeeze, observed, mutated, dropna)\u001b[0m\n\u001b[1;32m    531\u001b[0m                 \u001b[0mobserved\u001b[0m\u001b[0;34m=\u001b[0m\u001b[0mobserved\u001b[0m\u001b[0;34m,\u001b[0m\u001b[0;34m\u001b[0m\u001b[0;34m\u001b[0m\u001b[0m\n\u001b[1;32m    532\u001b[0m                 \u001b[0mmutated\u001b[0m\u001b[0;34m=\u001b[0m\u001b[0mself\u001b[0m\u001b[0;34m.\u001b[0m\u001b[0mmutated\u001b[0m\u001b[0;34m,\u001b[0m\u001b[0;34m\u001b[0m\u001b[0;34m\u001b[0m\u001b[0m\n\u001b[0;32m--> 533\u001b[0;31m                 \u001b[0mdropna\u001b[0m\u001b[0;34m=\u001b[0m\u001b[0mself\u001b[0m\u001b[0;34m.\u001b[0m\u001b[0mdropna\u001b[0m\u001b[0;34m,\u001b[0m\u001b[0;34m\u001b[0m\u001b[0;34m\u001b[0m\u001b[0m\n\u001b[0m\u001b[1;32m    534\u001b[0m             )\n\u001b[1;32m    535\u001b[0m \u001b[0;34m\u001b[0m\u001b[0m\n",
            "\u001b[0;32m/usr/local/lib/python3.7/dist-packages/pandas/core/groupby/grouper.py\u001b[0m in \u001b[0;36mget_grouper\u001b[0;34m(obj, key, axis, level, sort, observed, mutated, validate, dropna)\u001b[0m\n\u001b[1;32m    784\u001b[0m                 \u001b[0min_axis\u001b[0m\u001b[0;34m,\u001b[0m \u001b[0mname\u001b[0m\u001b[0;34m,\u001b[0m \u001b[0mlevel\u001b[0m\u001b[0;34m,\u001b[0m \u001b[0mgpr\u001b[0m \u001b[0;34m=\u001b[0m \u001b[0;32mFalse\u001b[0m\u001b[0;34m,\u001b[0m \u001b[0;32mNone\u001b[0m\u001b[0;34m,\u001b[0m \u001b[0mgpr\u001b[0m\u001b[0;34m,\u001b[0m \u001b[0;32mNone\u001b[0m\u001b[0;34m\u001b[0m\u001b[0;34m\u001b[0m\u001b[0m\n\u001b[1;32m    785\u001b[0m             \u001b[0;32melse\u001b[0m\u001b[0;34m:\u001b[0m\u001b[0;34m\u001b[0m\u001b[0;34m\u001b[0m\u001b[0m\n\u001b[0;32m--> 786\u001b[0;31m                 \u001b[0;32mraise\u001b[0m \u001b[0mKeyError\u001b[0m\u001b[0;34m(\u001b[0m\u001b[0mgpr\u001b[0m\u001b[0;34m)\u001b[0m\u001b[0;34m\u001b[0m\u001b[0;34m\u001b[0m\u001b[0m\n\u001b[0m\u001b[1;32m    787\u001b[0m         \u001b[0;32melif\u001b[0m \u001b[0misinstance\u001b[0m\u001b[0;34m(\u001b[0m\u001b[0mgpr\u001b[0m\u001b[0;34m,\u001b[0m \u001b[0mGrouper\u001b[0m\u001b[0;34m)\u001b[0m \u001b[0;32mand\u001b[0m \u001b[0mgpr\u001b[0m\u001b[0;34m.\u001b[0m\u001b[0mkey\u001b[0m \u001b[0;32mis\u001b[0m \u001b[0;32mnot\u001b[0m \u001b[0;32mNone\u001b[0m\u001b[0;34m:\u001b[0m\u001b[0;34m\u001b[0m\u001b[0;34m\u001b[0m\u001b[0m\n\u001b[1;32m    788\u001b[0m             \u001b[0;31m# Add key to exclusions\u001b[0m\u001b[0;34m\u001b[0m\u001b[0;34m\u001b[0m\u001b[0;34m\u001b[0m\u001b[0m\n",
            "\u001b[0;31mKeyError\u001b[0m: 'cluster_id'"
          ]
        }
      ]
    },
    {
      "cell_type": "code",
      "metadata": {
        "colab": {
          "base_uri": "https://localhost:8080/"
        },
        "id": "focused-component",
        "outputId": "727cac8b-7a7a-4bb2-a15e-736c89d2ba75"
      },
      "source": [
        "top_n_words[900]"
      ],
      "id": "focused-component",
      "execution_count": 173,
      "outputs": [
        {
          "output_type": "execute_result",
          "data": {
            "text/plain": [
              "[('fail', 0.5511826034457368),\n",
              " ('deaf', 0.46287806199936876),\n",
              " ('thwarted', 0.26708496949456095),\n",
              " ('unsuccessful', 0.25430844802662145),\n",
              " ('greasy', 0.25430844802662145),\n",
              " ('dimension', 0.22979375844754402),\n",
              " ('shouted', 0.22539759832482914),\n",
              " ('clothes', 0.21406120579608034),\n",
              " ('adds', 0.20584081934760262),\n",
              " ('analogy', 0.20035657541136562),\n",
              " ('discrimination', 0.1971703140547015),\n",
              " ('phrase', 0.19047994199195833),\n",
              " ('efforts', 0.18891616776904252),\n",
              " ('fails', 0.18841489948034001),\n",
              " ('blind', 0.18650017963080245),\n",
              " ('motor', 0.18386640440561872),\n",
              " ('remain', 0.1802308691824393),\n",
              " ('purposes', 0.17747035392059204),\n",
              " ('failed', 0.17409321779171272),\n",
              " ('stick', 0.17361733159609966)]"
            ]
          },
          "metadata": {
            "tags": []
          },
          "execution_count": 173
        }
      ]
    },
    {
      "cell_type": "code",
      "metadata": {
        "id": "qlFTS9XN0sKo"
      },
      "source": [
        "df_sentences.reset_index(inplace=True)"
      ],
      "id": "qlFTS9XN0sKo",
      "execution_count": 183,
      "outputs": []
    },
    {
      "cell_type": "code",
      "metadata": {
        "id": "5OO0jF9n0Cjc"
      },
      "source": [
        "! curl --silent -O https://raw.githubusercontent.com/UKPLab/sentence-transformers/master/examples/applications/text-summarization/LexRank.py"
      ],
      "id": "5OO0jF9n0Cjc",
      "execution_count": 176,
      "outputs": []
    },
    {
      "cell_type": "code",
      "metadata": {
        "id": "ZZEP48a40NYL",
        "outputId": "5042357d-4017-45c8-a8c9-e0640fe54f2b",
        "colab": {
          "base_uri": "https://localhost:8080/",
          "height": 66,
          "referenced_widgets": [
            "d785ff38024c4409985d91ae9d54f3a6",
            "dab4adff9e284ac9b04a9feb32e6999f",
            "c4bc05bc7aec40018a942f7ec12bb07e",
            "3611b1f1417b450da33265068c9643a4",
            "07dcb8a290f8406a99244af123fafeba",
            "9d0dd40e2f1341359ddbbab17a0a76e4",
            "997fc8c5bf9649518d5c4257b1f7bef6",
            "fce0f42b082a4439a4f9b14c5e1e2964"
          ]
        }
      },
      "source": [
        "from sentence_transformers.util import pytorch_cos_sim\n",
        "from LexRank import degree_centrality_scores\n",
        "\n",
        "examples_by_cluster = {}\n",
        "cluster_iter = tqdm(df_sentences.groupby(\"cluster_id\"), desc=\"Clusters\")\n",
        "for cluster_id, cluster_group in cluster_iter:\n",
        "    if cluster_id == -1:\n",
        "      continue\n",
        "    cluster_emb = np.take(embeddings_sbert, cluster_group.index.values, axis=0)\n",
        "    cos_scores = pytorch_cos_sim(cluster_emb, cluster_emb).numpy()\n",
        "    centrality_scores = degree_centrality_scores(cos_scores, threshold=None)\n",
        "    cluster_examples = cluster_group.iloc[np.argsort(-centrality_scores)[:10]]\n",
        "    examples_by_cluster[cluster_id] = cluster_examples.sentence.values.tolist()"
      ],
      "id": "ZZEP48a40NYL",
      "execution_count": 184,
      "outputs": [
        {
          "output_type": "display_data",
          "data": {
            "application/vnd.jupyter.widget-view+json": {
              "model_id": "d785ff38024c4409985d91ae9d54f3a6",
              "version_minor": 0,
              "version_major": 2
            },
            "text/plain": [
              "HBox(children=(FloatProgress(value=0.0, description='Clusters', max=1052.0, style=ProgressStyle(description_wi…"
            ]
          },
          "metadata": {
            "tags": []
          }
        },
        {
          "output_type": "stream",
          "text": [
            "\n"
          ],
          "name": "stdout"
        }
      ]
    },
    {
      "cell_type": "code",
      "metadata": {
        "id": "imN_a88X08VN"
      },
      "source": [
        "df_sentences_per_cluster[\"central_sentences\"] = df_sentences_per_cluster[\"cluster_id\"].apply(examples_by_cluster.get)"
      ],
      "id": "imN_a88X08VN",
      "execution_count": 192,
      "outputs": []
    },
    {
      "cell_type": "code",
      "metadata": {
        "id": "n9Bs_8jZ1j1m",
        "outputId": "c69b9ff0-1fbf-402b-a0c7-0ddb28bccc99",
        "colab": {
          "base_uri": "https://localhost:8080/",
          "height": 374
        }
      },
      "source": [
        "df_sentences_per_cluster.sample(n=5)"
      ],
      "id": "n9Bs_8jZ1j1m",
      "execution_count": 196,
      "outputs": [
        {
          "output_type": "execute_result",
          "data": {
            "text/html": [
              "<div>\n",
              "<style scoped>\n",
              "    .dataframe tbody tr th:only-of-type {\n",
              "        vertical-align: middle;\n",
              "    }\n",
              "\n",
              "    .dataframe tbody tr th {\n",
              "        vertical-align: top;\n",
              "    }\n",
              "\n",
              "    .dataframe thead th {\n",
              "        text-align: right;\n",
              "    }\n",
              "</style>\n",
              "<table border=\"1\" class=\"dataframe\">\n",
              "  <thead>\n",
              "    <tr style=\"text-align: right;\">\n",
              "      <th></th>\n",
              "      <th>cluster_id</th>\n",
              "      <th>cluster_sentences</th>\n",
              "      <th>central_sentences</th>\n",
              "    </tr>\n",
              "  </thead>\n",
              "  <tbody>\n",
              "    <tr>\n",
              "      <th>602</th>\n",
              "      <td>601</td>\n",
              "      <td>beck irzr inf tu dresden andre beck subject drawing colour pixmaps rectangular organization dept science tu dresden germany organization dept science tu dresden germany beck irzr inf tu dresden andre beck subject encapsulated postscriptkeywords eps reply andre beck irs inf tu dresden organizatio...</td>\n",
              "      <td>[beck irzr inf tu dresden andre beck subject file tmp organization dept science tu dresden germany, beck irzr inf tu dresden andre beck subject cuteclients organization dept science tu dresden germany, beck irzr inf tu dresden andre beck subject pov problems tga outputs organization dept science...</td>\n",
              "    </tr>\n",
              "    <tr>\n",
              "      <th>971</th>\n",
              "      <td>970</td>\n",
              "      <td>robink hparc aus hp com robin kenny subject boom mbeaving bnr ca michael beavington subject boom rwalls twg com roger walls subject boom gharriso hpcc corp hp com graeme harrison subject boom nak cbnews cb att com neil kirby subject boom daved world std com davedorfman subject boom l lmsc lmsc l...</td>\n",
              "      <td>[clarke bdrc bd com richard clarke subject boom, nak cbnews cb att com neil kirby subject boom, rwalls twg com roger walls subject boom, sysmgr king eng umd edu doug mohney subject boom, gharriso hpcc corp hp com graeme harrison subject boom, bgardner bambam es com blaine gardner subject boom, d...</td>\n",
              "    </tr>\n",
              "    <tr>\n",
              "      <th>472</th>\n",
              "      <td>471</td>\n",
              "      <td>congratulations sabres time playing sabres sabres coudlnstarted nd shots sabres pierre turgeon formely sabres isles wears buffalo like hear know sabres gary sabres sabres rely lafontaine mogilny sabres ll cheer sabres sabres bills fan adams st rds sabres</td>\n",
              "      <td>[sabres, sabres coudlnstarted, nd shots sabres, adams st rds sabres, time playing sabres, like hear know sabres, congratulations sabres, gary sabres, ll cheer sabres, sabres bills fan]</td>\n",
              "    </tr>\n",
              "    <tr>\n",
              "      <th>330</th>\n",
              "      <td>329</td>\n",
              "      <td>adopted month old non housetrained huskey time arises causes months debate months abyss came fact took months calling threatening seen months numbers reversed m surprised subject gets beat death month biggest problem imho stancecomfortable months months later pain returned happened took months s...</td>\n",
              "      <td>[seen months numbers reversed, months shots symptoms gone havencome, happened took months sort mess, month passed second drive having problems, unable times past month, shouldnappointment viewed pay difficulty couple months ago, surprise problem developed months later, note tried figure stuff mo...</td>\n",
              "    </tr>\n",
              "    <tr>\n",
              "      <th>473</th>\n",
              "      <td>472</td>\n",
              "      <td>ground goes ground pin outlet ground wire connected outletmounting tabs grounds box faceplate screw metal faceplate hg zipper nylon coil type kind molded plastic teeth outlet ground pin wire generally connected insulated busbar distribution panel turn connected building entrance main ground wire...</td>\n",
              "      <td>[connection neutral wire ground breaker box, cut hole plastic panel currently holding tmpty place, romex brand type plastic insulated wire, t slide reversable plastic cover, ground goes ground pin outlet ground wire connected outletmounting tabs grounds box faceplate screw metal faceplate, break...</td>\n",
              "    </tr>\n",
              "  </tbody>\n",
              "</table>\n",
              "</div>"
            ],
            "text/plain": [
              "     cluster_id  ...                                                                                                                                                                                                                                                                                            central_sentences\n",
              "602         601  ...  [beck irzr inf tu dresden andre beck subject file tmp organization dept science tu dresden germany, beck irzr inf tu dresden andre beck subject cuteclients organization dept science tu dresden germany, beck irzr inf tu dresden andre beck subject pov problems tga outputs organization dept science...\n",
              "971         970  ...  [clarke bdrc bd com richard clarke subject boom, nak cbnews cb att com neil kirby subject boom, rwalls twg com roger walls subject boom, sysmgr king eng umd edu doug mohney subject boom, gharriso hpcc corp hp com graeme harrison subject boom, bgardner bambam es com blaine gardner subject boom, d...\n",
              "472         471  ...                                                                                                                     [sabres, sabres coudlnstarted, nd shots sabres, adams st rds sabres, time playing sabres, like hear know sabres, congratulations sabres, gary sabres, ll cheer sabres, sabres bills fan]\n",
              "330         329  ...  [seen months numbers reversed, months shots symptoms gone havencome, happened took months sort mess, month passed second drive having problems, unable times past month, shouldnappointment viewed pay difficulty couple months ago, surprise problem developed months later, note tried figure stuff mo...\n",
              "473         472  ...  [connection neutral wire ground breaker box, cut hole plastic panel currently holding tmpty place, romex brand type plastic insulated wire, t slide reversable plastic cover, ground goes ground pin outlet ground wire connected outletmounting tabs grounds box faceplate screw metal faceplate, break...\n",
              "\n",
              "[5 rows x 3 columns]"
            ]
          },
          "metadata": {
            "tags": []
          },
          "execution_count": 196
        }
      ]
    },
    {
      "cell_type": "code",
      "metadata": {
        "id": "C8pFdijU6N6r"
      },
      "source": [
        "def get_noun_phrases(corpus):\n",
        "    res = collections.Counter()\n",
        "    if not corpus:\n",
        "      return res\n",
        "    for doc in nlp.pipe(corpus):\n",
        "        for chunk in doc:\n",
        "            if chunk.label_ == \"NP\" and chunk[0].tag_ in (\"PRP\", \"WP\", \"NNP\"):\n",
        "                continue\n",
        "            elif chunk.lower_.endswith(\"%\"):\n",
        "                continue\n",
        "            res[chunk.lower_] += 1\n",
        "    return res\n",
        "\n",
        "def get_noun_phrases(corpus):\n",
        "    res = collections.Counter()\n",
        "    if not corpus:\n",
        "      return res\n",
        "    for doc in nlp.pipe(corpus):\n",
        "      noun_pharses=set()    \n",
        "      for nc in doc.noun_chunks:\n",
        "          for np in [nc, doc[nc.root.left_edge.i:nc.root.right_edge.i+1]]:\n",
        "            noun_pharses.add(np)\n",
        "            if np[0].tag_ in (\"PRP\", \"WP\", \"NNP\"):\n",
        "              noun_pharses.add(np)\n",
        "          res[nc] += 1\n",
        "      return res"
      ],
      "id": "C8pFdijU6N6r",
      "execution_count": 224,
      "outputs": []
    },
    {
      "cell_type": "code",
      "metadata": {
        "id": "FET76csa7blB"
      },
      "source": [
        "nlp = spacy.load(\"en_core_web_sm\")"
      ],
      "id": "FET76csa7blB",
      "execution_count": 211,
      "outputs": []
    },
    {
      "cell_type": "code",
      "metadata": {
        "id": "I5nvy3tX3iZA",
        "outputId": "d8e22cc9-bc43-4c74-d529-c9dca5ec6605",
        "colab": {
          "base_uri": "https://localhost:8080/",
          "height": 66,
          "referenced_widgets": [
            "c03b1ad18c8b4103892d8c63f09fa0a7",
            "ef67ed38819f4e488ecb5ac03d1b4fca",
            "f73f2beae58a43fd87f30d2d14850f9b",
            "b63623e2b5a34a69b226076fd396472e",
            "d62a39d2f3424631ab30f765412ccdbc",
            "f50dc7c9d2e3402a9e4df848b9ba522b",
            "3b3babf5e09e4fbe95216134bf61c3fc",
            "007e0e6484874ddbbda08d9328136df4"
          ]
        }
      },
      "source": [
        "df_sentences_per_cluster[\"noun_phrases\"] = df_sentences_per_cluster[\"central_sentences\"].progress_apply(\n",
        "    lambda examples: [np for np, _ in get_noun_phrases(examples).most_common(3)])"
      ],
      "id": "I5nvy3tX3iZA",
      "execution_count": 226,
      "outputs": [
        {
          "output_type": "display_data",
          "data": {
            "application/vnd.jupyter.widget-view+json": {
              "model_id": "c03b1ad18c8b4103892d8c63f09fa0a7",
              "version_major": 2,
              "version_minor": 0
            },
            "text/plain": [
              "HBox(children=(FloatProgress(value=0.0, max=1052.0), HTML(value='')))"
            ]
          },
          "metadata": {
            "tags": []
          }
        },
        {
          "output_type": "stream",
          "text": [
            "\n"
          ],
          "name": "stdout"
        }
      ]
    },
    {
      "cell_type": "code",
      "metadata": {
        "id": "Si5BQ6LKDOR3",
        "outputId": "196fd1b7-1ec0-4de1-920c-90b3c7dd6219",
        "colab": {
          "base_uri": "https://localhost:8080/",
          "height": 425
        }
      },
      "source": [
        "df_sentences_per_cluster.sample(n=5)"
      ],
      "id": "Si5BQ6LKDOR3",
      "execution_count": 228,
      "outputs": [
        {
          "output_type": "execute_result",
          "data": {
            "text/html": [
              "<div>\n",
              "<style scoped>\n",
              "    .dataframe tbody tr th:only-of-type {\n",
              "        vertical-align: middle;\n",
              "    }\n",
              "\n",
              "    .dataframe tbody tr th {\n",
              "        vertical-align: top;\n",
              "    }\n",
              "\n",
              "    .dataframe thead th {\n",
              "        text-align: right;\n",
              "    }\n",
              "</style>\n",
              "<table border=\"1\" class=\"dataframe\">\n",
              "  <thead>\n",
              "    <tr style=\"text-align: right;\">\n",
              "      <th></th>\n",
              "      <th>cluster_id</th>\n",
              "      <th>cluster_sentences</th>\n",
              "      <th>central_sentences</th>\n",
              "      <th>noun_phrases</th>\n",
              "    </tr>\n",
              "  </thead>\n",
              "  <tbody>\n",
              "    <tr>\n",
              "      <th>494</th>\n",
              "      <td>493</td>\n",
              "      <td>squished fish frankbig fish leslie fish fish dean kaflowitz like away shack catfish ainprettytalk goin fishin goin fishin good friends sure goin fishin especially fishing expeditions targetknowlege looks like duck quacks like duck license fish nets implies fishing village insteadconsidered peopl...</td>\n",
              "      <td>[especially fishing expeditions targetknowlege, frankbig fish, looked creel fishes, license fish, bring fishing rods possible fish prepared board, fish calpe psc edu, fish tapes rented, fishes, think tank fish tank, nets implies fishing village]</td>\n",
              "      <td>[(especially, fishing, expeditions)]</td>\n",
              "    </tr>\n",
              "    <tr>\n",
              "      <th>413</th>\n",
              "      <td>412</td>\n",
              "      <td>spooks navy required know gist ussid navy way naming particular presidential executive order wouldnmean president nixon private citizen nixon sureslightest president nixon presidentfema president richardnixon president leon fuerth national security advisor vice president europe working implement...</td>\n",
              "      <td>[stating president decision, decision forward likecertainly president explain justify, ll present president point ll decision, myers working groupmission point convince president, know president announcement, informed president decisions, mean president supports process ve initiated, operation w...</td>\n",
              "      <td>[(president, decision)]</td>\n",
              "    </tr>\n",
              "    <tr>\n",
              "      <th>957</th>\n",
              "      <td>956</td>\n",
              "      <td>xt calls included x person ksh login shell information obtain xfree listed note servers xfree motif source available based xr version posted comp sources x example seen xdm sources use xlib ala xnextevent works xterms havenable compile xdvi way release sco odt use xr xr course works xterm</td>\n",
              "      <td>[release sco odt use xr xr, motif source available based xr, information obtain xfree listed, version posted comp sources x, use xlib ala xnextevent, works xterms, example seen xdm sources, havenable compile xdvi way, xt calls included, x person ksh login shell]</td>\n",
              "      <td>[(release), (sco, odt), (xr, xr)]</td>\n",
              "    </tr>\n",
              "    <tr>\n",
              "      <th>1034</th>\n",
              "      <td>1033</td>\n",
              "      <td>talk minutes talk ve got couple questions thing talking somebody price talking assume talking opinion orientation specifically talking dsr version talking discuss talk generalizations actually talking rally feel like speak s want talk define inserting conversation come talk spirit talking talk l...</td>\n",
              "      <td>[says talking, talking, talk, version talking, talked, reminding discuss, talk like, think talking, assume talking, m talking case]</td>\n",
              "      <td>[]</td>\n",
              "    </tr>\n",
              "    <tr>\n",
              "      <th>100</th>\n",
              "      <td>99</td>\n",
              "      <td>yes helmet job god given right express opinions carry gun wear helmet goddamn non sequitur guns helmets proper flourish people use face helmet bets s face shield open face aviator sunglasses m interested face shield necessarily helmet piece chin mean carry helmet cams sent helmet letter stating ...</td>\n",
              "      <td>[challanging open face helmet, good place helmet mirror, decided invest face helmet smart, m interested face shield necessarily helmet piece chin, yes helmet job, helmet, line appears helmets integrity compromised visible signs, gas permeable face helmet face sheild, carry want comply intelligen...</td>\n",
              "      <td>[(open, face, helmet)]</td>\n",
              "    </tr>\n",
              "  </tbody>\n",
              "</table>\n",
              "</div>"
            ],
            "text/plain": [
              "      cluster_id  ...                          noun_phrases\n",
              "494          493  ...  [(especially, fishing, expeditions)]\n",
              "413          412  ...               [(president, decision)]\n",
              "957          956  ...     [(release), (sco, odt), (xr, xr)]\n",
              "1034        1033  ...                                    []\n",
              "100           99  ...                [(open, face, helmet)]\n",
              "\n",
              "[5 rows x 4 columns]"
            ]
          },
          "metadata": {
            "tags": []
          },
          "execution_count": 228
        }
      ]
    },
    {
      "cell_type": "code",
      "metadata": {
        "id": "RIpFz83X-JK6"
      },
      "source": [
        "from gensim.models.coherencemodel import CoherenceModel\n",
        "from gensim.test.utils import common_corpus, common_dictionary\n",
        "from gensim import corpora"
      ],
      "id": "RIpFz83X-JK6",
      "execution_count": null,
      "outputs": []
    },
    {
      "cell_type": "code",
      "metadata": {
        "id": "kRKi9dwu6Lam"
      },
      "source": [
        ""
      ],
      "id": "kRKi9dwu6Lam",
      "execution_count": null,
      "outputs": []
    },
    {
      "cell_type": "code",
      "metadata": {
        "id": "GU7oZzb9-hMM"
      },
      "source": [
        "topics = [\n",
        "    ['human', 'computer', 'system', 'interface'],\n",
        "    ['graph', 'minors', 'trees', 'eps'],\n",
        "    ['graph', 'minors', 'trees', 'eps'],\n",
        "    ['woman', 'girl', 'boy']\n",
        "]"
      ],
      "id": "GU7oZzb9-hMM",
      "execution_count": null,
      "outputs": []
    },
    {
      "cell_type": "code",
      "metadata": {
        "id": "g_GAYgxrC5WG"
      },
      "source": [
        "words = list(itertools.chain.from_iterable(topics))\n",
        "dct = corpora.Dictionary(topics)"
      ],
      "id": "g_GAYgxrC5WG",
      "execution_count": null,
      "outputs": []
    },
    {
      "cell_type": "code",
      "metadata": {
        "colab": {
          "base_uri": "https://localhost:8080/"
        },
        "id": "JZafHlAs_XRk",
        "outputId": "3990ccd1-1932-449f-fa45-e6fa0f96b947"
      },
      "source": [
        "coherence_model = CoherenceModel(topics=topics,\n",
        "    corpus=common_corpus,\n",
        "    dictionary=dct,\n",
        "    coherence='u_mass'\n",
        ")\n",
        "coherence_score = coherence_model.get_coherence_per_topic()\n",
        "coherence_score"
      ],
      "id": "JZafHlAs_XRk",
      "execution_count": null,
      "outputs": [
        {
          "output_type": "execute_result",
          "data": {
            "text/plain": [
              "[-9.17107936008472,\n",
              " -0.7324081924379064,\n",
              " -0.7324081924379064,\n",
              " -17.823427587541516]"
            ]
          },
          "metadata": {
            "tags": []
          },
          "execution_count": 75
        }
      ]
    },
    {
      "cell_type": "code",
      "metadata": {
        "colab": {
          "base_uri": "https://localhost:8080/"
        },
        "id": "5WxBcVItCYYL",
        "outputId": "441d1092-91a0-49b6-b99c-673420682470"
      },
      "source": [
        "\n",
        "coherence_model.get_coherence_per_topic()"
      ],
      "id": "5WxBcVItCYYL",
      "execution_count": null,
      "outputs": [
        {
          "output_type": "execute_result",
          "data": {
            "text/plain": [
              "[-0.7607246985689725, -13.449306461738571, -13.449306461738571]"
            ]
          },
          "metadata": {
            "tags": []
          },
          "execution_count": 48
        }
      ]
    },
    {
      "cell_type": "code",
      "metadata": {
        "id": "dXkhp4eeNCHq"
      },
      "source": [
        "\n",
        "from collections import defaultdict"
      ],
      "id": "dXkhp4eeNCHq",
      "execution_count": null,
      "outputs": []
    },
    {
      "cell_type": "code",
      "metadata": {
        "id": "U5m3pDHPM_kT"
      },
      "source": [
        "documents = [\n",
        "    \"Human machine interface for lab abc computer applications\",\n",
        "    \"A survey of user opinion of computer system response time\",\n",
        "    \"The EPS user interface management system\",\n",
        "    \"System and human system engineering testing of EPS\",\n",
        "    \"Relation of user perceived response time to error measurement\",\n",
        "    \"The generation of random binary unordered trees\",\n",
        "    \"The intersection graph of paths in trees\",\n",
        "    \"Graph minors IV Widths of trees and well quasi ordering\",\n",
        "    \"Graph minors A survey\",\n",
        "]\n",
        "\n",
        "# remove common words and tokenize\n",
        "stoplist = set('for a of the and to in'.split())\n",
        "texts = [\n",
        "    [word for word in document.lower().split() if word not in stoplist]\n",
        "    for document in documents\n",
        "]\n",
        "\n",
        "# remove words that appear only once\n",
        "frequency = defaultdict(int)\n",
        "for text in texts:\n",
        "    for token in text:\n",
        "        frequency[token] += 1\n",
        "\n",
        "texts = [\n",
        "    [token for token in text if frequency[token] > 1]\n",
        "    for text in texts\n",
        "]\n",
        "\n",
        "dictionary = corpora.Dictionary(texts)\n",
        "corpus = [dictionary.doc2bow(text) for text in texts]"
      ],
      "id": "U5m3pDHPM_kT",
      "execution_count": null,
      "outputs": []
    },
    {
      "cell_type": "code",
      "metadata": {
        "id": "73jPnUXONnO9"
      },
      "source": [
        ""
      ],
      "id": "73jPnUXONnO9",
      "execution_count": null,
      "outputs": []
    },
    {
      "cell_type": "markdown",
      "metadata": {
        "id": "everyday-amateur"
      },
      "source": [
        "# Topic Classification"
      ],
      "id": "everyday-amateur"
    },
    {
      "cell_type": "code",
      "metadata": {
        "id": "arranged-bicycle"
      },
      "source": [
        "from transformers import pipeline"
      ],
      "id": "arranged-bicycle",
      "execution_count": 227,
      "outputs": []
    },
    {
      "cell_type": "code",
      "metadata": {
        "id": "TJQxCQfWFg0C",
        "outputId": "e433012e-d73f-4a20-c953-f7dbfd991396",
        "colab": {
          "base_uri": "https://localhost:8080/",
          "height": 311,
          "referenced_widgets": [
            "8323df281f444abe8b2a95a1762b808b",
            "8a482e8625fe45b8928454ae7f8378e5",
            "88a9b77fb35d4baa8dab49ac55baebe0",
            "c23f911cfd254963aaf51bb2aad285f2",
            "ca26ef306b28438899bcb92453e3bfc6",
            "9547aefc582347ec82e5e7f2826b6913",
            "75ac3b1c4e454455bb2f1564341a0914",
            "c17d2a7bd40248b4bdb37f79ad06f600",
            "758269c270b1451ea759a9a408535a60",
            "c401456bc4f849bd8304a70bbd0bb20b",
            "d67f7345e09b41db9fd0d40a9362207f",
            "7e3a332c1cfb4ff4923fbb83850b56ae",
            "4708b727c93c4a4d99ee649c9fc311ae",
            "af9a391757064486b6b585404331f3b4",
            "cfef71cd8ab541a486ec20ebb848ee95",
            "1c06a34f74754338bfc5d30a42820ae8",
            "16e258641fc644b8991a44e81685421a",
            "4672e7a26bb64477baa568ad62711ea9",
            "28eea93f8d044730bfd5b17ee10b3a3c",
            "26b91875e08d42e295dff4517bca7b39",
            "685ec7d584e545bba92bfe253f26b774",
            "c6a06ff828c64b469d9b1559f91b6a60",
            "996e1810ff2a48f7ae3a936cf92760b0",
            "306165f4445d4ae0ac8116317bce90b7",
            "86158c0f520c44a9a93381d57d834106",
            "7b27e850da3f4d9a9257f48ff02a8dbb",
            "779d458fecaf406299fe212e2132e9d8",
            "d83b893f1ce64d779fd4ab5768a12360",
            "94c6eb8183a544cf882322b2e001f955",
            "add8cd2d51b84355aeb0b25a892dcedf",
            "11a67a29bf60432c9b1ac79cea8a019f",
            "113d7757e6874370a34f1cde374acaed",
            "095f5e6e9bea473ea3b72b106a405c12",
            "8ec8bee0ce824fa98302f6c381cbd1b0",
            "f01d0231b5b246b3b253a0835842690b",
            "3d8b736281094286821ad0cfa3bf0cb5",
            "d2af29d564204503950fdfd7457ec647",
            "ea40e91c94724bb99e9d3de938ae66d6",
            "1fcfad6627234100a46b4c62b1cbf9f5",
            "841c515c0a9a4c5a9b7f66c2c7d8e634",
            "8c58258ea4934a919b433ba5b8c71f70",
            "12727945e6bd433b9352df98def2decb",
            "9c36ebbbde0e42179996799f320a6fd5",
            "49220668d9a4442eab20368977eee976",
            "acfa5900cff24ee287cc1a584791529b",
            "cfe0bc01e180482ca05f3ecb46be9396",
            "6ec98bf4af95413ca402630d5d7d5b11",
            "a3f67353e9df4d0692207cf4366de3f7"
          ]
        }
      },
      "source": [
        "classifier = pipeline(\"zero-shot-classification\")"
      ],
      "id": "TJQxCQfWFg0C",
      "execution_count": 243,
      "outputs": [
        {
          "output_type": "display_data",
          "data": {
            "application/vnd.jupyter.widget-view+json": {
              "model_id": "8323df281f444abe8b2a95a1762b808b",
              "version_minor": 0,
              "version_major": 2
            },
            "text/plain": [
              "HBox(children=(FloatProgress(value=0.0, description='Downloading', max=908.0, style=ProgressStyle(description_…"
            ]
          },
          "metadata": {
            "tags": []
          }
        },
        {
          "output_type": "stream",
          "text": [
            "\n"
          ],
          "name": "stdout"
        },
        {
          "output_type": "display_data",
          "data": {
            "application/vnd.jupyter.widget-view+json": {
              "model_id": "758269c270b1451ea759a9a408535a60",
              "version_minor": 0,
              "version_major": 2
            },
            "text/plain": [
              "HBox(children=(FloatProgress(value=0.0, description='Downloading', max=1629486723.0, style=ProgressStyle(descr…"
            ]
          },
          "metadata": {
            "tags": []
          }
        },
        {
          "output_type": "stream",
          "text": [
            "\n"
          ],
          "name": "stdout"
        },
        {
          "output_type": "display_data",
          "data": {
            "application/vnd.jupyter.widget-view+json": {
              "model_id": "16e258641fc644b8991a44e81685421a",
              "version_minor": 0,
              "version_major": 2
            },
            "text/plain": [
              "HBox(children=(FloatProgress(value=0.0, description='Downloading', max=898822.0, style=ProgressStyle(descripti…"
            ]
          },
          "metadata": {
            "tags": []
          }
        },
        {
          "output_type": "stream",
          "text": [
            "\n"
          ],
          "name": "stdout"
        },
        {
          "output_type": "display_data",
          "data": {
            "application/vnd.jupyter.widget-view+json": {
              "model_id": "86158c0f520c44a9a93381d57d834106",
              "version_minor": 0,
              "version_major": 2
            },
            "text/plain": [
              "HBox(children=(FloatProgress(value=0.0, description='Downloading', max=456318.0, style=ProgressStyle(descripti…"
            ]
          },
          "metadata": {
            "tags": []
          }
        },
        {
          "output_type": "stream",
          "text": [
            "\n"
          ],
          "name": "stdout"
        },
        {
          "output_type": "display_data",
          "data": {
            "application/vnd.jupyter.widget-view+json": {
              "model_id": "095f5e6e9bea473ea3b72b106a405c12",
              "version_minor": 0,
              "version_major": 2
            },
            "text/plain": [
              "HBox(children=(FloatProgress(value=0.0, description='Downloading', max=1355863.0, style=ProgressStyle(descript…"
            ]
          },
          "metadata": {
            "tags": []
          }
        },
        {
          "output_type": "stream",
          "text": [
            "\n"
          ],
          "name": "stdout"
        },
        {
          "output_type": "display_data",
          "data": {
            "application/vnd.jupyter.widget-view+json": {
              "model_id": "8c58258ea4934a919b433ba5b8c71f70",
              "version_minor": 0,
              "version_major": 2
            },
            "text/plain": [
              "HBox(children=(FloatProgress(value=0.0, description='Downloading', max=26.0, style=ProgressStyle(description_w…"
            ]
          },
          "metadata": {
            "tags": []
          }
        },
        {
          "output_type": "stream",
          "text": [
            "\n"
          ],
          "name": "stdout"
        }
      ]
    },
    {
      "cell_type": "code",
      "metadata": {
        "id": "xYzsWrbJ-goc"
      },
      "source": [
        "sequence = \"\"\"\\\n",
        "Israelis will vote again on Tuesday, seeking to end a political \\\n",
        "deadlock that has gripped the country for two years\\\n",
        "\"\"\"\n",
        "candidate_labels = [\"elections\", \"global warming\", \"covid-19\"]\n",
        "\n",
        "classifiaction_scores = classifier(sequence, candidate_labels)['scores']"
      ],
      "id": "xYzsWrbJ-goc",
      "execution_count": 274,
      "outputs": []
    },
    {
      "cell_type": "code",
      "metadata": {
        "id": "Umb_MiQOIXQ-",
        "outputId": "82334518-27cb-450e-90dc-0bb80a782f0a",
        "colab": {
          "base_uri": "https://localhost:8080/",
          "height": 161
        }
      },
      "source": [
        "printmd('**Text to Classify:**')\n",
        "print(sequence)\n",
        "printmd('**Classification Scores:**')\n",
        "for label, score in zip(candidate_labels, classifiaction_scores):\n",
        "  printmd(f'{BULLET} {label} - {score:.2f}')"
      ],
      "id": "Umb_MiQOIXQ-",
      "execution_count": 294,
      "outputs": [
        {
          "output_type": "display_data",
          "data": {
            "text/markdown": "**Text to Classify:**",
            "text/plain": [
              "<IPython.core.display.Markdown object>"
            ]
          },
          "metadata": {
            "tags": []
          }
        },
        {
          "output_type": "stream",
          "text": [
            "Israelis will vote again on Tuesday, seeking to end a political deadlock that has gripped the country for two years\n"
          ],
          "name": "stdout"
        },
        {
          "output_type": "display_data",
          "data": {
            "text/markdown": "**Classification Scores:**",
            "text/plain": [
              "<IPython.core.display.Markdown object>"
            ]
          },
          "metadata": {
            "tags": []
          }
        },
        {
          "output_type": "display_data",
          "data": {
            "text/markdown": "&nbsp;&nbsp;&nbsp;&nbsp;➡ elections - 0.93",
            "text/plain": [
              "<IPython.core.display.Markdown object>"
            ]
          },
          "metadata": {
            "tags": []
          }
        },
        {
          "output_type": "display_data",
          "data": {
            "text/markdown": "&nbsp;&nbsp;&nbsp;&nbsp;➡ global warming - 0.06",
            "text/plain": [
              "<IPython.core.display.Markdown object>"
            ]
          },
          "metadata": {
            "tags": []
          }
        },
        {
          "output_type": "display_data",
          "data": {
            "text/markdown": "&nbsp;&nbsp;&nbsp;&nbsp;➡ covid-19 - 0.00",
            "text/plain": [
              "<IPython.core.display.Markdown object>"
            ]
          },
          "metadata": {
            "tags": []
          }
        }
      ]
    },
    {
      "cell_type": "code",
      "metadata": {
        "id": "Z9m0aX5mLFcu"
      },
      "source": [
        ""
      ],
      "id": "Z9m0aX5mLFcu",
      "execution_count": 296,
      "outputs": []
    },
    {
      "cell_type": "code",
      "metadata": {
        "id": "K5tPbsfnLKe5"
      },
      "source": [
        ""
      ],
      "id": "K5tPbsfnLKe5",
      "execution_count": null,
      "outputs": []
    }
  ]
}