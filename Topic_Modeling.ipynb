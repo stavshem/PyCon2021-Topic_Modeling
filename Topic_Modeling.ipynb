{
  "nbformat": 4,
  "nbformat_minor": 5,
  "metadata": {
    "accelerator": "GPU",
    "colab": {
      "name": "Topic_Modeling.ipynb",
      "provenance": [],
      "toc_visible": true
    },
    "kernelspec": {
      "display_name": "Python 3",
      "language": "python",
      "name": "python3"
    },
    "language_info": {
      "codemirror_mode": {
        "name": "ipython",
        "version": 3
      },
      "file_extension": ".py",
      "mimetype": "text/x-python",
      "name": "python",
      "nbconvert_exporter": "python",
      "pygments_lexer": "ipython3",
      "version": "3.6.8"
    },
    "widgets": {
      "application/vnd.jupyter.widget-state+json": {
        "240ddd882623487e83745c5e72a087be": {
          "model_module": "@jupyter-widgets/controls",
          "model_name": "HBoxModel",
          "state": {
            "_view_name": "HBoxView",
            "_dom_classes": [],
            "_model_name": "HBoxModel",
            "_view_module": "@jupyter-widgets/controls",
            "_model_module_version": "1.5.0",
            "_view_count": null,
            "_view_module_version": "1.5.0",
            "box_style": "",
            "layout": "IPY_MODEL_2691f7324e2842dfaf4c3146536f6677",
            "_model_module": "@jupyter-widgets/controls",
            "children": [
              "IPY_MODEL_23dd865deb004ff6b0c54f4782ac35de",
              "IPY_MODEL_1e60d283e14244c39dfcfea6af58802c"
            ]
          }
        },
        "2691f7324e2842dfaf4c3146536f6677": {
          "model_module": "@jupyter-widgets/base",
          "model_name": "LayoutModel",
          "state": {
            "_view_name": "LayoutView",
            "grid_template_rows": null,
            "right": null,
            "justify_content": null,
            "_view_module": "@jupyter-widgets/base",
            "overflow": null,
            "_model_module_version": "1.2.0",
            "_view_count": null,
            "flex_flow": null,
            "width": null,
            "min_width": null,
            "border": null,
            "align_items": null,
            "bottom": null,
            "_model_module": "@jupyter-widgets/base",
            "top": null,
            "grid_column": null,
            "overflow_y": null,
            "overflow_x": null,
            "grid_auto_flow": null,
            "grid_area": null,
            "grid_template_columns": null,
            "flex": null,
            "_model_name": "LayoutModel",
            "justify_items": null,
            "grid_row": null,
            "max_height": null,
            "align_content": null,
            "visibility": null,
            "align_self": null,
            "height": null,
            "min_height": null,
            "padding": null,
            "grid_auto_rows": null,
            "grid_gap": null,
            "max_width": null,
            "order": null,
            "_view_module_version": "1.2.0",
            "grid_template_areas": null,
            "object_position": null,
            "object_fit": null,
            "grid_auto_columns": null,
            "margin": null,
            "display": null,
            "left": null
          }
        },
        "23dd865deb004ff6b0c54f4782ac35de": {
          "model_module": "@jupyter-widgets/controls",
          "model_name": "FloatProgressModel",
          "state": {
            "_view_name": "ProgressView",
            "style": "IPY_MODEL_be0d1797c5bf4f788c26954683e4b3ff",
            "_dom_classes": [],
            "description": "100%",
            "_model_name": "FloatProgressModel",
            "bar_style": "success",
            "max": 255875,
            "_view_module": "@jupyter-widgets/controls",
            "_model_module_version": "1.5.0",
            "value": 255875,
            "_view_count": null,
            "_view_module_version": "1.5.0",
            "orientation": "horizontal",
            "min": 0,
            "description_tooltip": null,
            "_model_module": "@jupyter-widgets/controls",
            "layout": "IPY_MODEL_b58a05bd8f5544da903c0543959af64c"
          }
        },
        "1e60d283e14244c39dfcfea6af58802c": {
          "model_module": "@jupyter-widgets/controls",
          "model_name": "HTMLModel",
          "state": {
            "_view_name": "HTMLView",
            "style": "IPY_MODEL_7eec2a7cae5e40c59f8e8eb644b266b9",
            "_dom_classes": [],
            "description": "",
            "_model_name": "HTMLModel",
            "placeholder": "​",
            "_view_module": "@jupyter-widgets/controls",
            "_model_module_version": "1.5.0",
            "value": " 255875/255875 [00:55&lt;00:00, 4612.23it/s]",
            "_view_count": null,
            "_view_module_version": "1.5.0",
            "description_tooltip": null,
            "_model_module": "@jupyter-widgets/controls",
            "layout": "IPY_MODEL_2bd29c7e5e334ad5bcece0ae18ea854e"
          }
        },
        "be0d1797c5bf4f788c26954683e4b3ff": {
          "model_module": "@jupyter-widgets/controls",
          "model_name": "ProgressStyleModel",
          "state": {
            "_view_name": "StyleView",
            "_model_name": "ProgressStyleModel",
            "description_width": "initial",
            "_view_module": "@jupyter-widgets/base",
            "_model_module_version": "1.5.0",
            "_view_count": null,
            "_view_module_version": "1.2.0",
            "bar_color": null,
            "_model_module": "@jupyter-widgets/controls"
          }
        },
        "b58a05bd8f5544da903c0543959af64c": {
          "model_module": "@jupyter-widgets/base",
          "model_name": "LayoutModel",
          "state": {
            "_view_name": "LayoutView",
            "grid_template_rows": null,
            "right": null,
            "justify_content": null,
            "_view_module": "@jupyter-widgets/base",
            "overflow": null,
            "_model_module_version": "1.2.0",
            "_view_count": null,
            "flex_flow": null,
            "width": null,
            "min_width": null,
            "border": null,
            "align_items": null,
            "bottom": null,
            "_model_module": "@jupyter-widgets/base",
            "top": null,
            "grid_column": null,
            "overflow_y": null,
            "overflow_x": null,
            "grid_auto_flow": null,
            "grid_area": null,
            "grid_template_columns": null,
            "flex": null,
            "_model_name": "LayoutModel",
            "justify_items": null,
            "grid_row": null,
            "max_height": null,
            "align_content": null,
            "visibility": null,
            "align_self": null,
            "height": null,
            "min_height": null,
            "padding": null,
            "grid_auto_rows": null,
            "grid_gap": null,
            "max_width": null,
            "order": null,
            "_view_module_version": "1.2.0",
            "grid_template_areas": null,
            "object_position": null,
            "object_fit": null,
            "grid_auto_columns": null,
            "margin": null,
            "display": null,
            "left": null
          }
        },
        "7eec2a7cae5e40c59f8e8eb644b266b9": {
          "model_module": "@jupyter-widgets/controls",
          "model_name": "DescriptionStyleModel",
          "state": {
            "_view_name": "StyleView",
            "_model_name": "DescriptionStyleModel",
            "description_width": "",
            "_view_module": "@jupyter-widgets/base",
            "_model_module_version": "1.5.0",
            "_view_count": null,
            "_view_module_version": "1.2.0",
            "_model_module": "@jupyter-widgets/controls"
          }
        },
        "2bd29c7e5e334ad5bcece0ae18ea854e": {
          "model_module": "@jupyter-widgets/base",
          "model_name": "LayoutModel",
          "state": {
            "_view_name": "LayoutView",
            "grid_template_rows": null,
            "right": null,
            "justify_content": null,
            "_view_module": "@jupyter-widgets/base",
            "overflow": null,
            "_model_module_version": "1.2.0",
            "_view_count": null,
            "flex_flow": null,
            "width": null,
            "min_width": null,
            "border": null,
            "align_items": null,
            "bottom": null,
            "_model_module": "@jupyter-widgets/base",
            "top": null,
            "grid_column": null,
            "overflow_y": null,
            "overflow_x": null,
            "grid_auto_flow": null,
            "grid_area": null,
            "grid_template_columns": null,
            "flex": null,
            "_model_name": "LayoutModel",
            "justify_items": null,
            "grid_row": null,
            "max_height": null,
            "align_content": null,
            "visibility": null,
            "align_self": null,
            "height": null,
            "min_height": null,
            "padding": null,
            "grid_auto_rows": null,
            "grid_gap": null,
            "max_width": null,
            "order": null,
            "_view_module_version": "1.2.0",
            "grid_template_areas": null,
            "object_position": null,
            "object_fit": null,
            "grid_auto_columns": null,
            "margin": null,
            "display": null,
            "left": null
          }
        },
        "75fda4e7aa384425a499563f03f5c40e": {
          "model_module": "@jupyter-widgets/controls",
          "model_name": "HBoxModel",
          "state": {
            "_view_name": "HBoxView",
            "_dom_classes": [],
            "_model_name": "HBoxModel",
            "_view_module": "@jupyter-widgets/controls",
            "_model_module_version": "1.5.0",
            "_view_count": null,
            "_view_module_version": "1.5.0",
            "box_style": "",
            "layout": "IPY_MODEL_f72e4690d1c44e99ab407bcd5613c289",
            "_model_module": "@jupyter-widgets/controls",
            "children": [
              "IPY_MODEL_e82b1ea4e9d542cb87683673aa7840d0",
              "IPY_MODEL_8bc14377efff448bb38a276167376e2e"
            ]
          }
        },
        "f72e4690d1c44e99ab407bcd5613c289": {
          "model_module": "@jupyter-widgets/base",
          "model_name": "LayoutModel",
          "state": {
            "_view_name": "LayoutView",
            "grid_template_rows": null,
            "right": null,
            "justify_content": null,
            "_view_module": "@jupyter-widgets/base",
            "overflow": null,
            "_model_module_version": "1.2.0",
            "_view_count": null,
            "flex_flow": null,
            "width": null,
            "min_width": null,
            "border": null,
            "align_items": null,
            "bottom": null,
            "_model_module": "@jupyter-widgets/base",
            "top": null,
            "grid_column": null,
            "overflow_y": null,
            "overflow_x": null,
            "grid_auto_flow": null,
            "grid_area": null,
            "grid_template_columns": null,
            "flex": null,
            "_model_name": "LayoutModel",
            "justify_items": null,
            "grid_row": null,
            "max_height": null,
            "align_content": null,
            "visibility": null,
            "align_self": null,
            "height": null,
            "min_height": null,
            "padding": null,
            "grid_auto_rows": null,
            "grid_gap": null,
            "max_width": null,
            "order": null,
            "_view_module_version": "1.2.0",
            "grid_template_areas": null,
            "object_position": null,
            "object_fit": null,
            "grid_auto_columns": null,
            "margin": null,
            "display": null,
            "left": null
          }
        },
        "e82b1ea4e9d542cb87683673aa7840d0": {
          "model_module": "@jupyter-widgets/controls",
          "model_name": "FloatProgressModel",
          "state": {
            "_view_name": "ProgressView",
            "style": "IPY_MODEL_c0b822e47da84a4ebd1947f09d12a3c5",
            "_dom_classes": [],
            "description": "100%",
            "_model_name": "FloatProgressModel",
            "bar_style": "success",
            "max": 244733649,
            "_view_module": "@jupyter-widgets/controls",
            "_model_module_version": "1.5.0",
            "value": 244733649,
            "_view_count": null,
            "_view_module_version": "1.5.0",
            "orientation": "horizontal",
            "min": 0,
            "description_tooltip": null,
            "_model_module": "@jupyter-widgets/controls",
            "layout": "IPY_MODEL_ac96d77a7d924e60b143a8d1bcd50cac"
          }
        },
        "8bc14377efff448bb38a276167376e2e": {
          "model_module": "@jupyter-widgets/controls",
          "model_name": "HTMLModel",
          "state": {
            "_view_name": "HTMLView",
            "style": "IPY_MODEL_6ab8b04aaba449bba151ad6a90106c99",
            "_dom_classes": [],
            "description": "",
            "_model_name": "HTMLModel",
            "placeholder": "​",
            "_view_module": "@jupyter-widgets/controls",
            "_model_module_version": "1.5.0",
            "value": " 245M/245M [00:13&lt;00:00, 18.3MB/s]",
            "_view_count": null,
            "_view_module_version": "1.5.0",
            "description_tooltip": null,
            "_model_module": "@jupyter-widgets/controls",
            "layout": "IPY_MODEL_75edc474922941e6b34d007c7fa09f00"
          }
        },
        "c0b822e47da84a4ebd1947f09d12a3c5": {
          "model_module": "@jupyter-widgets/controls",
          "model_name": "ProgressStyleModel",
          "state": {
            "_view_name": "StyleView",
            "_model_name": "ProgressStyleModel",
            "description_width": "initial",
            "_view_module": "@jupyter-widgets/base",
            "_model_module_version": "1.5.0",
            "_view_count": null,
            "_view_module_version": "1.2.0",
            "bar_color": null,
            "_model_module": "@jupyter-widgets/controls"
          }
        },
        "ac96d77a7d924e60b143a8d1bcd50cac": {
          "model_module": "@jupyter-widgets/base",
          "model_name": "LayoutModel",
          "state": {
            "_view_name": "LayoutView",
            "grid_template_rows": null,
            "right": null,
            "justify_content": null,
            "_view_module": "@jupyter-widgets/base",
            "overflow": null,
            "_model_module_version": "1.2.0",
            "_view_count": null,
            "flex_flow": null,
            "width": null,
            "min_width": null,
            "border": null,
            "align_items": null,
            "bottom": null,
            "_model_module": "@jupyter-widgets/base",
            "top": null,
            "grid_column": null,
            "overflow_y": null,
            "overflow_x": null,
            "grid_auto_flow": null,
            "grid_area": null,
            "grid_template_columns": null,
            "flex": null,
            "_model_name": "LayoutModel",
            "justify_items": null,
            "grid_row": null,
            "max_height": null,
            "align_content": null,
            "visibility": null,
            "align_self": null,
            "height": null,
            "min_height": null,
            "padding": null,
            "grid_auto_rows": null,
            "grid_gap": null,
            "max_width": null,
            "order": null,
            "_view_module_version": "1.2.0",
            "grid_template_areas": null,
            "object_position": null,
            "object_fit": null,
            "grid_auto_columns": null,
            "margin": null,
            "display": null,
            "left": null
          }
        },
        "6ab8b04aaba449bba151ad6a90106c99": {
          "model_module": "@jupyter-widgets/controls",
          "model_name": "DescriptionStyleModel",
          "state": {
            "_view_name": "StyleView",
            "_model_name": "DescriptionStyleModel",
            "description_width": "",
            "_view_module": "@jupyter-widgets/base",
            "_model_module_version": "1.5.0",
            "_view_count": null,
            "_view_module_version": "1.2.0",
            "_model_module": "@jupyter-widgets/controls"
          }
        },
        "75edc474922941e6b34d007c7fa09f00": {
          "model_module": "@jupyter-widgets/base",
          "model_name": "LayoutModel",
          "state": {
            "_view_name": "LayoutView",
            "grid_template_rows": null,
            "right": null,
            "justify_content": null,
            "_view_module": "@jupyter-widgets/base",
            "overflow": null,
            "_model_module_version": "1.2.0",
            "_view_count": null,
            "flex_flow": null,
            "width": null,
            "min_width": null,
            "border": null,
            "align_items": null,
            "bottom": null,
            "_model_module": "@jupyter-widgets/base",
            "top": null,
            "grid_column": null,
            "overflow_y": null,
            "overflow_x": null,
            "grid_auto_flow": null,
            "grid_area": null,
            "grid_template_columns": null,
            "flex": null,
            "_model_name": "LayoutModel",
            "justify_items": null,
            "grid_row": null,
            "max_height": null,
            "align_content": null,
            "visibility": null,
            "align_self": null,
            "height": null,
            "min_height": null,
            "padding": null,
            "grid_auto_rows": null,
            "grid_gap": null,
            "max_width": null,
            "order": null,
            "_view_module_version": "1.2.0",
            "grid_template_areas": null,
            "object_position": null,
            "object_fit": null,
            "grid_auto_columns": null,
            "margin": null,
            "display": null,
            "left": null
          }
        },
        "4b4730ce5ead42ad81c136648423f6a4": {
          "model_module": "@jupyter-widgets/controls",
          "model_name": "HBoxModel",
          "state": {
            "_view_name": "HBoxView",
            "_dom_classes": [],
            "_model_name": "HBoxModel",
            "_view_module": "@jupyter-widgets/controls",
            "_model_module_version": "1.5.0",
            "_view_count": null,
            "_view_module_version": "1.5.0",
            "box_style": "",
            "layout": "IPY_MODEL_fe100aa115af45689ba95bd1d9263dcf",
            "_model_module": "@jupyter-widgets/controls",
            "children": [
              "IPY_MODEL_454f9dfacd3e43fc87068deace073571",
              "IPY_MODEL_c3d063c8981540e1a1b1160e230bcdb7"
            ]
          }
        },
        "fe100aa115af45689ba95bd1d9263dcf": {
          "model_module": "@jupyter-widgets/base",
          "model_name": "LayoutModel",
          "state": {
            "_view_name": "LayoutView",
            "grid_template_rows": null,
            "right": null,
            "justify_content": null,
            "_view_module": "@jupyter-widgets/base",
            "overflow": null,
            "_model_module_version": "1.2.0",
            "_view_count": null,
            "flex_flow": null,
            "width": null,
            "min_width": null,
            "border": null,
            "align_items": null,
            "bottom": null,
            "_model_module": "@jupyter-widgets/base",
            "top": null,
            "grid_column": null,
            "overflow_y": null,
            "overflow_x": null,
            "grid_auto_flow": null,
            "grid_area": null,
            "grid_template_columns": null,
            "flex": null,
            "_model_name": "LayoutModel",
            "justify_items": null,
            "grid_row": null,
            "max_height": null,
            "align_content": null,
            "visibility": null,
            "align_self": null,
            "height": null,
            "min_height": null,
            "padding": null,
            "grid_auto_rows": null,
            "grid_gap": null,
            "max_width": null,
            "order": null,
            "_view_module_version": "1.2.0",
            "grid_template_areas": null,
            "object_position": null,
            "object_fit": null,
            "grid_auto_columns": null,
            "margin": null,
            "display": null,
            "left": null
          }
        },
        "454f9dfacd3e43fc87068deace073571": {
          "model_module": "@jupyter-widgets/controls",
          "model_name": "FloatProgressModel",
          "state": {
            "_view_name": "ProgressView",
            "style": "IPY_MODEL_68d5df5d0e5a41c4934362cacacb6345",
            "_dom_classes": [],
            "description": "Batches: 100%",
            "_model_name": "FloatProgressModel",
            "bar_style": "success",
            "max": 3580,
            "_view_module": "@jupyter-widgets/controls",
            "_model_module_version": "1.5.0",
            "value": 3580,
            "_view_count": null,
            "_view_module_version": "1.5.0",
            "orientation": "horizontal",
            "min": 0,
            "description_tooltip": null,
            "_model_module": "@jupyter-widgets/controls",
            "layout": "IPY_MODEL_4e6058d41a834a308afe33d9ce68fd65"
          }
        },
        "c3d063c8981540e1a1b1160e230bcdb7": {
          "model_module": "@jupyter-widgets/controls",
          "model_name": "HTMLModel",
          "state": {
            "_view_name": "HTMLView",
            "style": "IPY_MODEL_6cd3722499a7471c9a12d2de74da7acb",
            "_dom_classes": [],
            "description": "",
            "_model_name": "HTMLModel",
            "placeholder": "​",
            "_view_module": "@jupyter-widgets/controls",
            "_model_module_version": "1.5.0",
            "value": " 3580/3580 [02:56&lt;00:00, 20.32it/s]",
            "_view_count": null,
            "_view_module_version": "1.5.0",
            "description_tooltip": null,
            "_model_module": "@jupyter-widgets/controls",
            "layout": "IPY_MODEL_c0b3bf8d481e4acdaeb3680700eb75a9"
          }
        },
        "68d5df5d0e5a41c4934362cacacb6345": {
          "model_module": "@jupyter-widgets/controls",
          "model_name": "ProgressStyleModel",
          "state": {
            "_view_name": "StyleView",
            "_model_name": "ProgressStyleModel",
            "description_width": "initial",
            "_view_module": "@jupyter-widgets/base",
            "_model_module_version": "1.5.0",
            "_view_count": null,
            "_view_module_version": "1.2.0",
            "bar_color": null,
            "_model_module": "@jupyter-widgets/controls"
          }
        },
        "4e6058d41a834a308afe33d9ce68fd65": {
          "model_module": "@jupyter-widgets/base",
          "model_name": "LayoutModel",
          "state": {
            "_view_name": "LayoutView",
            "grid_template_rows": null,
            "right": null,
            "justify_content": null,
            "_view_module": "@jupyter-widgets/base",
            "overflow": null,
            "_model_module_version": "1.2.0",
            "_view_count": null,
            "flex_flow": null,
            "width": null,
            "min_width": null,
            "border": null,
            "align_items": null,
            "bottom": null,
            "_model_module": "@jupyter-widgets/base",
            "top": null,
            "grid_column": null,
            "overflow_y": null,
            "overflow_x": null,
            "grid_auto_flow": null,
            "grid_area": null,
            "grid_template_columns": null,
            "flex": null,
            "_model_name": "LayoutModel",
            "justify_items": null,
            "grid_row": null,
            "max_height": null,
            "align_content": null,
            "visibility": null,
            "align_self": null,
            "height": null,
            "min_height": null,
            "padding": null,
            "grid_auto_rows": null,
            "grid_gap": null,
            "max_width": null,
            "order": null,
            "_view_module_version": "1.2.0",
            "grid_template_areas": null,
            "object_position": null,
            "object_fit": null,
            "grid_auto_columns": null,
            "margin": null,
            "display": null,
            "left": null
          }
        },
        "6cd3722499a7471c9a12d2de74da7acb": {
          "model_module": "@jupyter-widgets/controls",
          "model_name": "DescriptionStyleModel",
          "state": {
            "_view_name": "StyleView",
            "_model_name": "DescriptionStyleModel",
            "description_width": "",
            "_view_module": "@jupyter-widgets/base",
            "_model_module_version": "1.5.0",
            "_view_count": null,
            "_view_module_version": "1.2.0",
            "_model_module": "@jupyter-widgets/controls"
          }
        },
        "c0b3bf8d481e4acdaeb3680700eb75a9": {
          "model_module": "@jupyter-widgets/base",
          "model_name": "LayoutModel",
          "state": {
            "_view_name": "LayoutView",
            "grid_template_rows": null,
            "right": null,
            "justify_content": null,
            "_view_module": "@jupyter-widgets/base",
            "overflow": null,
            "_model_module_version": "1.2.0",
            "_view_count": null,
            "flex_flow": null,
            "width": null,
            "min_width": null,
            "border": null,
            "align_items": null,
            "bottom": null,
            "_model_module": "@jupyter-widgets/base",
            "top": null,
            "grid_column": null,
            "overflow_y": null,
            "overflow_x": null,
            "grid_auto_flow": null,
            "grid_area": null,
            "grid_template_columns": null,
            "flex": null,
            "_model_name": "LayoutModel",
            "justify_items": null,
            "grid_row": null,
            "max_height": null,
            "align_content": null,
            "visibility": null,
            "align_self": null,
            "height": null,
            "min_height": null,
            "padding": null,
            "grid_auto_rows": null,
            "grid_gap": null,
            "max_width": null,
            "order": null,
            "_view_module_version": "1.2.0",
            "grid_template_areas": null,
            "object_position": null,
            "object_fit": null,
            "grid_auto_columns": null,
            "margin": null,
            "display": null,
            "left": null
          }
        },
        "62b72db0daa2465e8501972c8f3b4f7f": {
          "model_module": "@jupyter-widgets/controls",
          "model_name": "HBoxModel",
          "state": {
            "_view_name": "HBoxView",
            "_dom_classes": [],
            "_model_name": "HBoxModel",
            "_view_module": "@jupyter-widgets/controls",
            "_model_module_version": "1.5.0",
            "_view_count": null,
            "_view_module_version": "1.5.0",
            "box_style": "",
            "layout": "IPY_MODEL_022c1454a27245a49fe0d1a12b4ddcc8",
            "_model_module": "@jupyter-widgets/controls",
            "children": [
              "IPY_MODEL_295ce9cdca604bc9b39e8b9bd45d4cac",
              "IPY_MODEL_72f5b8c3240d46a2b5478722346741ab"
            ]
          }
        },
        "022c1454a27245a49fe0d1a12b4ddcc8": {
          "model_module": "@jupyter-widgets/base",
          "model_name": "LayoutModel",
          "state": {
            "_view_name": "LayoutView",
            "grid_template_rows": null,
            "right": null,
            "justify_content": null,
            "_view_module": "@jupyter-widgets/base",
            "overflow": null,
            "_model_module_version": "1.2.0",
            "_view_count": null,
            "flex_flow": null,
            "width": null,
            "min_width": null,
            "border": null,
            "align_items": null,
            "bottom": null,
            "_model_module": "@jupyter-widgets/base",
            "top": null,
            "grid_column": null,
            "overflow_y": null,
            "overflow_x": null,
            "grid_auto_flow": null,
            "grid_area": null,
            "grid_template_columns": null,
            "flex": null,
            "_model_name": "LayoutModel",
            "justify_items": null,
            "grid_row": null,
            "max_height": null,
            "align_content": null,
            "visibility": null,
            "align_self": null,
            "height": null,
            "min_height": null,
            "padding": null,
            "grid_auto_rows": null,
            "grid_gap": null,
            "max_width": null,
            "order": null,
            "_view_module_version": "1.2.0",
            "grid_template_areas": null,
            "object_position": null,
            "object_fit": null,
            "grid_auto_columns": null,
            "margin": null,
            "display": null,
            "left": null
          }
        },
        "295ce9cdca604bc9b39e8b9bd45d4cac": {
          "model_module": "@jupyter-widgets/controls",
          "model_name": "FloatProgressModel",
          "state": {
            "_view_name": "ProgressView",
            "style": "IPY_MODEL_4990adb498804d1f82fd697590620cd7",
            "_dom_classes": [],
            "description": "Clusters: 100%",
            "_model_name": "FloatProgressModel",
            "bar_style": "success",
            "max": 523,
            "_view_module": "@jupyter-widgets/controls",
            "_model_module_version": "1.5.0",
            "value": 523,
            "_view_count": null,
            "_view_module_version": "1.5.0",
            "orientation": "horizontal",
            "min": 0,
            "description_tooltip": null,
            "_model_module": "@jupyter-widgets/controls",
            "layout": "IPY_MODEL_36596585ee204c1da8f846abb1643bad"
          }
        },
        "72f5b8c3240d46a2b5478722346741ab": {
          "model_module": "@jupyter-widgets/controls",
          "model_name": "HTMLModel",
          "state": {
            "_view_name": "HTMLView",
            "style": "IPY_MODEL_bde2f5b7e65240758d12508d16c6b201",
            "_dom_classes": [],
            "description": "",
            "_model_name": "HTMLModel",
            "placeholder": "​",
            "_view_module": "@jupyter-widgets/controls",
            "_model_module_version": "1.5.0",
            "value": " 523/523 [00:10&lt;00:00, 51.60it/s]",
            "_view_count": null,
            "_view_module_version": "1.5.0",
            "description_tooltip": null,
            "_model_module": "@jupyter-widgets/controls",
            "layout": "IPY_MODEL_f3a3da5bba6c4b1c85f49f17c8094c24"
          }
        },
        "4990adb498804d1f82fd697590620cd7": {
          "model_module": "@jupyter-widgets/controls",
          "model_name": "ProgressStyleModel",
          "state": {
            "_view_name": "StyleView",
            "_model_name": "ProgressStyleModel",
            "description_width": "initial",
            "_view_module": "@jupyter-widgets/base",
            "_model_module_version": "1.5.0",
            "_view_count": null,
            "_view_module_version": "1.2.0",
            "bar_color": null,
            "_model_module": "@jupyter-widgets/controls"
          }
        },
        "36596585ee204c1da8f846abb1643bad": {
          "model_module": "@jupyter-widgets/base",
          "model_name": "LayoutModel",
          "state": {
            "_view_name": "LayoutView",
            "grid_template_rows": null,
            "right": null,
            "justify_content": null,
            "_view_module": "@jupyter-widgets/base",
            "overflow": null,
            "_model_module_version": "1.2.0",
            "_view_count": null,
            "flex_flow": null,
            "width": null,
            "min_width": null,
            "border": null,
            "align_items": null,
            "bottom": null,
            "_model_module": "@jupyter-widgets/base",
            "top": null,
            "grid_column": null,
            "overflow_y": null,
            "overflow_x": null,
            "grid_auto_flow": null,
            "grid_area": null,
            "grid_template_columns": null,
            "flex": null,
            "_model_name": "LayoutModel",
            "justify_items": null,
            "grid_row": null,
            "max_height": null,
            "align_content": null,
            "visibility": null,
            "align_self": null,
            "height": null,
            "min_height": null,
            "padding": null,
            "grid_auto_rows": null,
            "grid_gap": null,
            "max_width": null,
            "order": null,
            "_view_module_version": "1.2.0",
            "grid_template_areas": null,
            "object_position": null,
            "object_fit": null,
            "grid_auto_columns": null,
            "margin": null,
            "display": null,
            "left": null
          }
        },
        "bde2f5b7e65240758d12508d16c6b201": {
          "model_module": "@jupyter-widgets/controls",
          "model_name": "DescriptionStyleModel",
          "state": {
            "_view_name": "StyleView",
            "_model_name": "DescriptionStyleModel",
            "description_width": "",
            "_view_module": "@jupyter-widgets/base",
            "_model_module_version": "1.5.0",
            "_view_count": null,
            "_view_module_version": "1.2.0",
            "_model_module": "@jupyter-widgets/controls"
          }
        },
        "f3a3da5bba6c4b1c85f49f17c8094c24": {
          "model_module": "@jupyter-widgets/base",
          "model_name": "LayoutModel",
          "state": {
            "_view_name": "LayoutView",
            "grid_template_rows": null,
            "right": null,
            "justify_content": null,
            "_view_module": "@jupyter-widgets/base",
            "overflow": null,
            "_model_module_version": "1.2.0",
            "_view_count": null,
            "flex_flow": null,
            "width": null,
            "min_width": null,
            "border": null,
            "align_items": null,
            "bottom": null,
            "_model_module": "@jupyter-widgets/base",
            "top": null,
            "grid_column": null,
            "overflow_y": null,
            "overflow_x": null,
            "grid_auto_flow": null,
            "grid_area": null,
            "grid_template_columns": null,
            "flex": null,
            "_model_name": "LayoutModel",
            "justify_items": null,
            "grid_row": null,
            "max_height": null,
            "align_content": null,
            "visibility": null,
            "align_self": null,
            "height": null,
            "min_height": null,
            "padding": null,
            "grid_auto_rows": null,
            "grid_gap": null,
            "max_width": null,
            "order": null,
            "_view_module_version": "1.2.0",
            "grid_template_areas": null,
            "object_position": null,
            "object_fit": null,
            "grid_auto_columns": null,
            "margin": null,
            "display": null,
            "left": null
          }
        },
        "534ab0bb95754b12bbac8fa164192f2c": {
          "model_module": "@jupyter-widgets/controls",
          "model_name": "HBoxModel",
          "state": {
            "_view_name": "HBoxView",
            "_dom_classes": [],
            "_model_name": "HBoxModel",
            "_view_module": "@jupyter-widgets/controls",
            "_model_module_version": "1.5.0",
            "_view_count": null,
            "_view_module_version": "1.5.0",
            "box_style": "",
            "layout": "IPY_MODEL_fd96b967c2a04e2590bc6a4cbca59925",
            "_model_module": "@jupyter-widgets/controls",
            "children": [
              "IPY_MODEL_807ff785d29b4fdc98f1d885ed8c9739",
              "IPY_MODEL_0445a6f35b5c4b4fbee0c6fda44b5db0"
            ]
          }
        },
        "fd96b967c2a04e2590bc6a4cbca59925": {
          "model_module": "@jupyter-widgets/base",
          "model_name": "LayoutModel",
          "state": {
            "_view_name": "LayoutView",
            "grid_template_rows": null,
            "right": null,
            "justify_content": null,
            "_view_module": "@jupyter-widgets/base",
            "overflow": null,
            "_model_module_version": "1.2.0",
            "_view_count": null,
            "flex_flow": null,
            "width": null,
            "min_width": null,
            "border": null,
            "align_items": null,
            "bottom": null,
            "_model_module": "@jupyter-widgets/base",
            "top": null,
            "grid_column": null,
            "overflow_y": null,
            "overflow_x": null,
            "grid_auto_flow": null,
            "grid_area": null,
            "grid_template_columns": null,
            "flex": null,
            "_model_name": "LayoutModel",
            "justify_items": null,
            "grid_row": null,
            "max_height": null,
            "align_content": null,
            "visibility": null,
            "align_self": null,
            "height": null,
            "min_height": null,
            "padding": null,
            "grid_auto_rows": null,
            "grid_gap": null,
            "max_width": null,
            "order": null,
            "_view_module_version": "1.2.0",
            "grid_template_areas": null,
            "object_position": null,
            "object_fit": null,
            "grid_auto_columns": null,
            "margin": null,
            "display": null,
            "left": null
          }
        },
        "807ff785d29b4fdc98f1d885ed8c9739": {
          "model_module": "@jupyter-widgets/controls",
          "model_name": "FloatProgressModel",
          "state": {
            "_view_name": "ProgressView",
            "style": "IPY_MODEL_3281860e87864ad7b7a31e0832e06cdf",
            "_dom_classes": [],
            "description": "100%",
            "_model_name": "FloatProgressModel",
            "bar_style": "success",
            "max": 523,
            "_view_module": "@jupyter-widgets/controls",
            "_model_module_version": "1.5.0",
            "value": 523,
            "_view_count": null,
            "_view_module_version": "1.5.0",
            "orientation": "horizontal",
            "min": 0,
            "description_tooltip": null,
            "_model_module": "@jupyter-widgets/controls",
            "layout": "IPY_MODEL_a0e10971307d4fe58b318776d53807df"
          }
        },
        "0445a6f35b5c4b4fbee0c6fda44b5db0": {
          "model_module": "@jupyter-widgets/controls",
          "model_name": "HTMLModel",
          "state": {
            "_view_name": "HTMLView",
            "style": "IPY_MODEL_003dd1655f884856b510df6d36208b02",
            "_dom_classes": [],
            "description": "",
            "_model_name": "HTMLModel",
            "placeholder": "​",
            "_view_module": "@jupyter-widgets/controls",
            "_model_module_version": "1.5.0",
            "value": " 523/523 [00:04&lt;00:00, 121.24it/s]",
            "_view_count": null,
            "_view_module_version": "1.5.0",
            "description_tooltip": null,
            "_model_module": "@jupyter-widgets/controls",
            "layout": "IPY_MODEL_191db3a88bfd4b3d8589af0e0d11c039"
          }
        },
        "3281860e87864ad7b7a31e0832e06cdf": {
          "model_module": "@jupyter-widgets/controls",
          "model_name": "ProgressStyleModel",
          "state": {
            "_view_name": "StyleView",
            "_model_name": "ProgressStyleModel",
            "description_width": "initial",
            "_view_module": "@jupyter-widgets/base",
            "_model_module_version": "1.5.0",
            "_view_count": null,
            "_view_module_version": "1.2.0",
            "bar_color": null,
            "_model_module": "@jupyter-widgets/controls"
          }
        },
        "a0e10971307d4fe58b318776d53807df": {
          "model_module": "@jupyter-widgets/base",
          "model_name": "LayoutModel",
          "state": {
            "_view_name": "LayoutView",
            "grid_template_rows": null,
            "right": null,
            "justify_content": null,
            "_view_module": "@jupyter-widgets/base",
            "overflow": null,
            "_model_module_version": "1.2.0",
            "_view_count": null,
            "flex_flow": null,
            "width": null,
            "min_width": null,
            "border": null,
            "align_items": null,
            "bottom": null,
            "_model_module": "@jupyter-widgets/base",
            "top": null,
            "grid_column": null,
            "overflow_y": null,
            "overflow_x": null,
            "grid_auto_flow": null,
            "grid_area": null,
            "grid_template_columns": null,
            "flex": null,
            "_model_name": "LayoutModel",
            "justify_items": null,
            "grid_row": null,
            "max_height": null,
            "align_content": null,
            "visibility": null,
            "align_self": null,
            "height": null,
            "min_height": null,
            "padding": null,
            "grid_auto_rows": null,
            "grid_gap": null,
            "max_width": null,
            "order": null,
            "_view_module_version": "1.2.0",
            "grid_template_areas": null,
            "object_position": null,
            "object_fit": null,
            "grid_auto_columns": null,
            "margin": null,
            "display": null,
            "left": null
          }
        },
        "003dd1655f884856b510df6d36208b02": {
          "model_module": "@jupyter-widgets/controls",
          "model_name": "DescriptionStyleModel",
          "state": {
            "_view_name": "StyleView",
            "_model_name": "DescriptionStyleModel",
            "description_width": "",
            "_view_module": "@jupyter-widgets/base",
            "_model_module_version": "1.5.0",
            "_view_count": null,
            "_view_module_version": "1.2.0",
            "_model_module": "@jupyter-widgets/controls"
          }
        },
        "191db3a88bfd4b3d8589af0e0d11c039": {
          "model_module": "@jupyter-widgets/base",
          "model_name": "LayoutModel",
          "state": {
            "_view_name": "LayoutView",
            "grid_template_rows": null,
            "right": null,
            "justify_content": null,
            "_view_module": "@jupyter-widgets/base",
            "overflow": null,
            "_model_module_version": "1.2.0",
            "_view_count": null,
            "flex_flow": null,
            "width": null,
            "min_width": null,
            "border": null,
            "align_items": null,
            "bottom": null,
            "_model_module": "@jupyter-widgets/base",
            "top": null,
            "grid_column": null,
            "overflow_y": null,
            "overflow_x": null,
            "grid_auto_flow": null,
            "grid_area": null,
            "grid_template_columns": null,
            "flex": null,
            "_model_name": "LayoutModel",
            "justify_items": null,
            "grid_row": null,
            "max_height": null,
            "align_content": null,
            "visibility": null,
            "align_self": null,
            "height": null,
            "min_height": null,
            "padding": null,
            "grid_auto_rows": null,
            "grid_gap": null,
            "max_width": null,
            "order": null,
            "_view_module_version": "1.2.0",
            "grid_template_areas": null,
            "object_position": null,
            "object_fit": null,
            "grid_auto_columns": null,
            "margin": null,
            "display": null,
            "left": null
          }
        },
        "e3c4d87915024dc5ba0dda1af3c2abe0": {
          "model_module": "@jupyter-widgets/controls",
          "model_name": "HBoxModel",
          "state": {
            "_view_name": "HBoxView",
            "_dom_classes": [],
            "_model_name": "HBoxModel",
            "_view_module": "@jupyter-widgets/controls",
            "_model_module_version": "1.5.0",
            "_view_count": null,
            "_view_module_version": "1.5.0",
            "box_style": "",
            "layout": "IPY_MODEL_83c83fd243404733bb3f2dbac116d10f",
            "_model_module": "@jupyter-widgets/controls",
            "children": [
              "IPY_MODEL_145e798c468a416f9d51d386913500f3",
              "IPY_MODEL_24a745387cc0440cbed127591f7fa956"
            ]
          }
        },
        "83c83fd243404733bb3f2dbac116d10f": {
          "model_module": "@jupyter-widgets/base",
          "model_name": "LayoutModel",
          "state": {
            "_view_name": "LayoutView",
            "grid_template_rows": null,
            "right": null,
            "justify_content": null,
            "_view_module": "@jupyter-widgets/base",
            "overflow": null,
            "_model_module_version": "1.2.0",
            "_view_count": null,
            "flex_flow": null,
            "width": null,
            "min_width": null,
            "border": null,
            "align_items": null,
            "bottom": null,
            "_model_module": "@jupyter-widgets/base",
            "top": null,
            "grid_column": null,
            "overflow_y": null,
            "overflow_x": null,
            "grid_auto_flow": null,
            "grid_area": null,
            "grid_template_columns": null,
            "flex": null,
            "_model_name": "LayoutModel",
            "justify_items": null,
            "grid_row": null,
            "max_height": null,
            "align_content": null,
            "visibility": null,
            "align_self": null,
            "height": null,
            "min_height": null,
            "padding": null,
            "grid_auto_rows": null,
            "grid_gap": null,
            "max_width": null,
            "order": null,
            "_view_module_version": "1.2.0",
            "grid_template_areas": null,
            "object_position": null,
            "object_fit": null,
            "grid_auto_columns": null,
            "margin": null,
            "display": null,
            "left": null
          }
        },
        "145e798c468a416f9d51d386913500f3": {
          "model_module": "@jupyter-widgets/controls",
          "model_name": "FloatProgressModel",
          "state": {
            "_view_name": "ProgressView",
            "style": "IPY_MODEL_c14cc1b5a55943cfb0bee1a814148f59",
            "_dom_classes": [],
            "description": " 12%",
            "_model_name": "FloatProgressModel",
            "bar_style": "",
            "max": 523,
            "_view_module": "@jupyter-widgets/controls",
            "_model_module_version": "1.5.0",
            "value": 62,
            "_view_count": null,
            "_view_module_version": "1.5.0",
            "orientation": "horizontal",
            "min": 0,
            "description_tooltip": null,
            "_model_module": "@jupyter-widgets/controls",
            "layout": "IPY_MODEL_71cdf073ae404e92b4090638f8c65c3e"
          }
        },
        "24a745387cc0440cbed127591f7fa956": {
          "model_module": "@jupyter-widgets/controls",
          "model_name": "HTMLModel",
          "state": {
            "_view_name": "HTMLView",
            "style": "IPY_MODEL_01776120aafb4ab89706b67bc2e5a89b",
            "_dom_classes": [],
            "description": "",
            "_model_name": "HTMLModel",
            "placeholder": "​",
            "_view_module": "@jupyter-widgets/controls",
            "_model_module_version": "1.5.0",
            "value": " 62/523 [00:52&lt;06:46,  1.13it/s]",
            "_view_count": null,
            "_view_module_version": "1.5.0",
            "description_tooltip": null,
            "_model_module": "@jupyter-widgets/controls",
            "layout": "IPY_MODEL_0064457829fa4f8d8cd60c947d98b933"
          }
        },
        "c14cc1b5a55943cfb0bee1a814148f59": {
          "model_module": "@jupyter-widgets/controls",
          "model_name": "ProgressStyleModel",
          "state": {
            "_view_name": "StyleView",
            "_model_name": "ProgressStyleModel",
            "description_width": "initial",
            "_view_module": "@jupyter-widgets/base",
            "_model_module_version": "1.5.0",
            "_view_count": null,
            "_view_module_version": "1.2.0",
            "bar_color": null,
            "_model_module": "@jupyter-widgets/controls"
          }
        },
        "71cdf073ae404e92b4090638f8c65c3e": {
          "model_module": "@jupyter-widgets/base",
          "model_name": "LayoutModel",
          "state": {
            "_view_name": "LayoutView",
            "grid_template_rows": null,
            "right": null,
            "justify_content": null,
            "_view_module": "@jupyter-widgets/base",
            "overflow": null,
            "_model_module_version": "1.2.0",
            "_view_count": null,
            "flex_flow": null,
            "width": null,
            "min_width": null,
            "border": null,
            "align_items": null,
            "bottom": null,
            "_model_module": "@jupyter-widgets/base",
            "top": null,
            "grid_column": null,
            "overflow_y": null,
            "overflow_x": null,
            "grid_auto_flow": null,
            "grid_area": null,
            "grid_template_columns": null,
            "flex": null,
            "_model_name": "LayoutModel",
            "justify_items": null,
            "grid_row": null,
            "max_height": null,
            "align_content": null,
            "visibility": null,
            "align_self": null,
            "height": null,
            "min_height": null,
            "padding": null,
            "grid_auto_rows": null,
            "grid_gap": null,
            "max_width": null,
            "order": null,
            "_view_module_version": "1.2.0",
            "grid_template_areas": null,
            "object_position": null,
            "object_fit": null,
            "grid_auto_columns": null,
            "margin": null,
            "display": null,
            "left": null
          }
        },
        "01776120aafb4ab89706b67bc2e5a89b": {
          "model_module": "@jupyter-widgets/controls",
          "model_name": "DescriptionStyleModel",
          "state": {
            "_view_name": "StyleView",
            "_model_name": "DescriptionStyleModel",
            "description_width": "",
            "_view_module": "@jupyter-widgets/base",
            "_model_module_version": "1.5.0",
            "_view_count": null,
            "_view_module_version": "1.2.0",
            "_model_module": "@jupyter-widgets/controls"
          }
        },
        "0064457829fa4f8d8cd60c947d98b933": {
          "model_module": "@jupyter-widgets/base",
          "model_name": "LayoutModel",
          "state": {
            "_view_name": "LayoutView",
            "grid_template_rows": null,
            "right": null,
            "justify_content": null,
            "_view_module": "@jupyter-widgets/base",
            "overflow": null,
            "_model_module_version": "1.2.0",
            "_view_count": null,
            "flex_flow": null,
            "width": null,
            "min_width": null,
            "border": null,
            "align_items": null,
            "bottom": null,
            "_model_module": "@jupyter-widgets/base",
            "top": null,
            "grid_column": null,
            "overflow_y": null,
            "overflow_x": null,
            "grid_auto_flow": null,
            "grid_area": null,
            "grid_template_columns": null,
            "flex": null,
            "_model_name": "LayoutModel",
            "justify_items": null,
            "grid_row": null,
            "max_height": null,
            "align_content": null,
            "visibility": null,
            "align_self": null,
            "height": null,
            "min_height": null,
            "padding": null,
            "grid_auto_rows": null,
            "grid_gap": null,
            "max_width": null,
            "order": null,
            "_view_module_version": "1.2.0",
            "grid_template_areas": null,
            "object_position": null,
            "object_fit": null,
            "grid_auto_columns": null,
            "margin": null,
            "display": null,
            "left": null
          }
        },
        "8323df281f444abe8b2a95a1762b808b": {
          "model_module": "@jupyter-widgets/controls",
          "model_name": "HBoxModel",
          "state": {
            "_dom_classes": [],
            "_model_module": "@jupyter-widgets/controls",
            "_model_module_version": "1.5.0",
            "_model_name": "HBoxModel",
            "_view_count": null,
            "_view_module": "@jupyter-widgets/controls",
            "_view_module_version": "1.5.0",
            "_view_name": "HBoxView",
            "box_style": "",
            "children": [
              "IPY_MODEL_88a9b77fb35d4baa8dab49ac55baebe0",
              "IPY_MODEL_c23f911cfd254963aaf51bb2aad285f2"
            ],
            "layout": "IPY_MODEL_8a482e8625fe45b8928454ae7f8378e5"
          }
        },
        "8a482e8625fe45b8928454ae7f8378e5": {
          "model_module": "@jupyter-widgets/base",
          "model_name": "LayoutModel",
          "state": {
            "_model_module": "@jupyter-widgets/base",
            "_model_module_version": "1.2.0",
            "_model_name": "LayoutModel",
            "_view_count": null,
            "_view_module": "@jupyter-widgets/base",
            "_view_module_version": "1.2.0",
            "_view_name": "LayoutView",
            "align_content": null,
            "align_items": null,
            "align_self": null,
            "border": null,
            "bottom": null,
            "display": null,
            "flex": null,
            "flex_flow": null,
            "grid_area": null,
            "grid_auto_columns": null,
            "grid_auto_flow": null,
            "grid_auto_rows": null,
            "grid_column": null,
            "grid_gap": null,
            "grid_row": null,
            "grid_template_areas": null,
            "grid_template_columns": null,
            "grid_template_rows": null,
            "height": null,
            "justify_content": null,
            "justify_items": null,
            "left": null,
            "margin": null,
            "max_height": null,
            "max_width": null,
            "min_height": null,
            "min_width": null,
            "object_fit": null,
            "object_position": null,
            "order": null,
            "overflow": null,
            "overflow_x": null,
            "overflow_y": null,
            "padding": null,
            "right": null,
            "top": null,
            "visibility": null,
            "width": null
          }
        },
        "88a9b77fb35d4baa8dab49ac55baebe0": {
          "model_module": "@jupyter-widgets/controls",
          "model_name": "FloatProgressModel",
          "state": {
            "_dom_classes": [],
            "_model_module": "@jupyter-widgets/controls",
            "_model_module_version": "1.5.0",
            "_model_name": "FloatProgressModel",
            "_view_count": null,
            "_view_module": "@jupyter-widgets/controls",
            "_view_module_version": "1.5.0",
            "_view_name": "ProgressView",
            "bar_style": "success",
            "description": "Downloading: 100%",
            "description_tooltip": null,
            "layout": "IPY_MODEL_9547aefc582347ec82e5e7f2826b6913",
            "max": 908,
            "min": 0,
            "orientation": "horizontal",
            "style": "IPY_MODEL_ca26ef306b28438899bcb92453e3bfc6",
            "value": 908
          }
        },
        "c23f911cfd254963aaf51bb2aad285f2": {
          "model_module": "@jupyter-widgets/controls",
          "model_name": "HTMLModel",
          "state": {
            "_dom_classes": [],
            "_model_module": "@jupyter-widgets/controls",
            "_model_module_version": "1.5.0",
            "_model_name": "HTMLModel",
            "_view_count": null,
            "_view_module": "@jupyter-widgets/controls",
            "_view_module_version": "1.5.0",
            "_view_name": "HTMLView",
            "description": "",
            "description_tooltip": null,
            "layout": "IPY_MODEL_c17d2a7bd40248b4bdb37f79ad06f600",
            "placeholder": "​",
            "style": "IPY_MODEL_75ac3b1c4e454455bb2f1564341a0914",
            "value": " 908/908 [00:00&lt;00:00, 2.36kB/s]"
          }
        },
        "ca26ef306b28438899bcb92453e3bfc6": {
          "model_module": "@jupyter-widgets/controls",
          "model_name": "ProgressStyleModel",
          "state": {
            "_model_module": "@jupyter-widgets/controls",
            "_model_module_version": "1.5.0",
            "_model_name": "ProgressStyleModel",
            "_view_count": null,
            "_view_module": "@jupyter-widgets/base",
            "_view_module_version": "1.2.0",
            "_view_name": "StyleView",
            "bar_color": null,
            "description_width": "initial"
          }
        },
        "9547aefc582347ec82e5e7f2826b6913": {
          "model_module": "@jupyter-widgets/base",
          "model_name": "LayoutModel",
          "state": {
            "_model_module": "@jupyter-widgets/base",
            "_model_module_version": "1.2.0",
            "_model_name": "LayoutModel",
            "_view_count": null,
            "_view_module": "@jupyter-widgets/base",
            "_view_module_version": "1.2.0",
            "_view_name": "LayoutView",
            "align_content": null,
            "align_items": null,
            "align_self": null,
            "border": null,
            "bottom": null,
            "display": null,
            "flex": null,
            "flex_flow": null,
            "grid_area": null,
            "grid_auto_columns": null,
            "grid_auto_flow": null,
            "grid_auto_rows": null,
            "grid_column": null,
            "grid_gap": null,
            "grid_row": null,
            "grid_template_areas": null,
            "grid_template_columns": null,
            "grid_template_rows": null,
            "height": null,
            "justify_content": null,
            "justify_items": null,
            "left": null,
            "margin": null,
            "max_height": null,
            "max_width": null,
            "min_height": null,
            "min_width": null,
            "object_fit": null,
            "object_position": null,
            "order": null,
            "overflow": null,
            "overflow_x": null,
            "overflow_y": null,
            "padding": null,
            "right": null,
            "top": null,
            "visibility": null,
            "width": null
          }
        },
        "75ac3b1c4e454455bb2f1564341a0914": {
          "model_module": "@jupyter-widgets/controls",
          "model_name": "DescriptionStyleModel",
          "state": {
            "_model_module": "@jupyter-widgets/controls",
            "_model_module_version": "1.5.0",
            "_model_name": "DescriptionStyleModel",
            "_view_count": null,
            "_view_module": "@jupyter-widgets/base",
            "_view_module_version": "1.2.0",
            "_view_name": "StyleView",
            "description_width": ""
          }
        },
        "c17d2a7bd40248b4bdb37f79ad06f600": {
          "model_module": "@jupyter-widgets/base",
          "model_name": "LayoutModel",
          "state": {
            "_model_module": "@jupyter-widgets/base",
            "_model_module_version": "1.2.0",
            "_model_name": "LayoutModel",
            "_view_count": null,
            "_view_module": "@jupyter-widgets/base",
            "_view_module_version": "1.2.0",
            "_view_name": "LayoutView",
            "align_content": null,
            "align_items": null,
            "align_self": null,
            "border": null,
            "bottom": null,
            "display": null,
            "flex": null,
            "flex_flow": null,
            "grid_area": null,
            "grid_auto_columns": null,
            "grid_auto_flow": null,
            "grid_auto_rows": null,
            "grid_column": null,
            "grid_gap": null,
            "grid_row": null,
            "grid_template_areas": null,
            "grid_template_columns": null,
            "grid_template_rows": null,
            "height": null,
            "justify_content": null,
            "justify_items": null,
            "left": null,
            "margin": null,
            "max_height": null,
            "max_width": null,
            "min_height": null,
            "min_width": null,
            "object_fit": null,
            "object_position": null,
            "order": null,
            "overflow": null,
            "overflow_x": null,
            "overflow_y": null,
            "padding": null,
            "right": null,
            "top": null,
            "visibility": null,
            "width": null
          }
        },
        "758269c270b1451ea759a9a408535a60": {
          "model_module": "@jupyter-widgets/controls",
          "model_name": "HBoxModel",
          "state": {
            "_dom_classes": [],
            "_model_module": "@jupyter-widgets/controls",
            "_model_module_version": "1.5.0",
            "_model_name": "HBoxModel",
            "_view_count": null,
            "_view_module": "@jupyter-widgets/controls",
            "_view_module_version": "1.5.0",
            "_view_name": "HBoxView",
            "box_style": "",
            "children": [
              "IPY_MODEL_d67f7345e09b41db9fd0d40a9362207f",
              "IPY_MODEL_7e3a332c1cfb4ff4923fbb83850b56ae"
            ],
            "layout": "IPY_MODEL_c401456bc4f849bd8304a70bbd0bb20b"
          }
        },
        "c401456bc4f849bd8304a70bbd0bb20b": {
          "model_module": "@jupyter-widgets/base",
          "model_name": "LayoutModel",
          "state": {
            "_model_module": "@jupyter-widgets/base",
            "_model_module_version": "1.2.0",
            "_model_name": "LayoutModel",
            "_view_count": null,
            "_view_module": "@jupyter-widgets/base",
            "_view_module_version": "1.2.0",
            "_view_name": "LayoutView",
            "align_content": null,
            "align_items": null,
            "align_self": null,
            "border": null,
            "bottom": null,
            "display": null,
            "flex": null,
            "flex_flow": null,
            "grid_area": null,
            "grid_auto_columns": null,
            "grid_auto_flow": null,
            "grid_auto_rows": null,
            "grid_column": null,
            "grid_gap": null,
            "grid_row": null,
            "grid_template_areas": null,
            "grid_template_columns": null,
            "grid_template_rows": null,
            "height": null,
            "justify_content": null,
            "justify_items": null,
            "left": null,
            "margin": null,
            "max_height": null,
            "max_width": null,
            "min_height": null,
            "min_width": null,
            "object_fit": null,
            "object_position": null,
            "order": null,
            "overflow": null,
            "overflow_x": null,
            "overflow_y": null,
            "padding": null,
            "right": null,
            "top": null,
            "visibility": null,
            "width": null
          }
        },
        "d67f7345e09b41db9fd0d40a9362207f": {
          "model_module": "@jupyter-widgets/controls",
          "model_name": "FloatProgressModel",
          "state": {
            "_dom_classes": [],
            "_model_module": "@jupyter-widgets/controls",
            "_model_module_version": "1.5.0",
            "_model_name": "FloatProgressModel",
            "_view_count": null,
            "_view_module": "@jupyter-widgets/controls",
            "_view_module_version": "1.5.0",
            "_view_name": "ProgressView",
            "bar_style": "success",
            "description": "Downloading: 100%",
            "description_tooltip": null,
            "layout": "IPY_MODEL_af9a391757064486b6b585404331f3b4",
            "max": 1629486723,
            "min": 0,
            "orientation": "horizontal",
            "style": "IPY_MODEL_4708b727c93c4a4d99ee649c9fc311ae",
            "value": 1629486723
          }
        },
        "7e3a332c1cfb4ff4923fbb83850b56ae": {
          "model_module": "@jupyter-widgets/controls",
          "model_name": "HTMLModel",
          "state": {
            "_dom_classes": [],
            "_model_module": "@jupyter-widgets/controls",
            "_model_module_version": "1.5.0",
            "_model_name": "HTMLModel",
            "_view_count": null,
            "_view_module": "@jupyter-widgets/controls",
            "_view_module_version": "1.5.0",
            "_view_name": "HTMLView",
            "description": "",
            "description_tooltip": null,
            "layout": "IPY_MODEL_1c06a34f74754338bfc5d30a42820ae8",
            "placeholder": "​",
            "style": "IPY_MODEL_cfef71cd8ab541a486ec20ebb848ee95",
            "value": " 1.63G/1.63G [00:43&lt;00:00, 37.5MB/s]"
          }
        },
        "4708b727c93c4a4d99ee649c9fc311ae": {
          "model_module": "@jupyter-widgets/controls",
          "model_name": "ProgressStyleModel",
          "state": {
            "_model_module": "@jupyter-widgets/controls",
            "_model_module_version": "1.5.0",
            "_model_name": "ProgressStyleModel",
            "_view_count": null,
            "_view_module": "@jupyter-widgets/base",
            "_view_module_version": "1.2.0",
            "_view_name": "StyleView",
            "bar_color": null,
            "description_width": "initial"
          }
        },
        "af9a391757064486b6b585404331f3b4": {
          "model_module": "@jupyter-widgets/base",
          "model_name": "LayoutModel",
          "state": {
            "_model_module": "@jupyter-widgets/base",
            "_model_module_version": "1.2.0",
            "_model_name": "LayoutModel",
            "_view_count": null,
            "_view_module": "@jupyter-widgets/base",
            "_view_module_version": "1.2.0",
            "_view_name": "LayoutView",
            "align_content": null,
            "align_items": null,
            "align_self": null,
            "border": null,
            "bottom": null,
            "display": null,
            "flex": null,
            "flex_flow": null,
            "grid_area": null,
            "grid_auto_columns": null,
            "grid_auto_flow": null,
            "grid_auto_rows": null,
            "grid_column": null,
            "grid_gap": null,
            "grid_row": null,
            "grid_template_areas": null,
            "grid_template_columns": null,
            "grid_template_rows": null,
            "height": null,
            "justify_content": null,
            "justify_items": null,
            "left": null,
            "margin": null,
            "max_height": null,
            "max_width": null,
            "min_height": null,
            "min_width": null,
            "object_fit": null,
            "object_position": null,
            "order": null,
            "overflow": null,
            "overflow_x": null,
            "overflow_y": null,
            "padding": null,
            "right": null,
            "top": null,
            "visibility": null,
            "width": null
          }
        },
        "cfef71cd8ab541a486ec20ebb848ee95": {
          "model_module": "@jupyter-widgets/controls",
          "model_name": "DescriptionStyleModel",
          "state": {
            "_model_module": "@jupyter-widgets/controls",
            "_model_module_version": "1.5.0",
            "_model_name": "DescriptionStyleModel",
            "_view_count": null,
            "_view_module": "@jupyter-widgets/base",
            "_view_module_version": "1.2.0",
            "_view_name": "StyleView",
            "description_width": ""
          }
        },
        "1c06a34f74754338bfc5d30a42820ae8": {
          "model_module": "@jupyter-widgets/base",
          "model_name": "LayoutModel",
          "state": {
            "_model_module": "@jupyter-widgets/base",
            "_model_module_version": "1.2.0",
            "_model_name": "LayoutModel",
            "_view_count": null,
            "_view_module": "@jupyter-widgets/base",
            "_view_module_version": "1.2.0",
            "_view_name": "LayoutView",
            "align_content": null,
            "align_items": null,
            "align_self": null,
            "border": null,
            "bottom": null,
            "display": null,
            "flex": null,
            "flex_flow": null,
            "grid_area": null,
            "grid_auto_columns": null,
            "grid_auto_flow": null,
            "grid_auto_rows": null,
            "grid_column": null,
            "grid_gap": null,
            "grid_row": null,
            "grid_template_areas": null,
            "grid_template_columns": null,
            "grid_template_rows": null,
            "height": null,
            "justify_content": null,
            "justify_items": null,
            "left": null,
            "margin": null,
            "max_height": null,
            "max_width": null,
            "min_height": null,
            "min_width": null,
            "object_fit": null,
            "object_position": null,
            "order": null,
            "overflow": null,
            "overflow_x": null,
            "overflow_y": null,
            "padding": null,
            "right": null,
            "top": null,
            "visibility": null,
            "width": null
          }
        },
        "16e258641fc644b8991a44e81685421a": {
          "model_module": "@jupyter-widgets/controls",
          "model_name": "HBoxModel",
          "state": {
            "_dom_classes": [],
            "_model_module": "@jupyter-widgets/controls",
            "_model_module_version": "1.5.0",
            "_model_name": "HBoxModel",
            "_view_count": null,
            "_view_module": "@jupyter-widgets/controls",
            "_view_module_version": "1.5.0",
            "_view_name": "HBoxView",
            "box_style": "",
            "children": [
              "IPY_MODEL_28eea93f8d044730bfd5b17ee10b3a3c",
              "IPY_MODEL_26b91875e08d42e295dff4517bca7b39"
            ],
            "layout": "IPY_MODEL_4672e7a26bb64477baa568ad62711ea9"
          }
        },
        "4672e7a26bb64477baa568ad62711ea9": {
          "model_module": "@jupyter-widgets/base",
          "model_name": "LayoutModel",
          "state": {
            "_model_module": "@jupyter-widgets/base",
            "_model_module_version": "1.2.0",
            "_model_name": "LayoutModel",
            "_view_count": null,
            "_view_module": "@jupyter-widgets/base",
            "_view_module_version": "1.2.0",
            "_view_name": "LayoutView",
            "align_content": null,
            "align_items": null,
            "align_self": null,
            "border": null,
            "bottom": null,
            "display": null,
            "flex": null,
            "flex_flow": null,
            "grid_area": null,
            "grid_auto_columns": null,
            "grid_auto_flow": null,
            "grid_auto_rows": null,
            "grid_column": null,
            "grid_gap": null,
            "grid_row": null,
            "grid_template_areas": null,
            "grid_template_columns": null,
            "grid_template_rows": null,
            "height": null,
            "justify_content": null,
            "justify_items": null,
            "left": null,
            "margin": null,
            "max_height": null,
            "max_width": null,
            "min_height": null,
            "min_width": null,
            "object_fit": null,
            "object_position": null,
            "order": null,
            "overflow": null,
            "overflow_x": null,
            "overflow_y": null,
            "padding": null,
            "right": null,
            "top": null,
            "visibility": null,
            "width": null
          }
        },
        "28eea93f8d044730bfd5b17ee10b3a3c": {
          "model_module": "@jupyter-widgets/controls",
          "model_name": "FloatProgressModel",
          "state": {
            "_dom_classes": [],
            "_model_module": "@jupyter-widgets/controls",
            "_model_module_version": "1.5.0",
            "_model_name": "FloatProgressModel",
            "_view_count": null,
            "_view_module": "@jupyter-widgets/controls",
            "_view_module_version": "1.5.0",
            "_view_name": "ProgressView",
            "bar_style": "success",
            "description": "Downloading: 100%",
            "description_tooltip": null,
            "layout": "IPY_MODEL_c6a06ff828c64b469d9b1559f91b6a60",
            "max": 898822,
            "min": 0,
            "orientation": "horizontal",
            "style": "IPY_MODEL_685ec7d584e545bba92bfe253f26b774",
            "value": 898822
          }
        },
        "26b91875e08d42e295dff4517bca7b39": {
          "model_module": "@jupyter-widgets/controls",
          "model_name": "HTMLModel",
          "state": {
            "_dom_classes": [],
            "_model_module": "@jupyter-widgets/controls",
            "_model_module_version": "1.5.0",
            "_model_name": "HTMLModel",
            "_view_count": null,
            "_view_module": "@jupyter-widgets/controls",
            "_view_module_version": "1.5.0",
            "_view_name": "HTMLView",
            "description": "",
            "description_tooltip": null,
            "layout": "IPY_MODEL_306165f4445d4ae0ac8116317bce90b7",
            "placeholder": "​",
            "style": "IPY_MODEL_996e1810ff2a48f7ae3a936cf92760b0",
            "value": " 899k/899k [00:01&lt;00:00, 838kB/s]"
          }
        },
        "685ec7d584e545bba92bfe253f26b774": {
          "model_module": "@jupyter-widgets/controls",
          "model_name": "ProgressStyleModel",
          "state": {
            "_model_module": "@jupyter-widgets/controls",
            "_model_module_version": "1.5.0",
            "_model_name": "ProgressStyleModel",
            "_view_count": null,
            "_view_module": "@jupyter-widgets/base",
            "_view_module_version": "1.2.0",
            "_view_name": "StyleView",
            "bar_color": null,
            "description_width": "initial"
          }
        },
        "c6a06ff828c64b469d9b1559f91b6a60": {
          "model_module": "@jupyter-widgets/base",
          "model_name": "LayoutModel",
          "state": {
            "_model_module": "@jupyter-widgets/base",
            "_model_module_version": "1.2.0",
            "_model_name": "LayoutModel",
            "_view_count": null,
            "_view_module": "@jupyter-widgets/base",
            "_view_module_version": "1.2.0",
            "_view_name": "LayoutView",
            "align_content": null,
            "align_items": null,
            "align_self": null,
            "border": null,
            "bottom": null,
            "display": null,
            "flex": null,
            "flex_flow": null,
            "grid_area": null,
            "grid_auto_columns": null,
            "grid_auto_flow": null,
            "grid_auto_rows": null,
            "grid_column": null,
            "grid_gap": null,
            "grid_row": null,
            "grid_template_areas": null,
            "grid_template_columns": null,
            "grid_template_rows": null,
            "height": null,
            "justify_content": null,
            "justify_items": null,
            "left": null,
            "margin": null,
            "max_height": null,
            "max_width": null,
            "min_height": null,
            "min_width": null,
            "object_fit": null,
            "object_position": null,
            "order": null,
            "overflow": null,
            "overflow_x": null,
            "overflow_y": null,
            "padding": null,
            "right": null,
            "top": null,
            "visibility": null,
            "width": null
          }
        },
        "996e1810ff2a48f7ae3a936cf92760b0": {
          "model_module": "@jupyter-widgets/controls",
          "model_name": "DescriptionStyleModel",
          "state": {
            "_model_module": "@jupyter-widgets/controls",
            "_model_module_version": "1.5.0",
            "_model_name": "DescriptionStyleModel",
            "_view_count": null,
            "_view_module": "@jupyter-widgets/base",
            "_view_module_version": "1.2.0",
            "_view_name": "StyleView",
            "description_width": ""
          }
        },
        "306165f4445d4ae0ac8116317bce90b7": {
          "model_module": "@jupyter-widgets/base",
          "model_name": "LayoutModel",
          "state": {
            "_model_module": "@jupyter-widgets/base",
            "_model_module_version": "1.2.0",
            "_model_name": "LayoutModel",
            "_view_count": null,
            "_view_module": "@jupyter-widgets/base",
            "_view_module_version": "1.2.0",
            "_view_name": "LayoutView",
            "align_content": null,
            "align_items": null,
            "align_self": null,
            "border": null,
            "bottom": null,
            "display": null,
            "flex": null,
            "flex_flow": null,
            "grid_area": null,
            "grid_auto_columns": null,
            "grid_auto_flow": null,
            "grid_auto_rows": null,
            "grid_column": null,
            "grid_gap": null,
            "grid_row": null,
            "grid_template_areas": null,
            "grid_template_columns": null,
            "grid_template_rows": null,
            "height": null,
            "justify_content": null,
            "justify_items": null,
            "left": null,
            "margin": null,
            "max_height": null,
            "max_width": null,
            "min_height": null,
            "min_width": null,
            "object_fit": null,
            "object_position": null,
            "order": null,
            "overflow": null,
            "overflow_x": null,
            "overflow_y": null,
            "padding": null,
            "right": null,
            "top": null,
            "visibility": null,
            "width": null
          }
        },
        "86158c0f520c44a9a93381d57d834106": {
          "model_module": "@jupyter-widgets/controls",
          "model_name": "HBoxModel",
          "state": {
            "_dom_classes": [],
            "_model_module": "@jupyter-widgets/controls",
            "_model_module_version": "1.5.0",
            "_model_name": "HBoxModel",
            "_view_count": null,
            "_view_module": "@jupyter-widgets/controls",
            "_view_module_version": "1.5.0",
            "_view_name": "HBoxView",
            "box_style": "",
            "children": [
              "IPY_MODEL_779d458fecaf406299fe212e2132e9d8",
              "IPY_MODEL_d83b893f1ce64d779fd4ab5768a12360"
            ],
            "layout": "IPY_MODEL_7b27e850da3f4d9a9257f48ff02a8dbb"
          }
        },
        "7b27e850da3f4d9a9257f48ff02a8dbb": {
          "model_module": "@jupyter-widgets/base",
          "model_name": "LayoutModel",
          "state": {
            "_model_module": "@jupyter-widgets/base",
            "_model_module_version": "1.2.0",
            "_model_name": "LayoutModel",
            "_view_count": null,
            "_view_module": "@jupyter-widgets/base",
            "_view_module_version": "1.2.0",
            "_view_name": "LayoutView",
            "align_content": null,
            "align_items": null,
            "align_self": null,
            "border": null,
            "bottom": null,
            "display": null,
            "flex": null,
            "flex_flow": null,
            "grid_area": null,
            "grid_auto_columns": null,
            "grid_auto_flow": null,
            "grid_auto_rows": null,
            "grid_column": null,
            "grid_gap": null,
            "grid_row": null,
            "grid_template_areas": null,
            "grid_template_columns": null,
            "grid_template_rows": null,
            "height": null,
            "justify_content": null,
            "justify_items": null,
            "left": null,
            "margin": null,
            "max_height": null,
            "max_width": null,
            "min_height": null,
            "min_width": null,
            "object_fit": null,
            "object_position": null,
            "order": null,
            "overflow": null,
            "overflow_x": null,
            "overflow_y": null,
            "padding": null,
            "right": null,
            "top": null,
            "visibility": null,
            "width": null
          }
        },
        "779d458fecaf406299fe212e2132e9d8": {
          "model_module": "@jupyter-widgets/controls",
          "model_name": "FloatProgressModel",
          "state": {
            "_dom_classes": [],
            "_model_module": "@jupyter-widgets/controls",
            "_model_module_version": "1.5.0",
            "_model_name": "FloatProgressModel",
            "_view_count": null,
            "_view_module": "@jupyter-widgets/controls",
            "_view_module_version": "1.5.0",
            "_view_name": "ProgressView",
            "bar_style": "success",
            "description": "Downloading: 100%",
            "description_tooltip": null,
            "layout": "IPY_MODEL_add8cd2d51b84355aeb0b25a892dcedf",
            "max": 456318,
            "min": 0,
            "orientation": "horizontal",
            "style": "IPY_MODEL_94c6eb8183a544cf882322b2e001f955",
            "value": 456318
          }
        },
        "d83b893f1ce64d779fd4ab5768a12360": {
          "model_module": "@jupyter-widgets/controls",
          "model_name": "HTMLModel",
          "state": {
            "_dom_classes": [],
            "_model_module": "@jupyter-widgets/controls",
            "_model_module_version": "1.5.0",
            "_model_name": "HTMLModel",
            "_view_count": null,
            "_view_module": "@jupyter-widgets/controls",
            "_view_module_version": "1.5.0",
            "_view_name": "HTMLView",
            "description": "",
            "description_tooltip": null,
            "layout": "IPY_MODEL_113d7757e6874370a34f1cde374acaed",
            "placeholder": "​",
            "style": "IPY_MODEL_11a67a29bf60432c9b1ac79cea8a019f",
            "value": " 456k/456k [03:30&lt;00:00, 2.16kB/s]"
          }
        },
        "94c6eb8183a544cf882322b2e001f955": {
          "model_module": "@jupyter-widgets/controls",
          "model_name": "ProgressStyleModel",
          "state": {
            "_model_module": "@jupyter-widgets/controls",
            "_model_module_version": "1.5.0",
            "_model_name": "ProgressStyleModel",
            "_view_count": null,
            "_view_module": "@jupyter-widgets/base",
            "_view_module_version": "1.2.0",
            "_view_name": "StyleView",
            "bar_color": null,
            "description_width": "initial"
          }
        },
        "add8cd2d51b84355aeb0b25a892dcedf": {
          "model_module": "@jupyter-widgets/base",
          "model_name": "LayoutModel",
          "state": {
            "_model_module": "@jupyter-widgets/base",
            "_model_module_version": "1.2.0",
            "_model_name": "LayoutModel",
            "_view_count": null,
            "_view_module": "@jupyter-widgets/base",
            "_view_module_version": "1.2.0",
            "_view_name": "LayoutView",
            "align_content": null,
            "align_items": null,
            "align_self": null,
            "border": null,
            "bottom": null,
            "display": null,
            "flex": null,
            "flex_flow": null,
            "grid_area": null,
            "grid_auto_columns": null,
            "grid_auto_flow": null,
            "grid_auto_rows": null,
            "grid_column": null,
            "grid_gap": null,
            "grid_row": null,
            "grid_template_areas": null,
            "grid_template_columns": null,
            "grid_template_rows": null,
            "height": null,
            "justify_content": null,
            "justify_items": null,
            "left": null,
            "margin": null,
            "max_height": null,
            "max_width": null,
            "min_height": null,
            "min_width": null,
            "object_fit": null,
            "object_position": null,
            "order": null,
            "overflow": null,
            "overflow_x": null,
            "overflow_y": null,
            "padding": null,
            "right": null,
            "top": null,
            "visibility": null,
            "width": null
          }
        },
        "11a67a29bf60432c9b1ac79cea8a019f": {
          "model_module": "@jupyter-widgets/controls",
          "model_name": "DescriptionStyleModel",
          "state": {
            "_model_module": "@jupyter-widgets/controls",
            "_model_module_version": "1.5.0",
            "_model_name": "DescriptionStyleModel",
            "_view_count": null,
            "_view_module": "@jupyter-widgets/base",
            "_view_module_version": "1.2.0",
            "_view_name": "StyleView",
            "description_width": ""
          }
        },
        "113d7757e6874370a34f1cde374acaed": {
          "model_module": "@jupyter-widgets/base",
          "model_name": "LayoutModel",
          "state": {
            "_model_module": "@jupyter-widgets/base",
            "_model_module_version": "1.2.0",
            "_model_name": "LayoutModel",
            "_view_count": null,
            "_view_module": "@jupyter-widgets/base",
            "_view_module_version": "1.2.0",
            "_view_name": "LayoutView",
            "align_content": null,
            "align_items": null,
            "align_self": null,
            "border": null,
            "bottom": null,
            "display": null,
            "flex": null,
            "flex_flow": null,
            "grid_area": null,
            "grid_auto_columns": null,
            "grid_auto_flow": null,
            "grid_auto_rows": null,
            "grid_column": null,
            "grid_gap": null,
            "grid_row": null,
            "grid_template_areas": null,
            "grid_template_columns": null,
            "grid_template_rows": null,
            "height": null,
            "justify_content": null,
            "justify_items": null,
            "left": null,
            "margin": null,
            "max_height": null,
            "max_width": null,
            "min_height": null,
            "min_width": null,
            "object_fit": null,
            "object_position": null,
            "order": null,
            "overflow": null,
            "overflow_x": null,
            "overflow_y": null,
            "padding": null,
            "right": null,
            "top": null,
            "visibility": null,
            "width": null
          }
        },
        "095f5e6e9bea473ea3b72b106a405c12": {
          "model_module": "@jupyter-widgets/controls",
          "model_name": "HBoxModel",
          "state": {
            "_dom_classes": [],
            "_model_module": "@jupyter-widgets/controls",
            "_model_module_version": "1.5.0",
            "_model_name": "HBoxModel",
            "_view_count": null,
            "_view_module": "@jupyter-widgets/controls",
            "_view_module_version": "1.5.0",
            "_view_name": "HBoxView",
            "box_style": "",
            "children": [
              "IPY_MODEL_f01d0231b5b246b3b253a0835842690b",
              "IPY_MODEL_3d8b736281094286821ad0cfa3bf0cb5"
            ],
            "layout": "IPY_MODEL_8ec8bee0ce824fa98302f6c381cbd1b0"
          }
        },
        "8ec8bee0ce824fa98302f6c381cbd1b0": {
          "model_module": "@jupyter-widgets/base",
          "model_name": "LayoutModel",
          "state": {
            "_model_module": "@jupyter-widgets/base",
            "_model_module_version": "1.2.0",
            "_model_name": "LayoutModel",
            "_view_count": null,
            "_view_module": "@jupyter-widgets/base",
            "_view_module_version": "1.2.0",
            "_view_name": "LayoutView",
            "align_content": null,
            "align_items": null,
            "align_self": null,
            "border": null,
            "bottom": null,
            "display": null,
            "flex": null,
            "flex_flow": null,
            "grid_area": null,
            "grid_auto_columns": null,
            "grid_auto_flow": null,
            "grid_auto_rows": null,
            "grid_column": null,
            "grid_gap": null,
            "grid_row": null,
            "grid_template_areas": null,
            "grid_template_columns": null,
            "grid_template_rows": null,
            "height": null,
            "justify_content": null,
            "justify_items": null,
            "left": null,
            "margin": null,
            "max_height": null,
            "max_width": null,
            "min_height": null,
            "min_width": null,
            "object_fit": null,
            "object_position": null,
            "order": null,
            "overflow": null,
            "overflow_x": null,
            "overflow_y": null,
            "padding": null,
            "right": null,
            "top": null,
            "visibility": null,
            "width": null
          }
        },
        "f01d0231b5b246b3b253a0835842690b": {
          "model_module": "@jupyter-widgets/controls",
          "model_name": "FloatProgressModel",
          "state": {
            "_dom_classes": [],
            "_model_module": "@jupyter-widgets/controls",
            "_model_module_version": "1.5.0",
            "_model_name": "FloatProgressModel",
            "_view_count": null,
            "_view_module": "@jupyter-widgets/controls",
            "_view_module_version": "1.5.0",
            "_view_name": "ProgressView",
            "bar_style": "success",
            "description": "Downloading: 100%",
            "description_tooltip": null,
            "layout": "IPY_MODEL_ea40e91c94724bb99e9d3de938ae66d6",
            "max": 1355863,
            "min": 0,
            "orientation": "horizontal",
            "style": "IPY_MODEL_d2af29d564204503950fdfd7457ec647",
            "value": 1355863
          }
        },
        "3d8b736281094286821ad0cfa3bf0cb5": {
          "model_module": "@jupyter-widgets/controls",
          "model_name": "HTMLModel",
          "state": {
            "_dom_classes": [],
            "_model_module": "@jupyter-widgets/controls",
            "_model_module_version": "1.5.0",
            "_model_name": "HTMLModel",
            "_view_count": null,
            "_view_module": "@jupyter-widgets/controls",
            "_view_module_version": "1.5.0",
            "_view_name": "HTMLView",
            "description": "",
            "description_tooltip": null,
            "layout": "IPY_MODEL_841c515c0a9a4c5a9b7f66c2c7d8e634",
            "placeholder": "​",
            "style": "IPY_MODEL_1fcfad6627234100a46b4c62b1cbf9f5",
            "value": " 1.36M/1.36M [01:34&lt;00:00, 14.4kB/s]"
          }
        },
        "d2af29d564204503950fdfd7457ec647": {
          "model_module": "@jupyter-widgets/controls",
          "model_name": "ProgressStyleModel",
          "state": {
            "_model_module": "@jupyter-widgets/controls",
            "_model_module_version": "1.5.0",
            "_model_name": "ProgressStyleModel",
            "_view_count": null,
            "_view_module": "@jupyter-widgets/base",
            "_view_module_version": "1.2.0",
            "_view_name": "StyleView",
            "bar_color": null,
            "description_width": "initial"
          }
        },
        "ea40e91c94724bb99e9d3de938ae66d6": {
          "model_module": "@jupyter-widgets/base",
          "model_name": "LayoutModel",
          "state": {
            "_model_module": "@jupyter-widgets/base",
            "_model_module_version": "1.2.0",
            "_model_name": "LayoutModel",
            "_view_count": null,
            "_view_module": "@jupyter-widgets/base",
            "_view_module_version": "1.2.0",
            "_view_name": "LayoutView",
            "align_content": null,
            "align_items": null,
            "align_self": null,
            "border": null,
            "bottom": null,
            "display": null,
            "flex": null,
            "flex_flow": null,
            "grid_area": null,
            "grid_auto_columns": null,
            "grid_auto_flow": null,
            "grid_auto_rows": null,
            "grid_column": null,
            "grid_gap": null,
            "grid_row": null,
            "grid_template_areas": null,
            "grid_template_columns": null,
            "grid_template_rows": null,
            "height": null,
            "justify_content": null,
            "justify_items": null,
            "left": null,
            "margin": null,
            "max_height": null,
            "max_width": null,
            "min_height": null,
            "min_width": null,
            "object_fit": null,
            "object_position": null,
            "order": null,
            "overflow": null,
            "overflow_x": null,
            "overflow_y": null,
            "padding": null,
            "right": null,
            "top": null,
            "visibility": null,
            "width": null
          }
        },
        "1fcfad6627234100a46b4c62b1cbf9f5": {
          "model_module": "@jupyter-widgets/controls",
          "model_name": "DescriptionStyleModel",
          "state": {
            "_model_module": "@jupyter-widgets/controls",
            "_model_module_version": "1.5.0",
            "_model_name": "DescriptionStyleModel",
            "_view_count": null,
            "_view_module": "@jupyter-widgets/base",
            "_view_module_version": "1.2.0",
            "_view_name": "StyleView",
            "description_width": ""
          }
        },
        "841c515c0a9a4c5a9b7f66c2c7d8e634": {
          "model_module": "@jupyter-widgets/base",
          "model_name": "LayoutModel",
          "state": {
            "_model_module": "@jupyter-widgets/base",
            "_model_module_version": "1.2.0",
            "_model_name": "LayoutModel",
            "_view_count": null,
            "_view_module": "@jupyter-widgets/base",
            "_view_module_version": "1.2.0",
            "_view_name": "LayoutView",
            "align_content": null,
            "align_items": null,
            "align_self": null,
            "border": null,
            "bottom": null,
            "display": null,
            "flex": null,
            "flex_flow": null,
            "grid_area": null,
            "grid_auto_columns": null,
            "grid_auto_flow": null,
            "grid_auto_rows": null,
            "grid_column": null,
            "grid_gap": null,
            "grid_row": null,
            "grid_template_areas": null,
            "grid_template_columns": null,
            "grid_template_rows": null,
            "height": null,
            "justify_content": null,
            "justify_items": null,
            "left": null,
            "margin": null,
            "max_height": null,
            "max_width": null,
            "min_height": null,
            "min_width": null,
            "object_fit": null,
            "object_position": null,
            "order": null,
            "overflow": null,
            "overflow_x": null,
            "overflow_y": null,
            "padding": null,
            "right": null,
            "top": null,
            "visibility": null,
            "width": null
          }
        },
        "8c58258ea4934a919b433ba5b8c71f70": {
          "model_module": "@jupyter-widgets/controls",
          "model_name": "HBoxModel",
          "state": {
            "_dom_classes": [],
            "_model_module": "@jupyter-widgets/controls",
            "_model_module_version": "1.5.0",
            "_model_name": "HBoxModel",
            "_view_count": null,
            "_view_module": "@jupyter-widgets/controls",
            "_view_module_version": "1.5.0",
            "_view_name": "HBoxView",
            "box_style": "",
            "children": [
              "IPY_MODEL_9c36ebbbde0e42179996799f320a6fd5",
              "IPY_MODEL_49220668d9a4442eab20368977eee976"
            ],
            "layout": "IPY_MODEL_12727945e6bd433b9352df98def2decb"
          }
        },
        "12727945e6bd433b9352df98def2decb": {
          "model_module": "@jupyter-widgets/base",
          "model_name": "LayoutModel",
          "state": {
            "_model_module": "@jupyter-widgets/base",
            "_model_module_version": "1.2.0",
            "_model_name": "LayoutModel",
            "_view_count": null,
            "_view_module": "@jupyter-widgets/base",
            "_view_module_version": "1.2.0",
            "_view_name": "LayoutView",
            "align_content": null,
            "align_items": null,
            "align_self": null,
            "border": null,
            "bottom": null,
            "display": null,
            "flex": null,
            "flex_flow": null,
            "grid_area": null,
            "grid_auto_columns": null,
            "grid_auto_flow": null,
            "grid_auto_rows": null,
            "grid_column": null,
            "grid_gap": null,
            "grid_row": null,
            "grid_template_areas": null,
            "grid_template_columns": null,
            "grid_template_rows": null,
            "height": null,
            "justify_content": null,
            "justify_items": null,
            "left": null,
            "margin": null,
            "max_height": null,
            "max_width": null,
            "min_height": null,
            "min_width": null,
            "object_fit": null,
            "object_position": null,
            "order": null,
            "overflow": null,
            "overflow_x": null,
            "overflow_y": null,
            "padding": null,
            "right": null,
            "top": null,
            "visibility": null,
            "width": null
          }
        },
        "9c36ebbbde0e42179996799f320a6fd5": {
          "model_module": "@jupyter-widgets/controls",
          "model_name": "FloatProgressModel",
          "state": {
            "_dom_classes": [],
            "_model_module": "@jupyter-widgets/controls",
            "_model_module_version": "1.5.0",
            "_model_name": "FloatProgressModel",
            "_view_count": null,
            "_view_module": "@jupyter-widgets/controls",
            "_view_module_version": "1.5.0",
            "_view_name": "ProgressView",
            "bar_style": "success",
            "description": "Downloading: 100%",
            "description_tooltip": null,
            "layout": "IPY_MODEL_cfe0bc01e180482ca05f3ecb46be9396",
            "max": 26,
            "min": 0,
            "orientation": "horizontal",
            "style": "IPY_MODEL_acfa5900cff24ee287cc1a584791529b",
            "value": 26
          }
        },
        "49220668d9a4442eab20368977eee976": {
          "model_module": "@jupyter-widgets/controls",
          "model_name": "HTMLModel",
          "state": {
            "_dom_classes": [],
            "_model_module": "@jupyter-widgets/controls",
            "_model_module_version": "1.5.0",
            "_model_name": "HTMLModel",
            "_view_count": null,
            "_view_module": "@jupyter-widgets/controls",
            "_view_module_version": "1.5.0",
            "_view_name": "HTMLView",
            "description": "",
            "description_tooltip": null,
            "layout": "IPY_MODEL_a3f67353e9df4d0692207cf4366de3f7",
            "placeholder": "​",
            "style": "IPY_MODEL_6ec98bf4af95413ca402630d5d7d5b11",
            "value": " 26.0/26.0 [01:32&lt;00:00, 3.57s/B]"
          }
        },
        "acfa5900cff24ee287cc1a584791529b": {
          "model_module": "@jupyter-widgets/controls",
          "model_name": "ProgressStyleModel",
          "state": {
            "_model_module": "@jupyter-widgets/controls",
            "_model_module_version": "1.5.0",
            "_model_name": "ProgressStyleModel",
            "_view_count": null,
            "_view_module": "@jupyter-widgets/base",
            "_view_module_version": "1.2.0",
            "_view_name": "StyleView",
            "bar_color": null,
            "description_width": "initial"
          }
        },
        "cfe0bc01e180482ca05f3ecb46be9396": {
          "model_module": "@jupyter-widgets/base",
          "model_name": "LayoutModel",
          "state": {
            "_model_module": "@jupyter-widgets/base",
            "_model_module_version": "1.2.0",
            "_model_name": "LayoutModel",
            "_view_count": null,
            "_view_module": "@jupyter-widgets/base",
            "_view_module_version": "1.2.0",
            "_view_name": "LayoutView",
            "align_content": null,
            "align_items": null,
            "align_self": null,
            "border": null,
            "bottom": null,
            "display": null,
            "flex": null,
            "flex_flow": null,
            "grid_area": null,
            "grid_auto_columns": null,
            "grid_auto_flow": null,
            "grid_auto_rows": null,
            "grid_column": null,
            "grid_gap": null,
            "grid_row": null,
            "grid_template_areas": null,
            "grid_template_columns": null,
            "grid_template_rows": null,
            "height": null,
            "justify_content": null,
            "justify_items": null,
            "left": null,
            "margin": null,
            "max_height": null,
            "max_width": null,
            "min_height": null,
            "min_width": null,
            "object_fit": null,
            "object_position": null,
            "order": null,
            "overflow": null,
            "overflow_x": null,
            "overflow_y": null,
            "padding": null,
            "right": null,
            "top": null,
            "visibility": null,
            "width": null
          }
        },
        "6ec98bf4af95413ca402630d5d7d5b11": {
          "model_module": "@jupyter-widgets/controls",
          "model_name": "DescriptionStyleModel",
          "state": {
            "_model_module": "@jupyter-widgets/controls",
            "_model_module_version": "1.5.0",
            "_model_name": "DescriptionStyleModel",
            "_view_count": null,
            "_view_module": "@jupyter-widgets/base",
            "_view_module_version": "1.2.0",
            "_view_name": "StyleView",
            "description_width": ""
          }
        },
        "a3f67353e9df4d0692207cf4366de3f7": {
          "model_module": "@jupyter-widgets/base",
          "model_name": "LayoutModel",
          "state": {
            "_model_module": "@jupyter-widgets/base",
            "_model_module_version": "1.2.0",
            "_model_name": "LayoutModel",
            "_view_count": null,
            "_view_module": "@jupyter-widgets/base",
            "_view_module_version": "1.2.0",
            "_view_name": "LayoutView",
            "align_content": null,
            "align_items": null,
            "align_self": null,
            "border": null,
            "bottom": null,
            "display": null,
            "flex": null,
            "flex_flow": null,
            "grid_area": null,
            "grid_auto_columns": null,
            "grid_auto_flow": null,
            "grid_auto_rows": null,
            "grid_column": null,
            "grid_gap": null,
            "grid_row": null,
            "grid_template_areas": null,
            "grid_template_columns": null,
            "grid_template_rows": null,
            "height": null,
            "justify_content": null,
            "justify_items": null,
            "left": null,
            "margin": null,
            "max_height": null,
            "max_width": null,
            "min_height": null,
            "min_width": null,
            "object_fit": null,
            "object_position": null,
            "order": null,
            "overflow": null,
            "overflow_x": null,
            "overflow_y": null,
            "padding": null,
            "right": null,
            "top": null,
            "visibility": null,
            "width": null
          }
        }
      }
    }
  },
  "cells": [
    {
      "cell_type": "markdown",
      "metadata": {
        "id": "structured-humanity"
      },
      "source": [
        "<a href=\"https://githubtocolab.com/stavshem/PyCon2021-Topic_Modeling/blob/main/Topic_Modeling.ipynb\" target=\"_parent\">\n",
        "<img src=\"https://colab.research.google.com/assets/colab-badge.svg\" alt=\"Open in Colab\"/></a>"
      ],
      "id": "structured-humanity"
    },
    {
      "cell_type": "code",
      "metadata": {
        "colab": {
          "base_uri": "https://localhost:8080/"
        },
        "id": "eight-blogger",
        "outputId": "f86de35d-068c-4873-c5b2-d5badb59ca1e"
      },
      "source": [
        "! pip install --q blingfire spacy transformers sentence-transformers umap-learn hdbscan stop-words"
      ],
      "id": "eight-blogger",
      "execution_count": 1,
      "outputs": [
        {
          "output_type": "stream",
          "text": [
            "\u001b[K     |████████████████████████████████| 28.3MB 190kB/s \n",
            "\u001b[K     |████████████████████████████████| 2.1MB 50.6MB/s \n",
            "\u001b[K     |████████████████████████████████| 81kB 12.4MB/s \n",
            "\u001b[K     |████████████████████████████████| 81kB 11.0MB/s \n",
            "\u001b[K     |████████████████████████████████| 6.4MB 25.6MB/s \n",
            "\u001b[?25h  Installing build dependencies ... \u001b[?25l\u001b[?25hdone\n",
            "  Getting requirements to build wheel ... \u001b[?25l\u001b[?25hdone\n",
            "    Preparing wheel metadata ... \u001b[?25l\u001b[?25hdone\n",
            "\u001b[K     |████████████████████████████████| 3.3MB 47.0MB/s \n",
            "\u001b[K     |████████████████████████████████| 901kB 51.9MB/s \n",
            "\u001b[K     |████████████████████████████████| 1.2MB 51.0MB/s \n",
            "\u001b[K     |████████████████████████████████| 1.2MB 50.8MB/s \n",
            "\u001b[?25h  Building wheel for hdbscan (PEP 517) ... \u001b[?25l\u001b[?25hdone\n",
            "  Building wheel for sentence-transformers (setup.py) ... \u001b[?25l\u001b[?25hdone\n",
            "  Building wheel for umap-learn (setup.py) ... \u001b[?25l\u001b[?25hdone\n",
            "  Building wheel for stop-words (setup.py) ... \u001b[?25l\u001b[?25hdone\n",
            "  Building wheel for pynndescent (setup.py) ... \u001b[?25l\u001b[?25hdone\n"
          ],
          "name": "stdout"
        }
      ]
    },
    {
      "cell_type": "code",
      "metadata": {
        "id": "accredited-patent",
        "colab": {
          "base_uri": "https://localhost:8080/"
        },
        "outputId": "343519aa-6242-4d68-8410-9e786da40d5e"
      },
      "source": [
        "import re\n",
        "import warnings\n",
        "import itertools\n",
        "import collections\n",
        "\n",
        "import numpy as np\n",
        "import pandas as pd\n",
        "\n",
        "import matplotlib\n",
        "import matplotlib.pyplot as plt\n",
        "import seaborn as sns\n",
        "from IPython.display import Markdown, display\n",
        "\n",
        "from tqdm.autonotebook import tqdm"
      ],
      "id": "accredited-patent",
      "execution_count": 2,
      "outputs": [
        {
          "output_type": "stream",
          "text": [
            "/usr/local/lib/python3.7/dist-packages/ipykernel_launcher.py:14: TqdmExperimentalWarning: Using `tqdm.autonotebook.tqdm` in notebook mode. Use `tqdm.tqdm` instead to force console mode (e.g. in jupyter console)\n",
            "  \n"
          ],
          "name": "stderr"
        }
      ]
    },
    {
      "cell_type": "code",
      "metadata": {
        "colab": {
          "base_uri": "https://localhost:8080/"
        },
        "id": "casual-execution",
        "outputId": "99ded738-8670-482f-dd1b-7f08623b581e"
      },
      "source": [
        "warnings.ignore()\n",
        "pd.set_option('display.max_colwidth', 300)\n",
        "pd.set_option('display.float_format', '{:,.2f}'.format)\n",
        "tqdm.pandas()"
      ],
      "id": "casual-execution",
      "execution_count": 3,
      "outputs": [
        {
          "output_type": "stream",
          "text": [
            "/usr/local/lib/python3.7/dist-packages/tqdm/std.py:658: FutureWarning: The Panel class is removed from pandas. Accessing it from the top-level namespace will also be removed in the next version\n",
            "  from pandas import Panel\n"
          ],
          "name": "stderr"
        }
      ]
    },
    {
      "cell_type": "code",
      "metadata": {
        "id": "optimum-bread"
      },
      "source": [
        "def printmd(string):\n",
        "    display(Markdown(string))"
      ],
      "id": "optimum-bread",
      "execution_count": 4,
      "outputs": []
    },
    {
      "cell_type": "code",
      "metadata": {
        "id": "demonstrated-speech"
      },
      "source": [
        "TAB = '&nbsp;&nbsp;&nbsp;&nbsp;'\n",
        "BULLET = f'{TAB}➡'"
      ],
      "id": "demonstrated-speech",
      "execution_count": 5,
      "outputs": []
    },
    {
      "cell_type": "markdown",
      "metadata": {
        "id": "labeled-syndicate"
      },
      "source": [
        "# Topic Discovery"
      ],
      "id": "labeled-syndicate"
    },
    {
      "cell_type": "markdown",
      "metadata": {
        "id": "impressed-sender"
      },
      "source": [
        "## Prepare Input Text Data"
      ],
      "id": "impressed-sender"
    },
    {
      "cell_type": "code",
      "metadata": {
        "id": "incident-formula"
      },
      "source": [
        "from sklearn.datasets import fetch_20newsgroups\n",
        "from blingfire import text_to_sentences\n",
        "\n",
        "from gensim.parsing import strip_tags, strip_numeric, strip_multiple_whitespaces, stem_text, strip_punctuation, remove_stopwords, preprocess_string"
      ],
      "id": "incident-formula",
      "execution_count": 6,
      "outputs": []
    },
    {
      "cell_type": "code",
      "metadata": {
        "id": "taken-genesis",
        "colab": {
          "base_uri": "https://localhost:8080/"
        },
        "outputId": "28e5b6ac-ee69-4aa1-f775-bb3794d70399"
      },
      "source": [
        "data = fetch_20newsgroups(subset='all')['data']"
      ],
      "id": "taken-genesis",
      "execution_count": 7,
      "outputs": [
        {
          "output_type": "stream",
          "text": [
            "Downloading 20news dataset. This may take a few minutes.\n",
            "Downloading dataset from https://ndownloader.figshare.com/files/5975967 (14 MB)\n"
          ],
          "name": "stderr"
        }
      ]
    },
    {
      "cell_type": "code",
      "metadata": {
        "id": "major-ambassador"
      },
      "source": [
        "sentence_items = []\n",
        "for i, document in enumerate(data):\n",
        "  document_sentences = text_to_sentences(document).split(\"\\n\")\n",
        "  sentence_with_idx = itertools.zip_longest(document_sentences, [i], fillvalue=i)\n",
        "  sentence_items.extend(sentence_with_idx)"
      ],
      "id": "major-ambassador",
      "execution_count": 8,
      "outputs": []
    },
    {
      "cell_type": "code",
      "metadata": {
        "id": "guided-repeat"
      },
      "source": [
        "df_sentences = pd.DataFrame(sentence_items, columns=['original_sentence', 'document_id'])"
      ],
      "id": "guided-repeat",
      "execution_count": 9,
      "outputs": []
    },
    {
      "cell_type": "code",
      "metadata": {
        "id": "large-effect"
      },
      "source": [
        "transform_to_lower = lambda s: s.lower()\n",
        "remove_single_char = lambda s: re.sub(r'\\s+\\w{1}\\s+', '', s)\n",
        "\n",
        "CLEAN_FILTERS = [strip_tags,\n",
        "                strip_numeric,\n",
        "                strip_punctuation, \n",
        "                strip_multiple_whitespaces, \n",
        "                transform_to_lower,\n",
        "                remove_stopwords,\n",
        "                remove_single_char]\n",
        "\n",
        "def cleaning_pipe(document):\n",
        "    processed_words = preprocess_string(document, CLEAN_FILTERS)    \n",
        "    return ' '.join(processed_words)"
      ],
      "id": "large-effect",
      "execution_count": 10,
      "outputs": []
    },
    {
      "cell_type": "code",
      "metadata": {
        "colab": {
          "base_uri": "https://localhost:8080/",
          "height": 66,
          "referenced_widgets": [
            "240ddd882623487e83745c5e72a087be",
            "2691f7324e2842dfaf4c3146536f6677",
            "23dd865deb004ff6b0c54f4782ac35de",
            "1e60d283e14244c39dfcfea6af58802c",
            "be0d1797c5bf4f788c26954683e4b3ff",
            "b58a05bd8f5544da903c0543959af64c",
            "7eec2a7cae5e40c59f8e8eb644b266b9",
            "2bd29c7e5e334ad5bcece0ae18ea854e"
          ]
        },
        "id": "million-temple",
        "outputId": "5d1c87fe-1ae6-4b3e-f4e8-ac7cd0b0dba9"
      },
      "source": [
        "df_sentences['sentence'] = df_sentences['original_sentence'].progress_apply(cleaning_pipe)"
      ],
      "id": "million-temple",
      "execution_count": 11,
      "outputs": [
        {
          "output_type": "display_data",
          "data": {
            "application/vnd.jupyter.widget-view+json": {
              "model_id": "240ddd882623487e83745c5e72a087be",
              "version_minor": 0,
              "version_major": 2
            },
            "text/plain": [
              "HBox(children=(FloatProgress(value=0.0, max=255875.0), HTML(value='')))"
            ]
          },
          "metadata": {
            "tags": []
          }
        },
        {
          "output_type": "stream",
          "text": [
            "\n"
          ],
          "name": "stdout"
        }
      ]
    },
    {
      "cell_type": "code",
      "metadata": {
        "colab": {
          "base_uri": "https://localhost:8080/",
          "height": 80
        },
        "id": "enhanced-inclusion",
        "outputId": "14891e9e-b1f1-461d-b905-918e861effab"
      },
      "source": [
        "sample_idx = 151\n",
        "printmd('**Data Cleaning**')\n",
        "original_sentence, sentence = df_sentences.iloc[sample_idx][['original_sentence', 'sentence']]\n",
        "print(f'  Raw text: {original_sentence}')\n",
        "print(f'  Cleaned: {sentence}')"
      ],
      "id": "enhanced-inclusion",
      "execution_count": 12,
      "outputs": [
        {
          "output_type": "display_data",
          "data": {
            "text/markdown": "**Data Cleaning**",
            "text/plain": [
              "<IPython.core.display.Markdown object>"
            ]
          },
          "metadata": {
            "tags": []
          }
        },
        {
          "output_type": "stream",
          "text": [
            "  Raw text: \"Reuss resigned as Outer Head of the Order in 1922 after suffering a stroke and named Crowley his successor.\n",
            "  Cleaned: reuss resigned outer head order suffering stroke named crowley successor\n"
          ],
          "name": "stdout"
        }
      ]
    },
    {
      "cell_type": "code",
      "metadata": {
        "id": "tribal-wesley"
      },
      "source": [
        "df_sentences.drop_duplicates(subset='sentence', inplace=True)\n",
        "\n",
        "MIN_LEN = 50\n",
        "MAX_LEN = 500\n",
        "df_sentences['sentence_len'] = df_sentences['sentence'].str.len()\n",
        "df_sentences = df_sentences[(MIN_LEN <= df_sentences['sentence_len']) & (df_sentences['sentence_len'] <= MAX_LEN)]"
      ],
      "id": "tribal-wesley",
      "execution_count": 13,
      "outputs": []
    },
    {
      "cell_type": "code",
      "metadata": {
        "id": "yHZR47tBiHvR"
      },
      "source": [
        "df_sentences.reset_index(inplace=True)"
      ],
      "id": "yHZR47tBiHvR",
      "execution_count": 69,
      "outputs": []
    },
    {
      "cell_type": "code",
      "metadata": {
        "colab": {
          "base_uri": "https://localhost:8080/",
          "height": 385
        },
        "id": "i1xNd5KabK0q",
        "outputId": "4d3f752a-c161-48e4-8959-2ce9add72386"
      },
      "source": [
        "sns.displot(df_sentences['sentence_len'])\n",
        "plt.title('Sentence Character Length');"
      ],
      "id": "i1xNd5KabK0q",
      "execution_count": 41,
      "outputs": [
        {
          "output_type": "display_data",
          "data": {
            "image/png": "[encoded data removed]",
            "text/plain": [
              "<Figure size 360x360 with 1 Axes>"
            ]
          },
          "metadata": {
            "tags": [],
            "needs_background": "light"
          }
        }
      ]
    },
    {
      "cell_type": "code",
      "metadata": {
        "colab": {
          "base_uri": "https://localhost:8080/",
          "height": 272
        },
        "id": "biblical-sarah",
        "outputId": "240d51b9-6f28-4aa7-c13b-595d9baf900f"
      },
      "source": [
        "df_sentences.head()"
      ],
      "id": "biblical-sarah",
      "execution_count": 14,
      "outputs": [
        {
          "output_type": "execute_result",
          "data": {
            "text/html": [
              "<div>\n",
              "<style scoped>\n",
              "    .dataframe tbody tr th:only-of-type {\n",
              "        vertical-align: middle;\n",
              "    }\n",
              "\n",
              "    .dataframe tbody tr th {\n",
              "        vertical-align: top;\n",
              "    }\n",
              "\n",
              "    .dataframe thead th {\n",
              "        text-align: right;\n",
              "    }\n",
              "</style>\n",
              "<table border=\"1\" class=\"dataframe\">\n",
              "  <thead>\n",
              "    <tr style=\"text-align: right;\">\n",
              "      <th></th>\n",
              "      <th>original_sentence</th>\n",
              "      <th>document_id</th>\n",
              "      <th>sentence</th>\n",
              "      <th>sentence_len</th>\n",
              "    </tr>\n",
              "  </thead>\n",
              "  <tbody>\n",
              "    <tr>\n",
              "      <th>0</th>\n",
              "      <td>From: Mamatha Devineni Ratnam &lt;mr47+@andrew.cmu.edu&gt; Subject: Pens fans reactions Organization: Post Office, Carnegie Mellon, Pittsburgh, PA Lines: 12 NNTP-Posting-Host: po4.andrew.cmu.edu    I am sure some bashers of Pens fans are pretty confused about the lack of any kind of posts about the re...</td>\n",
              "      <td>0</td>\n",
              "      <td>mamatha devineni ratnam subject pens fans reactions organization post office carnegie mellon pittsburgh pa lines nntp posting host po andrew cmu edu sure bashers pens fans pretty confused lack kind posts recent pens massacre devils</td>\n",
              "      <td>231</td>\n",
              "    </tr>\n",
              "    <tr>\n",
              "      <th>2</th>\n",
              "      <td>However, I am going to put an end to non-PIttsburghers' relief with a bit of praise for the Pens.</td>\n",
              "      <td>0</td>\n",
              "      <td>going end non pittsburghers relief bit praise pens</td>\n",
              "      <td>50</td>\n",
              "    </tr>\n",
              "    <tr>\n",
              "      <th>6</th>\n",
              "      <td>Bowman should let JAgr have a lot of fun in the next couple of games since the Pens are going to beat the pulp out of Jersey anyway.</td>\n",
              "      <td>0</td>\n",
              "      <td>bowman let jagr lot fun couple games pens going beat pulp jersey</td>\n",
              "      <td>64</td>\n",
              "    </tr>\n",
              "    <tr>\n",
              "      <th>7</th>\n",
              "      <td>I was very disappointed not to see the Islanders lose the final regular season game.</td>\n",
              "      <td>0</td>\n",
              "      <td>disappointed islanders lose final regular season game</td>\n",
              "      <td>53</td>\n",
              "    </tr>\n",
              "    <tr>\n",
              "      <th>9</th>\n",
              "      <td>From: mblawson@midway.ecn.uoknor.edu (Matthew B Lawson) Subject: Which high-performance VLB video card?</td>\n",
              "      <td>1</td>\n",
              "      <td>mblawson midway ecn uoknor edu matthewlawson subject high performance vlb video card</td>\n",
              "      <td>84</td>\n",
              "    </tr>\n",
              "  </tbody>\n",
              "</table>\n",
              "</div>"
            ],
            "text/plain": [
              "                                                                                                                                                                                                                                                                                             original_sentence  ...  sentence_len\n",
              "0  From: Mamatha Devineni Ratnam <mr47+@andrew.cmu.edu> Subject: Pens fans reactions Organization: Post Office, Carnegie Mellon, Pittsburgh, PA Lines: 12 NNTP-Posting-Host: po4.andrew.cmu.edu    I am sure some bashers of Pens fans are pretty confused about the lack of any kind of posts about the re...  ...           231\n",
              "2                                                                                                                                                                                                            However, I am going to put an end to non-PIttsburghers' relief with a bit of praise for the Pens.  ...            50\n",
              "6                                                                                                                                                                         Bowman should let JAgr have a lot of fun in the next couple of games since the Pens are going to beat the pulp out of Jersey anyway.  ...            64\n",
              "7                                                                                                                                                                                                                         I was very disappointed not to see the Islanders lose the final regular season game.  ...            53\n",
              "9                                                                                                                                                                                                      From: mblawson@midway.ecn.uoknor.edu (Matthew B Lawson) Subject: Which high-performance VLB video card?  ...            84\n",
              "\n",
              "[5 rows x 4 columns]"
            ]
          },
          "metadata": {
            "tags": []
          },
          "execution_count": 14
        }
      ]
    },
    {
      "cell_type": "code",
      "metadata": {
        "colab": {
          "base_uri": "https://localhost:8080/",
          "height": 46
        },
        "id": "hundred-harmony",
        "outputId": "2d1afc82-bac0-4ab8-8d95-4584f98eda9e"
      },
      "source": [
        "printmd(f'**Sentences count**: {df_sentences.shape[0]:,}.')"
      ],
      "id": "hundred-harmony",
      "execution_count": 15,
      "outputs": [
        {
          "output_type": "display_data",
          "data": {
            "text/markdown": "**Sentences count**: 114,545.",
            "text/plain": [
              "<IPython.core.display.Markdown object>"
            ]
          },
          "metadata": {
            "tags": []
          }
        }
      ]
    },
    {
      "cell_type": "markdown",
      "metadata": {
        "id": "square-manual"
      },
      "source": [
        "## Step 1 - Sentence Representation"
      ],
      "id": "square-manual"
    },
    {
      "cell_type": "code",
      "metadata": {
        "id": "marked-privilege"
      },
      "source": [
        "from sentence_transformers import SentenceTransformer"
      ],
      "id": "marked-privilege",
      "execution_count": 16,
      "outputs": []
    },
    {
      "cell_type": "code",
      "metadata": {
        "colab": {
          "base_uri": "https://localhost:8080/",
          "height": 115,
          "referenced_widgets": [
            "75fda4e7aa384425a499563f03f5c40e",
            "f72e4690d1c44e99ab407bcd5613c289",
            "e82b1ea4e9d542cb87683673aa7840d0",
            "8bc14377efff448bb38a276167376e2e",
            "c0b822e47da84a4ebd1947f09d12a3c5",
            "ac96d77a7d924e60b143a8d1bcd50cac",
            "6ab8b04aaba449bba151ad6a90106c99",
            "75edc474922941e6b34d007c7fa09f00",
            "4b4730ce5ead42ad81c136648423f6a4",
            "fe100aa115af45689ba95bd1d9263dcf",
            "454f9dfacd3e43fc87068deace073571",
            "c3d063c8981540e1a1b1160e230bcdb7",
            "68d5df5d0e5a41c4934362cacacb6345",
            "4e6058d41a834a308afe33d9ce68fd65",
            "6cd3722499a7471c9a12d2de74da7acb",
            "c0b3bf8d481e4acdaeb3680700eb75a9"
          ]
        },
        "id": "intense-corps",
        "outputId": "96aaa13e-4ef1-495f-8d1d-1988b22b45bc"
      },
      "source": [
        "model = SentenceTransformer('distilbert-base-nli-mean-tokens')\n",
        "embeddings_sbert = model.encode(df_sentences['sentence'].values, show_progress_bar=True)"
      ],
      "id": "intense-corps",
      "execution_count": 17,
      "outputs": [
        {
          "output_type": "display_data",
          "data": {
            "application/vnd.jupyter.widget-view+json": {
              "model_id": "75fda4e7aa384425a499563f03f5c40e",
              "version_minor": 0,
              "version_major": 2
            },
            "text/plain": [
              "HBox(children=(FloatProgress(value=0.0, max=244733649.0), HTML(value='')))"
            ]
          },
          "metadata": {
            "tags": []
          }
        },
        {
          "output_type": "stream",
          "text": [
            "\n"
          ],
          "name": "stdout"
        },
        {
          "output_type": "display_data",
          "data": {
            "application/vnd.jupyter.widget-view+json": {
              "model_id": "4b4730ce5ead42ad81c136648423f6a4",
              "version_minor": 0,
              "version_major": 2
            },
            "text/plain": [
              "HBox(children=(FloatProgress(value=0.0, description='Batches', max=3580.0, style=ProgressStyle(description_wid…"
            ]
          },
          "metadata": {
            "tags": []
          }
        },
        {
          "output_type": "stream",
          "text": [
            "\n"
          ],
          "name": "stdout"
        }
      ]
    },
    {
      "cell_type": "code",
      "metadata": {
        "colab": {
          "base_uri": "https://localhost:8080/",
          "height": 46
        },
        "id": "associate-prototype",
        "outputId": "033c817f-2aa8-4375-c5f8-05356db9f23b"
      },
      "source": [
        "sbert_embeddings_count, sbert_embeddings_size = embeddings_sbert.shape\n",
        "printmd(f'**Sentence-BERT embeddings**: {sbert_embeddings_count:,} vectors of size {sbert_embeddings_size}.')"
      ],
      "id": "associate-prototype",
      "execution_count": 20,
      "outputs": [
        {
          "output_type": "display_data",
          "data": {
            "text/markdown": "**Sentence-BERT embeddings**: 114,545 vectors of size 768.",
            "text/plain": [
              "<IPython.core.display.Markdown object>"
            ]
          },
          "metadata": {
            "tags": []
          }
        }
      ]
    },
    {
      "cell_type": "markdown",
      "metadata": {
        "id": "moderate-project"
      },
      "source": [
        "## Step 2 - Dimensionality Reduction"
      ],
      "id": "moderate-project"
    },
    {
      "cell_type": "code",
      "metadata": {
        "id": "junior-bracelet"
      },
      "source": [
        "import umap"
      ],
      "id": "junior-bracelet",
      "execution_count": 21,
      "outputs": []
    },
    {
      "cell_type": "code",
      "metadata": {
        "id": "radio-soldier"
      },
      "source": [
        "embeddings_reduced = umap.UMAP(\n",
        "    n_neighbors=15, \n",
        "    n_components=5, \n",
        "    metric='cosine'\n",
        ").fit_transform(embeddings_sbert)"
      ],
      "id": "radio-soldier",
      "execution_count": 23,
      "outputs": []
    },
    {
      "cell_type": "code",
      "metadata": {
        "id": "enabling-grocery"
      },
      "source": [
        "embeddings_2d = umap.UMAP(\n",
        "    n_neighbors=15,\n",
        "    n_components=2,\n",
        "    min_dist=0.0,\n",
        "    metric='cosine'\n",
        ").fit_transform(embeddings_sbert)"
      ],
      "id": "enabling-grocery",
      "execution_count": 25,
      "outputs": []
    },
    {
      "cell_type": "markdown",
      "metadata": {
        "id": "humanitarian-violin"
      },
      "source": [
        "## Step 3 - Clustering"
      ],
      "id": "humanitarian-violin"
    },
    {
      "cell_type": "code",
      "metadata": {
        "id": "modular-wallace"
      },
      "source": [
        "import hdbscan"
      ],
      "id": "modular-wallace",
      "execution_count": 31,
      "outputs": []
    },
    {
      "cell_type": "code",
      "metadata": {
        "id": "modified-porcelain"
      },
      "source": [
        "cluster = hdbscan.HDBSCAN(\n",
        "    min_cluster_size=10,\n",
        "    metric='euclidean',                      \n",
        "    cluster_selection_method='eom').fit(embeddings_reduced)"
      ],
      "id": "modified-porcelain",
      "execution_count": 32,
      "outputs": []
    },
    {
      "cell_type": "code",
      "metadata": {
        "id": "decreased-stand"
      },
      "source": [
        "df_sentences['cluster_id'] = cluster.labels_"
      ],
      "id": "decreased-stand",
      "execution_count": 33,
      "outputs": []
    },
    {
      "cell_type": "code",
      "metadata": {
        "id": "painted-injury"
      },
      "source": [
        "df_sentences_clustered = df_sentences[df_sentences['cluster_id'] != -1]"
      ],
      "id": "painted-injury",
      "execution_count": 34,
      "outputs": []
    },
    {
      "cell_type": "code",
      "metadata": {
        "colab": {
          "base_uri": "https://localhost:8080/",
          "height": 296
        },
        "id": "young-danish",
        "outputId": "3f4f8c22-7143-4b3d-e8c2-1b42e4735935"
      },
      "source": [
        "sns.histplot(df_sentences_clustered['cluster_id'], palette='Paired')\n",
        "plt.title('Cluster Distribution');"
      ],
      "id": "young-danish",
      "execution_count": 35,
      "outputs": [
        {
          "output_type": "display_data",
          "data": {
            "image/png": "[encoded data removed]",
            "text/plain": [
              "<Figure size 432x288 with 1 Axes>"
            ]
          },
          "metadata": {
            "tags": [],
            "needs_background": "light"
          }
        }
      ]
    },
    {
      "cell_type": "code",
      "metadata": {
        "colab": {
          "base_uri": "https://localhost:8080/",
          "height": 592
        },
        "id": "retained-think",
        "outputId": "7471a12e-06e5-4379-f2f3-1e152de89ce6"
      },
      "source": [
        "# Prepare data\n",
        "df_clusters_2d = pd.DataFrame(embeddings_2d, columns=['x', 'y'])\n",
        "df_clusters_2d['labels'] = cluster.labels_\n",
        "\n",
        "# Visualize clusters\n",
        "fig, ax = plt.subplots(figsize=(20, 10))\n",
        "outliers = df_clusters_2d.loc[df_clusters_2d.labels == -1, :]\n",
        "clustered = df_clusters_2d.loc[df_clusters_2d.labels != -1, :]\n",
        "plt.scatter(outliers.x, outliers.y, color='black', s=0.05)\n",
        "plt.scatter(clustered.x, clustered.y, c=clustered.labels, s=0.05, cmap='hsv_r')\n",
        "plt.colorbar();"
      ],
      "id": "retained-think",
      "execution_count": 43,
      "outputs": [
        {
          "output_type": "display_data",
          "data": {
            "image/png": "[encoded data removed]",
            "text/plain": [
              "<Figure size 1440x720 with 2 Axes>"
            ]
          },
          "metadata": {
            "tags": [],
            "needs_background": "light"
          }
        }
      ]
    },
    {
      "cell_type": "code",
      "metadata": {
        "id": "xQ_GHdvshrqg"
      },
      "source": [
        "df_topics = df_sentences\\\n",
        "  .groupby(['cluster_id'], as_index = False)\\\n",
        "  .agg({'sentence': ' '.join})\\\n",
        "  .rename(columns={'sentence': 'cluster_sentences'})"
      ],
      "id": "xQ_GHdvshrqg",
      "execution_count": 63,
      "outputs": []
    },
    {
      "cell_type": "markdown",
      "metadata": {
        "id": "solar-layout"
      },
      "source": [
        "# Step 4 - Topic Summarization"
      ],
      "id": "solar-layout"
    },
    {
      "cell_type": "code",
      "metadata": {
        "id": "cI6kiqMQhxSA"
      },
      "source": [
        "! curl --silent -O https://raw.githubusercontent.com/UKPLab/sentence-transformers/master/examples/applications/text-summarization/LexRank.py"
      ],
      "id": "cI6kiqMQhxSA",
      "execution_count": 65,
      "outputs": []
    },
    {
      "cell_type": "code",
      "metadata": {
        "id": "acute-heading"
      },
      "source": [
        "import spacy"
      ],
      "id": "acute-heading",
      "execution_count": 47,
      "outputs": []
    },
    {
      "cell_type": "code",
      "metadata": {
        "id": "considered-corruption"
      },
      "source": [
        "nlp = spacy.load(\"en_core_web_sm\")"
      ],
      "id": "considered-corruption",
      "execution_count": 48,
      "outputs": []
    },
    {
      "cell_type": "code",
      "metadata": {
        "id": "bronze-integral",
        "colab": {
          "base_uri": "https://localhost:8080/",
          "height": 241
        },
        "outputId": "46c59856-e61e-4ac0-c745-9ead5b86b5e1"
      },
      "source": [
        "df_topics.sample(n=4)"
      ],
      "id": "bronze-integral",
      "execution_count": 64,
      "outputs": [
        {
          "output_type": "execute_result",
          "data": {
            "text/html": [
              "<div>\n",
              "<style scoped>\n",
              "    .dataframe tbody tr th:only-of-type {\n",
              "        vertical-align: middle;\n",
              "    }\n",
              "\n",
              "    .dataframe tbody tr th {\n",
              "        vertical-align: top;\n",
              "    }\n",
              "\n",
              "    .dataframe thead th {\n",
              "        text-align: right;\n",
              "    }\n",
              "</style>\n",
              "<table border=\"1\" class=\"dataframe\">\n",
              "  <thead>\n",
              "    <tr style=\"text-align: right;\">\n",
              "      <th></th>\n",
              "      <th>cluster_id</th>\n",
              "      <th>cluster_sentences</th>\n",
              "    </tr>\n",
              "  </thead>\n",
              "  <tbody>\n",
              "    <tr>\n",
              "      <th>285</th>\n",
              "      <td>284</td>\n",
              "      <td>original post claimed atf fbi pumping napalm building hopes wood stove inside ignite branch davidian members survived inferno claim started armored vehicle punched wall knocked lantern setting table comment cultists close edge hell think reaction hours long assault compound holes punched walls c...</td>\n",
              "    </tr>\n",
              "    <tr>\n",
              "      <th>513</th>\n",
              "      <td>512</td>\n",
              "      <td>eugenerosen genie erosen riverside road compuserve sandy hook ct aol gene rosen uznerk mcl ucsb edu andrew krenz subject impala ss going production daveb pogo wv tek com dave butler subject objectivity years jack handey erichlantz ewl world std com timberville va dod yzerman fedorov coffey linds...</td>\n",
              "    </tr>\n",
              "    <tr>\n",
              "      <th>280</th>\n",
              "      <td>279</td>\n",
              "      <td>mkagalen lynx dac northeastern edu michael kagalenko subject detect use illegal cipher agk neural hampshire edu andrew kriger subject detect use illegal cipher rboudrie chpc org rob boudrie subject detect use illegal cipher correct illegal send cryptographic code lots things country license ciph...</td>\n",
              "    </tr>\n",
              "    <tr>\n",
              "      <th>194</th>\n",
              "      <td>193</td>\n",
              "      <td>cardiologists use ultrasound echocardiography fact considered experts radiologist intensively trained process interpreting diagnostic imaging data aware things physicians arenaware radiologist doctor looking areas radioactive tracer kxgst pitt edu kenneth gilbert subject need radiologist read ul...</td>\n",
              "    </tr>\n",
              "  </tbody>\n",
              "</table>\n",
              "</div>"
            ],
            "text/plain": [
              "     cluster_id                                                                                                                                                                                                                                                                                            cluster_sentences\n",
              "285         284  original post claimed atf fbi pumping napalm building hopes wood stove inside ignite branch davidian members survived inferno claim started armored vehicle punched wall knocked lantern setting table comment cultists close edge hell think reaction hours long assault compound holes punched walls c...\n",
              "513         512  eugenerosen genie erosen riverside road compuserve sandy hook ct aol gene rosen uznerk mcl ucsb edu andrew krenz subject impala ss going production daveb pogo wv tek com dave butler subject objectivity years jack handey erichlantz ewl world std com timberville va dod yzerman fedorov coffey linds...\n",
              "280         279  mkagalen lynx dac northeastern edu michael kagalenko subject detect use illegal cipher agk neural hampshire edu andrew kriger subject detect use illegal cipher rboudrie chpc org rob boudrie subject detect use illegal cipher correct illegal send cryptographic code lots things country license ciph...\n",
              "194         193  cardiologists use ultrasound echocardiography fact considered experts radiologist intensively trained process interpreting diagnostic imaging data aware things physicians arenaware radiologist doctor looking areas radioactive tracer kxgst pitt edu kenneth gilbert subject need radiologist read ul..."
            ]
          },
          "metadata": {
            "tags": []
          },
          "execution_count": 64
        }
      ]
    },
    {
      "cell_type": "code",
      "metadata": {
        "colab": {
          "base_uri": "https://localhost:8080/",
          "height": 66,
          "referenced_widgets": [
            "62b72db0daa2465e8501972c8f3b4f7f",
            "022c1454a27245a49fe0d1a12b4ddcc8",
            "295ce9cdca604bc9b39e8b9bd45d4cac",
            "72f5b8c3240d46a2b5478722346741ab",
            "4990adb498804d1f82fd697590620cd7",
            "36596585ee204c1da8f846abb1643bad",
            "bde2f5b7e65240758d12508d16c6b201",
            "f3a3da5bba6c4b1c85f49f17c8094c24"
          ]
        },
        "id": "offensive-journey",
        "outputId": "37518e68-5893-4701-bcb1-0371231bca5c"
      },
      "source": [
        "from sentence_transformers.util import pytorch_cos_sim\n",
        "from LexRank import degree_centrality_scores\n",
        "\n",
        "cluster_id_to_central_sentences = {}\n",
        "cluster_iter = tqdm(df_sentences.groupby(\"cluster_id\"), desc=\"Clusters\")\n",
        "for cluster_id, cluster_group in cluster_iter:\n",
        "    if cluster_id == -1:\n",
        "      continue\n",
        "    cluster_emb = np.take(embeddings_sbert, cluster_group.index.values, axis=0)\n",
        "    cos_scores = pytorch_cos_sim(cluster_emb, cluster_emb).numpy()\n",
        "    centrality_scores = degree_centrality_scores(cos_scores, threshold=None)\n",
        "    cluster_examples = cluster_group.iloc[np.argsort(-centrality_scores)[:10]]\n",
        "    cluster_id_to_central_sentences[cluster_id] = cluster_examples.sentence.values.tolist()"
      ],
      "id": "offensive-journey",
      "execution_count": 70,
      "outputs": [
        {
          "output_type": "display_data",
          "data": {
            "application/vnd.jupyter.widget-view+json": {
              "model_id": "62b72db0daa2465e8501972c8f3b4f7f",
              "version_minor": 0,
              "version_major": 2
            },
            "text/plain": [
              "HBox(children=(FloatProgress(value=0.0, description='Clusters', max=523.0, style=ProgressStyle(description_wid…"
            ]
          },
          "metadata": {
            "tags": []
          }
        },
        {
          "output_type": "stream",
          "text": [
            "\n"
          ],
          "name": "stdout"
        }
      ]
    },
    {
      "cell_type": "code",
      "metadata": {
        "id": "functioning-portsmouth",
        "colab": {
          "base_uri": "https://localhost:8080/",
          "height": 66,
          "referenced_widgets": [
            "534ab0bb95754b12bbac8fa164192f2c",
            "fd96b967c2a04e2590bc6a4cbca59925",
            "807ff785d29b4fdc98f1d885ed8c9739",
            "0445a6f35b5c4b4fbee0c6fda44b5db0",
            "3281860e87864ad7b7a31e0832e06cdf",
            "a0e10971307d4fe58b318776d53807df",
            "003dd1655f884856b510df6d36208b02",
            "191db3a88bfd4b3d8589af0e0d11c039"
          ]
        },
        "outputId": "8e97f882-245b-477e-fc7a-6f698d5f0542"
      },
      "source": [
        "df_topics[\"central_sentences\"] = df_topics[\"cluster_id\"].progress_apply(cluster_id_to_central_sentences.get)"
      ],
      "id": "functioning-portsmouth",
      "execution_count": 75,
      "outputs": [
        {
          "output_type": "display_data",
          "data": {
            "application/vnd.jupyter.widget-view+json": {
              "model_id": "534ab0bb95754b12bbac8fa164192f2c",
              "version_minor": 0,
              "version_major": 2
            },
            "text/plain": [
              "HBox(children=(FloatProgress(value=0.0, max=523.0), HTML(value='')))"
            ]
          },
          "metadata": {
            "tags": []
          }
        },
        {
          "output_type": "stream",
          "text": [
            "\n"
          ],
          "name": "stdout"
        }
      ]
    },
    {
      "cell_type": "code",
      "metadata": {
        "colab": {
          "base_uri": "https://localhost:8080/",
          "height": 374
        },
        "id": "loved-community",
        "outputId": "eaf57ad5-e3b7-4391-e702-95e07d08dd79"
      },
      "source": [
        "df_topics.sample(n=5)"
      ],
      "id": "loved-community",
      "execution_count": 77,
      "outputs": [
        {
          "output_type": "execute_result",
          "data": {
            "text/html": [
              "<div>\n",
              "<style scoped>\n",
              "    .dataframe tbody tr th:only-of-type {\n",
              "        vertical-align: middle;\n",
              "    }\n",
              "\n",
              "    .dataframe tbody tr th {\n",
              "        vertical-align: top;\n",
              "    }\n",
              "\n",
              "    .dataframe thead th {\n",
              "        text-align: right;\n",
              "    }\n",
              "</style>\n",
              "<table border=\"1\" class=\"dataframe\">\n",
              "  <thead>\n",
              "    <tr style=\"text-align: right;\">\n",
              "      <th></th>\n",
              "      <th>cluster_id</th>\n",
              "      <th>cluster_sentences</th>\n",
              "      <th>central_sentences</th>\n",
              "    </tr>\n",
              "  </thead>\n",
              "  <tbody>\n",
              "    <tr>\n",
              "      <th>129</th>\n",
              "      <td>128</td>\n",
              "      <td>survey shows drugs easier fewer eighth graders disapprove number abortions performed dropped dramatically lot abortions weeks think wrong maybe conservative media bias figures homosexuality study released wednesday alan guttmacher institute significantly lower percent figure conventional wisdom ...</td>\n",
              "      <td>[maybe conservative media bias figures homosexuality study released wednesday alan guttmacher institute significantly lower percent figure conventional wisdom published kinsey report, overall uva drug use actually lower average colleges thomas jefferson sole author virginia statute religious fre...</td>\n",
              "    </tr>\n",
              "    <tr>\n",
              "      <th>449</th>\n",
              "      <td>448</td>\n",
              "      <td>way resources stop applicationabilityiconname properties sorryfeature locals showed reluctance buy units geico started giving away going lose access short send request suspension membership suspend forwarding articles t new trial screwed forgot witnesses witnessescome forth trial come paul brote...</td>\n",
              "      <td>[gelldav elof iit edu david geller subject parity error halted ideas, project terminated lack timehp engine transferred project, organization clark university lines sent version post ago swallowed void, s impact ross perotfortune eliminating state supported programsmoney, way resources stop appl...</td>\n",
              "    </tr>\n",
              "    <tr>\n",
              "      <th>470</th>\n",
              "      <td>469</td>\n",
              "      <td>organization internet lines expo lcs mit edu xpert tron bwi anybody generatedserver windows nt ccgwt trentu ca grant totten subject ms windows screen grabber paller fedunix org alan paller subject teacher windows nt holland ug cs dal ca shane holland subject comments xtree windows include object...</td>\n",
              "      <td>[rajiev cfmu eurocontrol rajiev gupta subject windows nt faq, organization internet lines expo lcs mit edu xpert tron bwi anybody generatedserver windows nt, rajiev cfmu eurocontrol rajiev gupta subject questions windows nt, thanks johnskoda windows nt oselectronic learning facilitatorscobol st ...</td>\n",
              "    </tr>\n",
              "    <tr>\n",
              "      <th>135</th>\n",
              "      <td>134</td>\n",
              "      <td>reply sera zuma uucp serdar argic distribution world lines article wiener duke cs duke edu eduard wiener writes culture russia proper ukraine think attempts prove russians descendants finns ukrainians tatars bulgarians bashkirs croats iranians based speculation evidence statement released news s...</td>\n",
              "      <td>[ar azeri parliamentary committees compiled evidence indicating ar events inspired moscow secure russian imperial rule ar transcaucasus according roman principle divide ar rule, myers think president contacted people russian aid, senior administration official look thinkimportant note united sta...</td>\n",
              "    </tr>\n",
              "    <tr>\n",
              "      <th>260</th>\n",
              "      <td>259</td>\n",
              "      <td>organization case western reserve university cleveland ohio usa lines nntp posting host slc ins cwru edu hello organization case western reserve university cleveland oh usa lines reply cf cleveland freenet edu christopher leigh putnam nntp posting host hela ins cwru edu hot key windows screen sa...</td>\n",
              "      <td>[organization case western reserve university cleveland oh usa lines reply bq cleveland freenet edu andyberkvam nntp posting host hela ins cwru edu lo writting program checks configuration, organization case western reserve university cleveland oh usa lines reply af cleveland freenet edu chad ci...</td>\n",
              "    </tr>\n",
              "  </tbody>\n",
              "</table>\n",
              "</div>"
            ],
            "text/plain": [
              "     cluster_id  ...                                                                                                                                                                                                                                                                                            central_sentences\n",
              "129         128  ...  [maybe conservative media bias figures homosexuality study released wednesday alan guttmacher institute significantly lower percent figure conventional wisdom published kinsey report, overall uva drug use actually lower average colleges thomas jefferson sole author virginia statute religious fre...\n",
              "449         448  ...  [gelldav elof iit edu david geller subject parity error halted ideas, project terminated lack timehp engine transferred project, organization clark university lines sent version post ago swallowed void, s impact ross perotfortune eliminating state supported programsmoney, way resources stop appl...\n",
              "470         469  ...  [rajiev cfmu eurocontrol rajiev gupta subject windows nt faq, organization internet lines expo lcs mit edu xpert tron bwi anybody generatedserver windows nt, rajiev cfmu eurocontrol rajiev gupta subject questions windows nt, thanks johnskoda windows nt oselectronic learning facilitatorscobol st ...\n",
              "135         134  ...  [ar azeri parliamentary committees compiled evidence indicating ar events inspired moscow secure russian imperial rule ar transcaucasus according roman principle divide ar rule, myers think president contacted people russian aid, senior administration official look thinkimportant note united sta...\n",
              "260         259  ...  [organization case western reserve university cleveland oh usa lines reply bq cleveland freenet edu andyberkvam nntp posting host hela ins cwru edu lo writting program checks configuration, organization case western reserve university cleveland oh usa lines reply af cleveland freenet edu chad ci...\n",
              "\n",
              "[5 rows x 3 columns]"
            ]
          },
          "metadata": {
            "tags": []
          },
          "execution_count": 77
        }
      ]
    },
    {
      "cell_type": "code",
      "metadata": {
        "id": "common-citation"
      },
      "source": [
        "def get_noun_phrases(corpus):\n",
        "    res = collections.Counter()\n",
        "    if not corpus:\n",
        "      return res\n",
        "    for doc in nlp.pipe(corpus):\n",
        "      noun_pharses=set()    \n",
        "      for nc in doc.noun_chunks:\n",
        "          for np in [nc, doc[nc.root.left_edge.i:nc.root.right_edge.i+1]]:\n",
        "            noun_pharses.add(np)\n",
        "            if np[0].tag_ in (\"PRP\", \"WP\", \"NNP\"):\n",
        "              noun_pharses.add(np)\n",
        "          res[nc] += 1\n",
        "      return res"
      ],
      "id": "common-citation",
      "execution_count": 78,
      "outputs": []
    },
    {
      "cell_type": "code",
      "metadata": {
        "colab": {
          "base_uri": "https://localhost:8080/",
          "height": 49,
          "referenced_widgets": [
            "e3c4d87915024dc5ba0dda1af3c2abe0",
            "83c83fd243404733bb3f2dbac116d10f",
            "145e798c468a416f9d51d386913500f3",
            "24a745387cc0440cbed127591f7fa956",
            "c14cc1b5a55943cfb0bee1a814148f59",
            "71cdf073ae404e92b4090638f8c65c3e",
            "01776120aafb4ab89706b67bc2e5a89b",
            "0064457829fa4f8d8cd60c947d98b933"
          ]
        },
        "id": "operational-brain",
        "outputId": "f7ee6de9-8d05-482f-fdb5-96d1dc4688e7"
      },
      "source": [
        "df_topics[\"noun_phrases\"] = df_topics[\"central_sentences\"].progress_apply(lambda examples: [np for np, _ in get_noun_phrases(examples).most_common(3)])"
      ],
      "id": "operational-brain",
      "execution_count": null,
      "outputs": [
        {
          "output_type": "display_data",
          "data": {
            "application/vnd.jupyter.widget-view+json": {
              "model_id": "e3c4d87915024dc5ba0dda1af3c2abe0",
              "version_minor": 0,
              "version_major": 2
            },
            "text/plain": [
              "HBox(children=(FloatProgress(value=0.0, max=523.0), HTML(value='')))"
            ]
          },
          "metadata": {
            "tags": []
          }
        }
      ]
    },
    {
      "cell_type": "code",
      "metadata": {
        "colab": {
          "base_uri": "https://localhost:8080/",
          "height": 425
        },
        "id": "competitive-execution",
        "outputId": "196fd1b7-1ec0-4de1-920c-90b3c7dd6219"
      },
      "source": [
        "df_sentences_per_cluster.sample(n=5)"
      ],
      "id": "competitive-execution",
      "execution_count": null,
      "outputs": [
        {
          "output_type": "execute_result",
          "data": {
            "text/html": [
              "<div>\n",
              "<style scoped>\n",
              "    .dataframe tbody tr th:only-of-type {\n",
              "        vertical-align: middle;\n",
              "    }\n",
              "\n",
              "    .dataframe tbody tr th {\n",
              "        vertical-align: top;\n",
              "    }\n",
              "\n",
              "    .dataframe thead th {\n",
              "        text-align: right;\n",
              "    }\n",
              "</style>\n",
              "<table border=\"1\" class=\"dataframe\">\n",
              "  <thead>\n",
              "    <tr style=\"text-align: right;\">\n",
              "      <th></th>\n",
              "      <th>cluster_id</th>\n",
              "      <th>cluster_sentences</th>\n",
              "      <th>central_sentences</th>\n",
              "      <th>noun_phrases</th>\n",
              "    </tr>\n",
              "  </thead>\n",
              "  <tbody>\n",
              "    <tr>\n",
              "      <th>494</th>\n",
              "      <td>493</td>\n",
              "      <td>squished fish frankbig fish leslie fish fish dean kaflowitz like away shack catfish ainprettytalk goin fishin goin fishin good friends sure goin fishin especially fishing expeditions targetknowlege looks like duck quacks like duck license fish nets implies fishing village insteadconsidered peopl...</td>\n",
              "      <td>[especially fishing expeditions targetknowlege, frankbig fish, looked creel fishes, license fish, bring fishing rods possible fish prepared board, fish calpe psc edu, fish tapes rented, fishes, think tank fish tank, nets implies fishing village]</td>\n",
              "      <td>[(especially, fishing, expeditions)]</td>\n",
              "    </tr>\n",
              "    <tr>\n",
              "      <th>413</th>\n",
              "      <td>412</td>\n",
              "      <td>spooks navy required know gist ussid navy way naming particular presidential executive order wouldnmean president nixon private citizen nixon sureslightest president nixon presidentfema president richardnixon president leon fuerth national security advisor vice president europe working implement...</td>\n",
              "      <td>[stating president decision, decision forward likecertainly president explain justify, ll present president point ll decision, myers working groupmission point convince president, know president announcement, informed president decisions, mean president supports process ve initiated, operation w...</td>\n",
              "      <td>[(president, decision)]</td>\n",
              "    </tr>\n",
              "    <tr>\n",
              "      <th>957</th>\n",
              "      <td>956</td>\n",
              "      <td>xt calls included x person ksh login shell information obtain xfree listed note servers xfree motif source available based xr version posted comp sources x example seen xdm sources use xlib ala xnextevent works xterms havenable compile xdvi way release sco odt use xr xr course works xterm</td>\n",
              "      <td>[release sco odt use xr xr, motif source available based xr, information obtain xfree listed, version posted comp sources x, use xlib ala xnextevent, works xterms, example seen xdm sources, havenable compile xdvi way, xt calls included, x person ksh login shell]</td>\n",
              "      <td>[(release), (sco, odt), (xr, xr)]</td>\n",
              "    </tr>\n",
              "    <tr>\n",
              "      <th>1034</th>\n",
              "      <td>1033</td>\n",
              "      <td>talk minutes talk ve got couple questions thing talking somebody price talking assume talking opinion orientation specifically talking dsr version talking discuss talk generalizations actually talking rally feel like speak s want talk define inserting conversation come talk spirit talking talk l...</td>\n",
              "      <td>[says talking, talking, talk, version talking, talked, reminding discuss, talk like, think talking, assume talking, m talking case]</td>\n",
              "      <td>[]</td>\n",
              "    </tr>\n",
              "    <tr>\n",
              "      <th>100</th>\n",
              "      <td>99</td>\n",
              "      <td>yes helmet job god given right express opinions carry gun wear helmet goddamn non sequitur guns helmets proper flourish people use face helmet bets s face shield open face aviator sunglasses m interested face shield necessarily helmet piece chin mean carry helmet cams sent helmet letter stating ...</td>\n",
              "      <td>[challanging open face helmet, good place helmet mirror, decided invest face helmet smart, m interested face shield necessarily helmet piece chin, yes helmet job, helmet, line appears helmets integrity compromised visible signs, gas permeable face helmet face sheild, carry want comply intelligen...</td>\n",
              "      <td>[(open, face, helmet)]</td>\n",
              "    </tr>\n",
              "  </tbody>\n",
              "</table>\n",
              "</div>"
            ],
            "text/plain": [
              "      cluster_id  ...                          noun_phrases\n",
              "494          493  ...  [(especially, fishing, expeditions)]\n",
              "413          412  ...               [(president, decision)]\n",
              "957          956  ...     [(release), (sco, odt), (xr, xr)]\n",
              "1034        1033  ...                                    []\n",
              "100           99  ...                [(open, face, helmet)]\n",
              "\n",
              "[5 rows x 4 columns]"
            ]
          },
          "metadata": {
            "tags": []
          },
          "execution_count": 228
        }
      ]
    },
    {
      "cell_type": "code",
      "metadata": {
        "id": "precise-bumper"
      },
      "source": [
        "from gensim.models.coherencemodel import CoherenceModel\n",
        "from gensim.test.utils import common_corpus, common_dictionary\n",
        "from gensim import corpora"
      ],
      "id": "precise-bumper",
      "execution_count": null,
      "outputs": []
    },
    {
      "cell_type": "code",
      "metadata": {
        "id": "exclusive-wheel"
      },
      "source": [
        ""
      ],
      "id": "exclusive-wheel",
      "execution_count": null,
      "outputs": []
    },
    {
      "cell_type": "code",
      "metadata": {
        "id": "knowing-pocket"
      },
      "source": [
        "topics = [\n",
        "    ['human', 'computer', 'system', 'interface'],\n",
        "    ['graph', 'minors', 'trees', 'eps'],\n",
        "    ['graph', 'minors', 'trees', 'eps'],\n",
        "    ['woman', 'girl', 'boy']\n",
        "]"
      ],
      "id": "knowing-pocket",
      "execution_count": null,
      "outputs": []
    },
    {
      "cell_type": "code",
      "metadata": {
        "id": "center-appraisal"
      },
      "source": [
        "words = list(itertools.chain.from_iterable(topics))\n",
        "dct = corpora.Dictionary(topics)"
      ],
      "id": "center-appraisal",
      "execution_count": null,
      "outputs": []
    },
    {
      "cell_type": "code",
      "metadata": {
        "colab": {
          "base_uri": "https://localhost:8080/"
        },
        "id": "cultural-tenant",
        "outputId": "3990ccd1-1932-449f-fa45-e6fa0f96b947"
      },
      "source": [
        "coherence_model = CoherenceModel(topics=topics,\n",
        "    corpus=common_corpus,\n",
        "    dictionary=dct,\n",
        "    coherence='u_mass'\n",
        ")\n",
        "coherence_score = coherence_model.get_coherence_per_topic()\n",
        "coherence_score"
      ],
      "id": "cultural-tenant",
      "execution_count": null,
      "outputs": [
        {
          "output_type": "execute_result",
          "data": {
            "text/plain": [
              "[-9.17107936008472,\n",
              " -0.7324081924379064,\n",
              " -0.7324081924379064,\n",
              " -17.823427587541516]"
            ]
          },
          "metadata": {
            "tags": []
          },
          "execution_count": 75
        }
      ]
    },
    {
      "cell_type": "code",
      "metadata": {
        "colab": {
          "base_uri": "https://localhost:8080/"
        },
        "id": "large-closure",
        "outputId": "441d1092-91a0-49b6-b99c-673420682470"
      },
      "source": [
        "\n",
        "coherence_model.get_coherence_per_topic()"
      ],
      "id": "large-closure",
      "execution_count": null,
      "outputs": [
        {
          "output_type": "execute_result",
          "data": {
            "text/plain": [
              "[-0.7607246985689725, -13.449306461738571, -13.449306461738571]"
            ]
          },
          "metadata": {
            "tags": []
          },
          "execution_count": 48
        }
      ]
    },
    {
      "cell_type": "code",
      "metadata": {
        "id": "worst-madagascar"
      },
      "source": [
        "\n",
        "from collections import defaultdict"
      ],
      "id": "worst-madagascar",
      "execution_count": null,
      "outputs": []
    },
    {
      "cell_type": "code",
      "metadata": {
        "id": "great-wildlife"
      },
      "source": [
        "documents = [\n",
        "    \"Human machine interface for lab abc computer applications\",\n",
        "    \"A survey of user opinion of computer system response time\",\n",
        "    \"The EPS user interface management system\",\n",
        "    \"System and human system engineering testing of EPS\",\n",
        "    \"Relation of user perceived response time to error measurement\",\n",
        "    \"The generation of random binary unordered trees\",\n",
        "    \"The intersection graph of paths in trees\",\n",
        "    \"Graph minors IV Widths of trees and well quasi ordering\",\n",
        "    \"Graph minors A survey\",\n",
        "]\n",
        "\n",
        "# remove common words and tokenize\n",
        "stoplist = set('for a of the and to in'.split())\n",
        "texts = [\n",
        "    [word for word in document.lower().split() if word not in stoplist]\n",
        "    for document in documents\n",
        "]\n",
        "\n",
        "# remove words that appear only once\n",
        "frequency = defaultdict(int)\n",
        "for text in texts:\n",
        "    for token in text:\n",
        "        frequency[token] += 1\n",
        "\n",
        "texts = [\n",
        "    [token for token in text if frequency[token] > 1]\n",
        "    for text in texts\n",
        "]\n",
        "\n",
        "dictionary = corpora.Dictionary(texts)\n",
        "corpus = [dictionary.doc2bow(text) for text in texts]"
      ],
      "id": "great-wildlife",
      "execution_count": null,
      "outputs": []
    },
    {
      "cell_type": "code",
      "metadata": {
        "id": "earned-submission"
      },
      "source": [
        ""
      ],
      "id": "earned-submission",
      "execution_count": null,
      "outputs": []
    },
    {
      "cell_type": "markdown",
      "metadata": {
        "id": "fresh-congress"
      },
      "source": [
        "# Topic Classification"
      ],
      "id": "fresh-congress"
    },
    {
      "cell_type": "code",
      "metadata": {
        "id": "naked-retail"
      },
      "source": [
        "from transformers import pipeline"
      ],
      "id": "naked-retail",
      "execution_count": null,
      "outputs": []
    },
    {
      "cell_type": "code",
      "metadata": {
        "colab": {
          "base_uri": "https://localhost:8080/",
          "height": 311,
          "referenced_widgets": [
            "8323df281f444abe8b2a95a1762b808b",
            "8a482e8625fe45b8928454ae7f8378e5",
            "88a9b77fb35d4baa8dab49ac55baebe0",
            "c23f911cfd254963aaf51bb2aad285f2",
            "ca26ef306b28438899bcb92453e3bfc6",
            "9547aefc582347ec82e5e7f2826b6913",
            "75ac3b1c4e454455bb2f1564341a0914",
            "c17d2a7bd40248b4bdb37f79ad06f600",
            "758269c270b1451ea759a9a408535a60",
            "c401456bc4f849bd8304a70bbd0bb20b",
            "d67f7345e09b41db9fd0d40a9362207f",
            "7e3a332c1cfb4ff4923fbb83850b56ae",
            "4708b727c93c4a4d99ee649c9fc311ae",
            "af9a391757064486b6b585404331f3b4",
            "cfef71cd8ab541a486ec20ebb848ee95",
            "1c06a34f74754338bfc5d30a42820ae8",
            "16e258641fc644b8991a44e81685421a",
            "4672e7a26bb64477baa568ad62711ea9",
            "28eea93f8d044730bfd5b17ee10b3a3c",
            "26b91875e08d42e295dff4517bca7b39",
            "685ec7d584e545bba92bfe253f26b774",
            "c6a06ff828c64b469d9b1559f91b6a60",
            "996e1810ff2a48f7ae3a936cf92760b0",
            "306165f4445d4ae0ac8116317bce90b7",
            "86158c0f520c44a9a93381d57d834106",
            "7b27e850da3f4d9a9257f48ff02a8dbb",
            "779d458fecaf406299fe212e2132e9d8",
            "d83b893f1ce64d779fd4ab5768a12360",
            "94c6eb8183a544cf882322b2e001f955",
            "add8cd2d51b84355aeb0b25a892dcedf",
            "11a67a29bf60432c9b1ac79cea8a019f",
            "113d7757e6874370a34f1cde374acaed",
            "095f5e6e9bea473ea3b72b106a405c12",
            "8ec8bee0ce824fa98302f6c381cbd1b0",
            "f01d0231b5b246b3b253a0835842690b",
            "3d8b736281094286821ad0cfa3bf0cb5",
            "d2af29d564204503950fdfd7457ec647",
            "ea40e91c94724bb99e9d3de938ae66d6",
            "1fcfad6627234100a46b4c62b1cbf9f5",
            "841c515c0a9a4c5a9b7f66c2c7d8e634",
            "8c58258ea4934a919b433ba5b8c71f70",
            "12727945e6bd433b9352df98def2decb",
            "9c36ebbbde0e42179996799f320a6fd5",
            "49220668d9a4442eab20368977eee976",
            "acfa5900cff24ee287cc1a584791529b",
            "cfe0bc01e180482ca05f3ecb46be9396",
            "6ec98bf4af95413ca402630d5d7d5b11",
            "a3f67353e9df4d0692207cf4366de3f7"
          ]
        },
        "id": "dental-calendar",
        "outputId": "e433012e-d73f-4a20-c953-f7dbfd991396"
      },
      "source": [
        "classifier = pipeline(\"zero-shot-classification\")"
      ],
      "id": "dental-calendar",
      "execution_count": null,
      "outputs": [
        {
          "output_type": "display_data",
          "data": {
            "application/vnd.jupyter.widget-view+json": {
              "model_id": "8323df281f444abe8b2a95a1762b808b",
              "version_major": 2,
              "version_minor": 0
            },
            "text/plain": [
              "HBox(children=(FloatProgress(value=0.0, description='Downloading', max=908.0, style=ProgressStyle(description_…"
            ]
          },
          "metadata": {
            "tags": []
          }
        },
        {
          "output_type": "stream",
          "text": [
            "\n"
          ],
          "name": "stdout"
        },
        {
          "output_type": "display_data",
          "data": {
            "application/vnd.jupyter.widget-view+json": {
              "model_id": "758269c270b1451ea759a9a408535a60",
              "version_major": 2,
              "version_minor": 0
            },
            "text/plain": [
              "HBox(children=(FloatProgress(value=0.0, description='Downloading', max=1629486723.0, style=ProgressStyle(descr…"
            ]
          },
          "metadata": {
            "tags": []
          }
        },
        {
          "output_type": "stream",
          "text": [
            "\n"
          ],
          "name": "stdout"
        },
        {
          "output_type": "display_data",
          "data": {
            "application/vnd.jupyter.widget-view+json": {
              "model_id": "16e258641fc644b8991a44e81685421a",
              "version_major": 2,
              "version_minor": 0
            },
            "text/plain": [
              "HBox(children=(FloatProgress(value=0.0, description='Downloading', max=898822.0, style=ProgressStyle(descripti…"
            ]
          },
          "metadata": {
            "tags": []
          }
        },
        {
          "output_type": "stream",
          "text": [
            "\n"
          ],
          "name": "stdout"
        },
        {
          "output_type": "display_data",
          "data": {
            "application/vnd.jupyter.widget-view+json": {
              "model_id": "86158c0f520c44a9a93381d57d834106",
              "version_major": 2,
              "version_minor": 0
            },
            "text/plain": [
              "HBox(children=(FloatProgress(value=0.0, description='Downloading', max=456318.0, style=ProgressStyle(descripti…"
            ]
          },
          "metadata": {
            "tags": []
          }
        },
        {
          "output_type": "stream",
          "text": [
            "\n"
          ],
          "name": "stdout"
        },
        {
          "output_type": "display_data",
          "data": {
            "application/vnd.jupyter.widget-view+json": {
              "model_id": "095f5e6e9bea473ea3b72b106a405c12",
              "version_major": 2,
              "version_minor": 0
            },
            "text/plain": [
              "HBox(children=(FloatProgress(value=0.0, description='Downloading', max=1355863.0, style=ProgressStyle(descript…"
            ]
          },
          "metadata": {
            "tags": []
          }
        },
        {
          "output_type": "stream",
          "text": [
            "\n"
          ],
          "name": "stdout"
        },
        {
          "output_type": "display_data",
          "data": {
            "application/vnd.jupyter.widget-view+json": {
              "model_id": "8c58258ea4934a919b433ba5b8c71f70",
              "version_major": 2,
              "version_minor": 0
            },
            "text/plain": [
              "HBox(children=(FloatProgress(value=0.0, description='Downloading', max=26.0, style=ProgressStyle(description_w…"
            ]
          },
          "metadata": {
            "tags": []
          }
        },
        {
          "output_type": "stream",
          "text": [
            "\n"
          ],
          "name": "stdout"
        }
      ]
    },
    {
      "cell_type": "code",
      "metadata": {
        "id": "tamil-feedback"
      },
      "source": [
        "sequence = \"\"\"\\\n",
        "Israelis will vote again on Tuesday, seeking to end a political \\\n",
        "deadlock that has gripped the country for two years\\\n",
        "\"\"\"\n",
        "candidate_labels = [\"elections\", \"global warming\", \"covid-19\"]\n",
        "\n",
        "classifiaction_scores = classifier(sequence, candidate_labels)['scores']"
      ],
      "id": "tamil-feedback",
      "execution_count": null,
      "outputs": []
    },
    {
      "cell_type": "code",
      "metadata": {
        "colab": {
          "base_uri": "https://localhost:8080/",
          "height": 161
        },
        "id": "designed-study",
        "outputId": "82334518-27cb-450e-90dc-0bb80a782f0a"
      },
      "source": [
        "printmd('**Text to Classify:**')\n",
        "print(sequence)\n",
        "printmd('**Classification Scores:**')\n",
        "for label, score in zip(candidate_labels, classifiaction_scores):\n",
        "  printmd(f'{BULLET} {label} - {score:.2f}')"
      ],
      "id": "designed-study",
      "execution_count": null,
      "outputs": [
        {
          "output_type": "display_data",
          "data": {
            "text/markdown": "**Text to Classify:**",
            "text/plain": [
              "<IPython.core.display.Markdown object>"
            ]
          },
          "metadata": {
            "tags": []
          }
        },
        {
          "output_type": "stream",
          "text": [
            "Israelis will vote again on Tuesday, seeking to end a political deadlock that has gripped the country for two years\n"
          ],
          "name": "stdout"
        },
        {
          "output_type": "display_data",
          "data": {
            "text/markdown": "**Classification Scores:**",
            "text/plain": [
              "<IPython.core.display.Markdown object>"
            ]
          },
          "metadata": {
            "tags": []
          }
        },
        {
          "output_type": "display_data",
          "data": {
            "text/markdown": "&nbsp;&nbsp;&nbsp;&nbsp;➡ elections - 0.93",
            "text/plain": [
              "<IPython.core.display.Markdown object>"
            ]
          },
          "metadata": {
            "tags": []
          }
        },
        {
          "output_type": "display_data",
          "data": {
            "text/markdown": "&nbsp;&nbsp;&nbsp;&nbsp;➡ global warming - 0.06",
            "text/plain": [
              "<IPython.core.display.Markdown object>"
            ]
          },
          "metadata": {
            "tags": []
          }
        },
        {
          "output_type": "display_data",
          "data": {
            "text/markdown": "&nbsp;&nbsp;&nbsp;&nbsp;➡ covid-19 - 0.00",
            "text/plain": [
              "<IPython.core.display.Markdown object>"
            ]
          },
          "metadata": {
            "tags": []
          }
        }
      ]
    },
    {
      "cell_type": "code",
      "metadata": {
        "id": "I8NZkIh-bIqa"
      },
      "source": [
        ""
      ],
      "id": "I8NZkIh-bIqa",
      "execution_count": null,
      "outputs": []
    }
  ]
}